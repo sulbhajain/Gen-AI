{
 "cells": [
  {
   "cell_type": "markdown",
   "id": "273a633870c44821",
   "metadata": {},
   "source": [
    "# M3 Agentic AI - Turning functions into tools\n",
    "\n",
    "## 1. Introduction\n",
    "\n",
    "### 1.1. Lab overview\n",
    "\n",
    "In this ungraded lab, you will create a set of tools with `aisuite` to give to an LLM. You will see how the LLM requests tools to be used and also the LLM choosing certain tools when relevant to its task.\n",
    "\n",
    "### 🎯 1.2 Learning outcome\n",
    "\n",
    "Apply tool-calling design patterns to agent workflows.\n",
    "\n",
    "To achieve this you will give LLMs controlled access to python functions via AISuite, manage parameter passing and execution flow, and validate multi-step outputs generated through tool orchestration.\n"
   ]
  },
  {
   "cell_type": "markdown",
   "id": "a1563aa2",
   "metadata": {},
   "source": [
    "## 2. Setup: Initialize environment and client\n",
    "\n",
    "As in previous labs, you will begin by initializing your environment. You will import several packages now and also later on as you build tools for your LLM."
   ]
  },
  {
   "cell_type": "code",
   "execution_count": 1,
   "id": "b8f871f6aaf97138",
   "metadata": {
    "height": 81
   },
   "outputs": [],
   "source": [
    "import json\n",
    "import display_functions\n",
    "from dotenv import load_dotenv\n",
    "_ = load_dotenv()"
   ]
  },
  {
   "cell_type": "markdown",
   "id": "8tahrf1hrb8",
   "metadata": {},
   "source": [
    "### 2.1 Getting started with AISuite\n",
    "\n",
    "Next, you'll initialize the **AISuite** client that you've seen in previous lessons. Once initialized, this will be your interface for generating agent responses and calling tools.\n",
    "\n",
    "Run the cell below to initialize the client."
   ]
  },
  {
   "cell_type": "code",
   "execution_count": 2,
   "id": "46b5eb69",
   "metadata": {
    "height": 81
   },
   "outputs": [],
   "source": [
    "import aisuite as ai\n",
    "\n",
    "# Create an instance of the AISuite client\n",
    "client = ai.Client()"
   ]
  },
  {
   "cell_type": "markdown",
   "id": "180e0c2061de9a1f",
   "metadata": {},
   "source": [
    "## 3. Build your first tool\n",
    "\n",
    "### 3.1 Defining your function\n",
    "\n",
    "Now that you have set up your environment. It is time to create you first tool. Run the cell below to define a function that returns the current time as a string. Notice that this tool includes a docstring explanation of the functions purpose. This is important for `aisuite` because it will use this to help define the tool to the LLM."
   ]
  },
  {
   "cell_type": "code",
   "execution_count": 3,
   "id": "dd152ba530d241c1",
   "metadata": {
    "height": 132
   },
   "outputs": [],
   "source": [
    "from datetime import datetime\n",
    "\n",
    "def get_current_time():\n",
    "    \"\"\"\n",
    "    Returns the current time as a string.\n",
    "    \"\"\"\n",
    "    return datetime.now().strftime(\"%H:%M:%S\")"
   ]
  },
  {
   "cell_type": "markdown",
   "id": "978e6c11f62f9902",
   "metadata": {},
   "source": [
    "Test out your function to what exactly this function returns.\n",
    "\n",
    "<div style=\"background-color:#ffe4e1; padding:12px; border-radius:6px; color:black;\">\n",
    "  <strong>Note:</strong> The DeepLearning.AI platform uses Greenwich Mean Time (GMT) by default. If you run this function locally, it will return your local time instead.\n",
    "</div>"
   ]
  },
  {
   "cell_type": "code",
   "execution_count": 4,
   "id": "e6bc298b0ccdef8f",
   "metadata": {
    "height": 30
   },
   "outputs": [
    {
     "data": {
      "text/plain": [
       "'17:46:15'"
      ]
     },
     "execution_count": 4,
     "metadata": {},
     "output_type": "execute_result"
    }
   ],
   "source": [
    "get_current_time()"
   ]
  },
  {
   "cell_type": "markdown",
   "id": "8600e33b3867a8c0",
   "metadata": {},
   "source": [
    "Great! Just as expected, the function returns a string that has your current time."
   ]
  },
  {
   "cell_type": "markdown",
   "id": "9ffb95929bd676c1",
   "metadata": {},
   "source": [
    "### 3.2 Turning your function into an LLM tool\n",
    "\n",
    "Now, let's use `aisuite` to pass this tool to an LLM and get a response. To set up your tool, you first set up the `response` from the LLM. Creating a response first requires creating the message structure. The message structure includes the prompt the user asks, as well as a dictionary that represents the conversation history and each message having a `role` (e.g., \"user\", \"assistant\", \"system\") and `content`."
   ]
  },
  {
   "cell_type": "code",
   "execution_count": 5,
   "id": "f584e910501e15c5",
   "metadata": {
    "height": 149
   },
   "outputs": [],
   "source": [
    "# Message structure\n",
    "prompt = \"What time is it?\"\n",
    "messages = [\n",
    "    {\n",
    "        \"role\": \"user\",\n",
    "        \"content\": prompt,\n",
    "    }\n",
    "]"
   ]
  },
  {
   "cell_type": "markdown",
   "id": "992e491cfb3d646f",
   "metadata": {},
   "source": [
    "After defining your message structure you can construct your chat completion. This will make the LLM call for you and return the result. Let's take a look at the parameters in this call.\n",
    "* `model`: The model that will be used\n",
    "* `messages`: The list of messages passed to the LLM\n",
    "* `tools`: The list of tools that the LLM has access to\n",
    "* `max_turns`: This is the maximum amount of messages the LLM will be allowed to make. This can help prevent the LLM from getting into infinite loops and repeatedly calling a tool.\n",
    "\n",
    "Run the cell below to call the LLM and see the response."
   ]
  },
  {
   "cell_type": "code",
   "execution_count": 6,
   "id": "6b80969ce28e0e4",
   "metadata": {
    "height": 166
   },
   "outputs": [
    {
     "name": "stdout",
     "output_type": "stream",
     "text": [
      "The current time is 17:46:19.\n"
     ]
    }
   ],
   "source": [
    "response = client.chat.completions.create(\n",
    "    model=\"openai:gpt-4o\",\n",
    "    messages=messages,\n",
    "    tools=[get_current_time],\n",
    "    max_turns=5\n",
    ")\n",
    "\n",
    "# See the LLM response\n",
    "print(response.choices[0].message.content)"
   ]
  },
  {
   "cell_type": "markdown",
   "id": "c8c2a5ed4108d7f2",
   "metadata": {},
   "source": [
    "And just like that you've given your LLM access to tools! The `aisuite` tool turned your function into a tool that augmented the LLM's knowledge about the world.\n",
    "\n",
    "### 3.3 Taking a closer look at the response\n",
    "While the final response's content was just what was expected, there is actually a lot happening behind the scenes in the `response`. Let's use a helpful `utility` function to take a closer look. `pretty_print_chat_completion` will extract the steps from the response and show you the important parts in an easy to read format."
   ]
  },
  {
   "cell_type": "code",
   "execution_count": 7,
   "id": "10c9e51cac88fa65",
   "metadata": {
    "height": 30
   },
   "outputs": [
    {
     "data": {
      "text/html": [
       "\n",
       "                <div style=\"border-left: 4px solid #444; margin: 10px 0; padding: 10px; background: #f0f0f0;\">\n",
       "                    <strong style=\"color:#222;\">🧠 LLM Action:</strong> <code>get_current_time</code>\n",
       "                    <pre style=\"color:#000; font-size:13px;\">{}</pre>\n",
       "                </div>\n",
       "                \n",
       "            <div style=\"border-left: 4px solid #007bff; margin: 10px 0; padding: 10px; background: #eef6ff;\">\n",
       "                <strong style=\"color:#222;\">🔧 Tool Response:</strong> <code>get_current_time</code>\n",
       "                <pre style=\"color:#000; font-size:13px;\">\"17:46:19\"</pre>\n",
       "            </div>\n",
       "            \n",
       "    <div style=\"border-left: 4px solid #28a745; margin: 20px 0; padding: 10px; background: #eafbe7;\">\n",
       "        <strong style=\"color:#222;\">✅ Final Assistant Message:</strong>\n",
       "        <p style=\"color:#000;\">The current time is 17:46:19.</p>\n",
       "    </div>\n",
       "    \n",
       "        <div style=\"border-left: 4px solid #666; margin: 20px 0; padding: 10px; background: #f8f9fa;\">\n",
       "            <strong style=\"color:#222;\">🧭 Tool Sequence:</strong>\n",
       "            <p style=\"color:#000;\">get_current_time</p>\n",
       "        </div>\n",
       "        "
      ],
      "text/plain": [
       "<IPython.core.display.HTML object>"
      ]
     },
     "metadata": {},
     "output_type": "display_data"
    }
   ],
   "source": [
    "display_functions.pretty_print_chat_completion(response)"
   ]
  },
  {
   "cell_type": "markdown",
   "id": "9a4b55116c952ffe",
   "metadata": {},
   "source": [
    "As you can see, the LLM sent a message to use `get_current_time`. This was executed on your machine and sent back to the LLM. Finally, the LLM, having the full conversation history, used that information to give the final response. `aisuite` handled all the complexities of pulling out the message with the tool call, executing it locally, and then passing the message back to the LLM when you used `max_turns` and passed the function name to the client."
   ]
  },
  {
   "cell_type": "markdown",
   "id": "fe9db47fdc80ce44",
   "metadata": {},
   "source": [
    "### 3.4 Manually defining tools\n",
    "\n",
    "You saw that the docstring provided by our tool helped `aisuite` automatically turn your function into a tool for the LLM. This is very convenient. But what is happening behind the scenes to take your function and make it a tool?\n",
    "\n",
    "Actually, what the tool looks like to the LLM is more complicated. Let's take a look at how the LLM is *actually* given a tool below. Like before, tools are given in a list. But in that list, the tools have set schema that they expect. Within this schema are several important parts:\n",
    "* `name`: The name of the corresponding function that you defined locally\n",
    "* `description`: A description that explains what the function does and is used by the LLM to help it decide when to use it\n",
    "* `parameters`: If your function has parameters, they would also be described with the parameter name and a description of what the parameter should be.\n",
    "\n",
    "Run the cell below to define your tool using the schema."
   ]
  },
  {
   "cell_type": "code",
   "execution_count": 8,
   "id": "ff550177c26bd375",
   "metadata": {
    "height": 149
   },
   "outputs": [],
   "source": [
    "tools = [{\n",
    "    \"type\": \"function\",\n",
    "    \"function\": {\n",
    "        \"name\": \"get_current_time\", # <--- Your functions name\n",
    "        \"description\": \"Returns the current time as a string.\", # <--- a description for the LLM\n",
    "        \"parameters\": {}\n",
    "    }\n",
    "}]"
   ]
  },
  {
   "cell_type": "markdown",
   "id": "6f7b1e984bed9567",
   "metadata": {},
   "source": [
    "In this case where you define a schema, `aisuite` expects you to handle the execution. So you will not use `max_turns`, and instead handle the execution yourself. Let's set this up by defining the response."
   ]
  },
  {
   "cell_type": "code",
   "execution_count": 9,
   "id": "fbc67f61c0b3223",
   "metadata": {
    "height": 115
   },
   "outputs": [],
   "source": [
    "response = client.chat.completions.create(\n",
    "    model=\"openai:gpt-4o\",\n",
    "    messages=messages,\n",
    "    tools=tools, # <-- Your list of tools with get_current_time\n",
    "    # max_turns=5 # <-- When defining tools manually, you must handle calls yourself and cannot use max_turns\n",
    ")"
   ]
  },
  {
   "cell_type": "markdown",
   "id": "dd80f00615e0155b",
   "metadata": {},
   "source": [
    "Now you can take a look at the response from the LLM."
   ]
  },
  {
   "cell_type": "code",
   "execution_count": 10,
   "id": "3dc51e91ef456af1",
   "metadata": {
    "height": 30
   },
   "outputs": [
    {
     "name": "stdout",
     "output_type": "stream",
     "text": [
      "{\n",
      "  \"id\": \"chatcmpl-CO29dOpaUINzLPmGsSouk2L9VgLHD\",\n",
      "  \"choices\": [\n",
      "    {\n",
      "      \"finish_reason\": \"tool_calls\",\n",
      "      \"index\": 0,\n",
      "      \"logprobs\": null,\n",
      "      \"message\": {\n",
      "        \"content\": null,\n",
      "        \"refusal\": null,\n",
      "        \"role\": \"assistant\",\n",
      "        \"annotations\": [],\n",
      "        \"audio\": null,\n",
      "        \"function_call\": null,\n",
      "        \"tool_calls\": [\n",
      "          {\n",
      "            \"id\": \"call_5b7Vu6HrolUDSAajdaXSKIAc\",\n",
      "            \"function\": {\n",
      "              \"arguments\": \"{}\",\n",
      "              \"name\": \"get_current_time\"\n",
      "            },\n",
      "            \"type\": \"function\"\n",
      "          }\n",
      "        ]\n",
      "      }\n",
      "    }\n",
      "  ],\n",
      "  \"created\": 1759844189,\n",
      "  \"model\": \"gpt-4o-2024-08-06\",\n",
      "  \"object\": \"chat.completion\",\n",
      "  \"service_tier\": \"default\",\n",
      "  \"system_fingerprint\": \"fp_cbf1785567\",\n",
      "  \"usage\": {\n",
      "    \"completion_tokens\": 11,\n",
      "    \"prompt_tokens\": 45,\n",
      "    \"total_tokens\": 56,\n",
      "    \"completion_tokens_details\": {\n",
      "      \"accepted_prediction_tokens\": 0,\n",
      "      \"audio_tokens\": 0,\n",
      "      \"reasoning_tokens\": 0,\n",
      "      \"rejected_prediction_tokens\": 0\n",
      "    },\n",
      "    \"prompt_tokens_details\": {\n",
      "      \"audio_tokens\": 0,\n",
      "      \"cached_tokens\": 0\n",
      "    }\n",
      "  }\n",
      "}\n"
     ]
    }
   ],
   "source": [
    "print(json.dumps(response.model_dump(), indent=2, default=str))"
   ]
  },
  {
   "cell_type": "markdown",
   "id": "9b58a2b52461cf12",
   "metadata": {},
   "source": [
    "Notice that in the `response` you can see `tool_calls` under `message`. This response from the LLM is saying that the LLM now wants to call a tool, specifically, `get_current_time`. You can add some logic to handle this situation. Then pass that back to the model and get the final response.\n",
    "\n",
    "Run the cell below to run the function locally and return it to the LLM and receive the final response."
   ]
  },
  {
   "cell_type": "code",
   "execution_count": 11,
   "id": "253e024ffe2eb1dd",
   "metadata": {
    "height": 455
   },
   "outputs": [
    {
     "name": "stdout",
     "output_type": "stream",
     "text": [
      "The current time is 17:46:32.\n"
     ]
    }
   ],
   "source": [
    "response2 = None\n",
    "\n",
    "# Create a condition in case tool_calls is in response object\n",
    "if response.choices[0].message.tool_calls:\n",
    "    # Pull out the specific tool metadata from the response\n",
    "    tool_call = response.choices[0].message.tool_calls[0]\n",
    "    args = json.loads(tool_call.function.arguments)\n",
    "\n",
    "    # Run the tool locally\n",
    "    tool_result = get_current_time()\n",
    "\n",
    "    # Append the result to the messages list\n",
    "    messages.append(response.choices[0].message)\n",
    "    messages.append({\n",
    "        \"role\": \"tool\", \"tool_call_id\": tool_call.id, \"content\": str(tool_result)\n",
    "    })\n",
    "\n",
    "    # Send the list of messages with the newly appended results back to the LLM\n",
    "    response2 = client.chat.completions.create(\n",
    "        model=\"openai:gpt-4o\",\n",
    "        messages=messages,\n",
    "        tools=tools,\n",
    "    )\n",
    "\n",
    "    print(response2.choices[0].message.content)\n"
   ]
  },
  {
   "cell_type": "markdown",
   "id": "99e7c6e57d3a91a",
   "metadata": {},
   "source": [
    "You have now implemented your own manual handling of LLM tool calls. You can choose to have the tools automatically given to your LLM with `max_turns` or write the schema and handle the intermediate parts manually."
   ]
  },
  {
   "cell_type": "markdown",
   "id": "1e3d996f38423fbc",
   "metadata": {},
   "source": [
    "## 4. Giving the LLM more tools\n",
    "\n",
    "Now that you've explored how tools are created and how they are processed locally, let's create a few more tools."
   ]
  },
  {
   "cell_type": "markdown",
   "id": "ezc6wh5emqd",
   "metadata": {},
   "source": [
    "### 4.1 Three new tools\n",
    "\n",
    "You will define three new tools for your LLM:\n",
    "\n",
    "- **Weather Tool (`get_weather_from_ip`)**\n",
    "  Detects the user’s location and returns the current, the high, and the low temperature using external API calls to detect your IP address and then send that to a weather API to get the current weather.\n",
    "\n",
    "- **File Writing Tool (`write_txt_file`)**\n",
    "  Creates a text file with the specified content in your local environment. The function takes two arguments, `file_path` and `content`.\n",
    "\n",
    "- **QR Code Generator (`generate_qr_code`)**\n",
    "  Generates a QR code image from data, with optional image embedding. The function takes three arguments: `data`, `filename`, and `img_path`.\n",
    "\n",
    "Run the cell below to import some new packages and define the tools."
   ]
  },
  {
   "cell_type": "code",
   "execution_count": 12,
   "id": "6c4730a71e2ca836",
   "metadata": {
    "height": 1118
   },
   "outputs": [],
   "source": [
    "import requests\n",
    "import qrcode\n",
    "from qrcode.image.styledpil import StyledPilImage\n",
    "\n",
    "\n",
    "def get_weather_from_ip():\n",
    "    \"\"\"\n",
    "    Gets the current, high, and low temperature in Fahrenheit for the user's\n",
    "    location and returns it to the user.\n",
    "    \"\"\"\n",
    "    # Get location coordinates from the IP address\n",
    "    lat, lon = requests.get('https://ipinfo.io/json').json()['loc'].split(',')\n",
    "\n",
    "    # Set parameters for the weather API call\n",
    "    params = {\n",
    "        \"latitude\": lat,\n",
    "        \"longitude\": lon,\n",
    "        \"current\": \"temperature_2m\",\n",
    "        \"daily\": \"temperature_2m_max,temperature_2m_min\",\n",
    "        \"temperature_unit\": \"fahrenheit\",\n",
    "        \"timezone\": \"auto\"\n",
    "    }\n",
    "\n",
    "    # Get weather data\n",
    "    weather_data = requests.get(\"https://api.open-meteo.com/v1/forecast\", params=params).json()\n",
    "\n",
    "    # Format and return the simplified string\n",
    "    return (\n",
    "        f\"Current: {weather_data['current']['temperature_2m']}°F, \"\n",
    "        f\"High: {weather_data['daily']['temperature_2m_max'][0]}°F, \"\n",
    "        f\"Low: {weather_data['daily']['temperature_2m_min'][0]}°F\"\n",
    "    )\n",
    "\n",
    "# Write a text file\n",
    "def write_txt_file(file_path: str, content: str):\n",
    "    \"\"\"\n",
    "    Write a string into a .txt file (overwrites if exists).\n",
    "    Args:\n",
    "        file_path (str): Destination path.\n",
    "        content (str): Text to write.\n",
    "    Returns:\n",
    "        str: Path to the written file.\n",
    "    \"\"\"\n",
    "    with open(file_path, \"w\", encoding=\"utf-8\") as f:\n",
    "        f.write(content)\n",
    "    return file_path\n",
    "\n",
    "\n",
    "# Create a QR code\n",
    "def generate_qr_code(data: str, filename: str, image_path: str):\n",
    "    \"\"\"Generate a QR code image given data and an image path.\n",
    "\n",
    "    Args:\n",
    "        data: Text or URL to encode\n",
    "        filename: Name for the output PNG file (without extension)\n",
    "        image_path: Path to the image to be used in the QR code\n",
    "    \"\"\"\n",
    "    qr = qrcode.QRCode(error_correction=qrcode.constants.ERROR_CORRECT_H)\n",
    "    qr.add_data(data)\n",
    "\n",
    "    img = qr.make_image(image_factory=StyledPilImage, embedded_image_path=image_path)\n",
    "    output_file = f\"{filename}.png\"\n",
    "    img.save(output_file)\n",
    "\n",
    "    return f\"QR code saved as {output_file} containing: {data[:50]}...\""
   ]
  },
  {
   "cell_type": "markdown",
   "id": "8h3dllrcea7",
   "metadata": {},
   "source": [
    "### 4.2 Using your new tools\n",
    "\n",
    "Now it's time to use your new tools! The `response` will look almost the same, but unlike before, you will pass all the tools to the LLM. The LLM will choose the appropriate tool based on the prompt you send it. Let's start with the `get_weather_from_ip` tool.\n"
   ]
  },
  {
   "cell_type": "code",
   "execution_count": 13,
   "id": "b2bf7520fa04c070",
   "metadata": {
    "height": 302
   },
   "outputs": [
    {
     "data": {
      "text/html": [
       "\n",
       "                <div style=\"border-left: 4px solid #444; margin: 10px 0; padding: 10px; background: #f0f0f0;\">\n",
       "                    <strong style=\"color:#222;\">🧠 LLM Action:</strong> <code>get_weather_from_ip</code>\n",
       "                    <pre style=\"color:#000; font-size:13px;\">{}</pre>\n",
       "                </div>\n",
       "                \n",
       "            <div style=\"border-left: 4px solid #007bff; margin: 10px 0; padding: 10px; background: #eef6ff;\">\n",
       "                <strong style=\"color:#222;\">🔧 Tool Response:</strong> <code>get_weather_from_ip</code>\n",
       "                <pre style=\"color:#000; font-size:13px;\">\"Current: 64.3\\u00b0F, High: 73.4\\u00b0F, Low: 59.1\\u00b0F\"</pre>\n",
       "            </div>\n",
       "            \n",
       "    <div style=\"border-left: 4px solid #28a745; margin: 20px 0; padding: 10px; background: #eafbe7;\">\n",
       "        <strong style=\"color:#222;\">✅ Final Assistant Message:</strong>\n",
       "        <p style=\"color:#000;\">Here’s the weather for your location right now:\n",
       "- Current temperature: 64.3°F  \n",
       "- High today: 73.4°F  \n",
       "- Low today: 59.1°F  \n",
       "\n",
       "Let me know if you need anything else!</p>\n",
       "    </div>\n",
       "    \n",
       "        <div style=\"border-left: 4px solid #666; margin: 20px 0; padding: 10px; background: #f8f9fa;\">\n",
       "            <strong style=\"color:#222;\">🧭 Tool Sequence:</strong>\n",
       "            <p style=\"color:#000;\">get_weather_from_ip</p>\n",
       "        </div>\n",
       "        "
      ],
      "text/plain": [
       "<IPython.core.display.HTML object>"
      ]
     },
     "metadata": {},
     "output_type": "display_data"
    }
   ],
   "source": [
    "prompt = \"Can you get the weather for my location?\"\n",
    "\n",
    "response = client.chat.completions.create(\n",
    "    model=\"openai:o4-mini\",\n",
    "    messages=[{\"role\": \"user\", \"content\": (\n",
    "        prompt\n",
    "    )}],\n",
    "    tools=[\n",
    "        get_current_time,\n",
    "        get_weather_from_ip,\n",
    "        write_txt_file,\n",
    "        generate_qr_code\n",
    "    ],\n",
    "    max_turns=5\n",
    ")\n",
    "\n",
    "display_functions.pretty_print_chat_completion(response)"
   ]
  },
  {
   "cell_type": "markdown",
   "id": "77785871508f0673",
   "metadata": {},
   "source": [
    "You can see that the LLM appropriately chose the correct tool based on the intent of the prompt, even though it had access to other tools.\n",
    "\n",
    "Now, run the cell below to prompt the LLM to create a note for you."
   ]
  },
  {
   "cell_type": "code",
   "execution_count": 14,
   "id": "b5ba16067a18bc31",
   "metadata": {
    "height": 302
   },
   "outputs": [
    {
     "data": {
      "text/html": [
       "\n",
       "                <div style=\"border-left: 4px solid #444; margin: 10px 0; padding: 10px; background: #f0f0f0;\">\n",
       "                    <strong style=\"color:#222;\">🧠 LLM Action:</strong> <code>write_txt_file</code>\n",
       "                    <pre style=\"color:#000; font-size:13px;\">{\n",
       "  \"file_path\": \"reminders.txt\",\n",
       "  \"content\": \"Reminder: Call Daniel tomorrow at 7PM.\"\n",
       "}</pre>\n",
       "                </div>\n",
       "                \n",
       "            <div style=\"border-left: 4px solid #007bff; margin: 10px 0; padding: 10px; background: #eef6ff;\">\n",
       "                <strong style=\"color:#222;\">🔧 Tool Response:</strong> <code>write_txt_file</code>\n",
       "                <pre style=\"color:#000; font-size:13px;\">\"reminders.txt\"</pre>\n",
       "            </div>\n",
       "            \n",
       "    <div style=\"border-left: 4px solid #28a745; margin: 20px 0; padding: 10px; background: #eafbe7;\">\n",
       "        <strong style=\"color:#222;\">✅ Final Assistant Message:</strong>\n",
       "        <p style=\"color:#000;\">I’ve created the file “reminders.txt” with your reminder to call Daniel tomorrow at 7PM. Let me know if there’s anything else you’d like to add or modify!</p>\n",
       "    </div>\n",
       "    \n",
       "        <div style=\"border-left: 4px solid #666; margin: 20px 0; padding: 10px; background: #f8f9fa;\">\n",
       "            <strong style=\"color:#222;\">🧭 Tool Sequence:</strong>\n",
       "            <p style=\"color:#000;\">write_txt_file</p>\n",
       "        </div>\n",
       "        "
      ],
      "text/plain": [
       "<IPython.core.display.HTML object>"
      ]
     },
     "metadata": {},
     "output_type": "display_data"
    }
   ],
   "source": [
    "prompt = \"Can you make a txt note for me called reminders.txt that reminds me to call Daniel tomorrow at 7PM?\"\n",
    "\n",
    "response = client.chat.completions.create(\n",
    "    model=\"openai:o4-mini\",\n",
    "    messages=[{\"role\": \"user\", \"content\": (\n",
    "        prompt\n",
    "    )}],\n",
    "    tools=[\n",
    "        get_current_time,\n",
    "        get_weather_from_ip,\n",
    "        write_txt_file,\n",
    "        generate_qr_code\n",
    "    ],\n",
    "    max_turns=5\n",
    ")\n",
    "\n",
    "display_functions.pretty_print_chat_completion(response)"
   ]
  },
  {
   "cell_type": "markdown",
   "id": "766fdde6b7c7bbd3",
   "metadata": {},
   "source": [
    "And now you have a text file with your reminder in it. You can see that the LLM passed the correct arguments to the tool, the tool ran locally, and then it printed a response that the action was completed. You can even open the text file and read the contents to make sure that it now exists."
   ]
  },
  {
   "cell_type": "code",
   "execution_count": 15,
   "id": "d8cc5b117ae353f7",
   "metadata": {
    "height": 64
   },
   "outputs": [
    {
     "name": "stdout",
     "output_type": "stream",
     "text": [
      "Reminder: Call Daniel tomorrow at 7PM.\n"
     ]
    }
   ],
   "source": [
    "with open('reminders.txt', 'r') as file:\n",
    "    contents = file.read()\n",
    "    print(contents)"
   ]
  },
  {
   "cell_type": "markdown",
   "id": "577609f665c28dfe",
   "metadata": {},
   "source": [
    "Finally, let's use this QR code generation tool to make a neat QR code that takes users to the DeepLearning.AI website.\n",
    "\n",
    "Run the cell below to create the QR code."
   ]
  },
  {
   "cell_type": "code",
   "execution_count": 16,
   "id": "bc7b636883be6612",
   "metadata": {
    "height": 302
   },
   "outputs": [
    {
     "data": {
      "text/html": [
       "\n",
       "                <div style=\"border-left: 4px solid #444; margin: 10px 0; padding: 10px; background: #f0f0f0;\">\n",
       "                    <strong style=\"color:#222;\">🧠 LLM Action:</strong> <code>generate_qr_code</code>\n",
       "                    <pre style=\"color:#000; font-size:13px;\">{\n",
       "  \"data\": \"www.deeplearning.ai\",\n",
       "  \"filename\": \"dl_qr_code\",\n",
       "  \"image_path\": \"dl_logo.jpg\"\n",
       "}</pre>\n",
       "                </div>\n",
       "                \n",
       "            <div style=\"border-left: 4px solid #007bff; margin: 10px 0; padding: 10px; background: #eef6ff;\">\n",
       "                <strong style=\"color:#222;\">🔧 Tool Response:</strong> <code>generate_qr_code</code>\n",
       "                <pre style=\"color:#000; font-size:13px;\">\"QR code saved as dl_qr_code.png containing: www.deeplearning.ai...\"</pre>\n",
       "            </div>\n",
       "            \n",
       "    <div style=\"border-left: 4px solid #28a745; margin: 20px 0; padding: 10px; background: #eafbe7;\">\n",
       "        <strong style=\"color:#222;\">✅ Final Assistant Message:</strong>\n",
       "        <p style=\"color:#000;\">Your QR code has been generated successfully and saved as dl_qr_code.png, embedding the DeepLearning.AI logo and linking to www.deeplearning.ai. Let me know if you need anything else!</p>\n",
       "    </div>\n",
       "    \n",
       "        <div style=\"border-left: 4px solid #666; margin: 20px 0; padding: 10px; background: #f8f9fa;\">\n",
       "            <strong style=\"color:#222;\">🧭 Tool Sequence:</strong>\n",
       "            <p style=\"color:#000;\">generate_qr_code</p>\n",
       "        </div>\n",
       "        "
      ],
      "text/plain": [
       "<IPython.core.display.HTML object>"
      ]
     },
     "metadata": {},
     "output_type": "display_data"
    }
   ],
   "source": [
    "prompt = \"Can you make a QR code for me using my company's logo that goes to www.deeplearning.ai? The logo is located at `dl_logo.jpg`. You can call it dl_qr_code.\"\n",
    "\n",
    "response = client.chat.completions.create(\n",
    "    model=\"openai:o4-mini\",\n",
    "    messages=[{\"role\": \"user\", \"content\": (\n",
    "        prompt\n",
    "    )}],\n",
    "    tools=[\n",
    "        get_current_time,\n",
    "        get_weather_from_ip,\n",
    "        write_txt_file,\n",
    "        generate_qr_code\n",
    "    ],\n",
    "    max_turns=5\n",
    ")\n",
    "\n",
    "display_functions.pretty_print_chat_completion(response)"
   ]
  },
  {
   "cell_type": "markdown",
   "id": "81ddab05bed5de17",
   "metadata": {},
   "source": [
    "The LLM also successfully passed the correct arguments to the function and then that information was used to run your function and create the QR code. Take a look at the QR by running the cell below and try it out to see if it works by taking you to the DeepLearning.AI website."
   ]
  },
  {
   "cell_type": "code",
   "execution_count": 17,
   "id": "594f9927d4ea42c9",
   "metadata": {
    "height": 81
   },
   "outputs": [
    {
     "data": {
      "image/png": "[encoded data removed]",
      "text/plain": [
       "<IPython.core.display.Image object>"
      ]
     },
     "execution_count": 17,
     "metadata": {},
     "output_type": "execute_result"
    }
   ],
   "source": [
    "from IPython.display import Image, display\n",
    "\n",
    "# Display image directly\n",
    "Image('dl_qr_code.png')"
   ]
  },
  {
   "cell_type": "markdown",
   "id": "98fd48a608c1625d",
   "metadata": {},
   "source": [
    "### 4.3 Using multiple tools at once\n",
    "\n",
    "Lastly, it's important to remember that LLMs can use multiple tools at and go through a sequence of tool calls to accomplish multiple things. Let's use your tools and examine the `response` to see what happens. You will use a complex prompt,\n",
    "\n",
    "> Can you help me create a qr code that goes to www.deeplearning.com from the image dl_logo.jpg? Also write me a txt note with the current weather please.\n",
    "\n",
    "This prompt requires a good amount of logic to understand what to call and when. For example, although you ask it to write a text note first and then describe the contents, the LLM will need that information first to pass it to the text note. If the LLM asked to use `write_txt_file` first, it would not have the information from `get_weather_from_ip`. This is a good example of the power of LLMs to parse natural language and use appropriate tools in the right order to accomplish a wide variety of tasks.\n",
    "\n",
    "<div style=\"background-color: #ffe4e1; padding: 12px; border-radius: 6px; color: black;\">\n",
    "\n",
    "<h4>🔍 What to Notice:</h4>\n",
    "\n",
    "<ul>\n",
    "  <li>The LLM <b>automatically chooses</b> which tool to use based on the user request</li>\n",
    "  <li><b>Parameters are inferred</b> from the user's message (like file names, content, URLs)</li>\n",
    "  <li>Each tool <b>returns information</b> that the LLM incorporates into its response</li>\n",
    "  <li><b>No-parameter tools</b> like weather and time are perfect for quick information requests</li>\n",
    "  <li>The conversation feels <b>natural</b> despite complex operations happening behind the scenes</li>\n",
    "</ul>\n",
    "\n",
    "</div>"
   ]
  },
  {
   "cell_type": "code",
   "execution_count": 18,
   "id": "74a9189f0d08009",
   "metadata": {
    "height": 302
   },
   "outputs": [
    {
     "data": {
      "text/html": [
       "\n",
       "                <div style=\"border-left: 4px solid #444; margin: 10px 0; padding: 10px; background: #f0f0f0;\">\n",
       "                    <strong style=\"color:#222;\">🧠 LLM Action:</strong> <code>get_weather_from_ip</code>\n",
       "                    <pre style=\"color:#000; font-size:13px;\">{}</pre>\n",
       "                </div>\n",
       "                \n",
       "            <div style=\"border-left: 4px solid #007bff; margin: 10px 0; padding: 10px; background: #eef6ff;\">\n",
       "                <strong style=\"color:#222;\">🔧 Tool Response:</strong> <code>get_weather_from_ip</code>\n",
       "                <pre style=\"color:#000; font-size:13px;\">\"Current: 64.3\\u00b0F, High: 73.4\\u00b0F, Low: 59.1\\u00b0F\"</pre>\n",
       "            </div>\n",
       "            \n",
       "                <div style=\"border-left: 4px solid #444; margin: 10px 0; padding: 10px; background: #f0f0f0;\">\n",
       "                    <strong style=\"color:#222;\">🧠 LLM Action:</strong> <code>generate_qr_code</code>\n",
       "                    <pre style=\"color:#000; font-size:13px;\">{\n",
       "  \"data\": \"www.deeplearning.com\",\n",
       "  \"filename\": \"deeplearning_qr\",\n",
       "  \"image_path\": \"dl_logo.jpg\"\n",
       "}</pre>\n",
       "                </div>\n",
       "                \n",
       "            <div style=\"border-left: 4px solid #007bff; margin: 10px 0; padding: 10px; background: #eef6ff;\">\n",
       "                <strong style=\"color:#222;\">🔧 Tool Response:</strong> <code>generate_qr_code</code>\n",
       "                <pre style=\"color:#000; font-size:13px;\">\"QR code saved as deeplearning_qr.png containing: www.deeplearning.com...\"</pre>\n",
       "            </div>\n",
       "            \n",
       "                <div style=\"border-left: 4px solid #444; margin: 10px 0; padding: 10px; background: #f0f0f0;\">\n",
       "                    <strong style=\"color:#222;\">🧠 LLM Action:</strong> <code>write_txt_file</code>\n",
       "                    <pre style=\"color:#000; font-size:13px;\">{\n",
       "  \"file_path\": \"weather_note.txt\",\n",
       "  \"content\": \"Current: 64.3\\u00b0F, High: 73.4\\u00b0F, Low: 59.1\\u00b0F\"\n",
       "}</pre>\n",
       "                </div>\n",
       "                \n",
       "            <div style=\"border-left: 4px solid #007bff; margin: 10px 0; padding: 10px; background: #eef6ff;\">\n",
       "                <strong style=\"color:#222;\">🔧 Tool Response:</strong> <code>write_txt_file</code>\n",
       "                <pre style=\"color:#000; font-size:13px;\">\"weather_note.txt\"</pre>\n",
       "            </div>\n",
       "            \n",
       "    <div style=\"border-left: 4px solid #28a745; margin: 20px 0; padding: 10px; background: #eafbe7;\">\n",
       "        <strong style=\"color:#222;\">✅ Final Assistant Message:</strong>\n",
       "        <p style=\"color:#000;\">I’ve created the QR code deeplearning_qr.png pointing to www.deeplearning.com (using dl_logo.jpg as the background), and I’ve written a text note file weather_note.txt with the current weather. Let me know if you need anything else!</p>\n",
       "    </div>\n",
       "    \n",
       "        <div style=\"border-left: 4px solid #666; margin: 20px 0; padding: 10px; background: #f8f9fa;\">\n",
       "            <strong style=\"color:#222;\">🧭 Tool Sequence:</strong>\n",
       "            <p style=\"color:#000;\">get_weather_from_ip → generate_qr_code → write_txt_file</p>\n",
       "        </div>\n",
       "        "
      ],
      "text/plain": [
       "<IPython.core.display.HTML object>"
      ]
     },
     "metadata": {},
     "output_type": "display_data"
    }
   ],
   "source": [
    "prompt = \"Can you help me create a qr code that goes to www.deeplearning.com from the image dl_logo.jpg? Also write me a txt note with the current weather please.\"\n",
    "\n",
    "response = client.chat.completions.create(\n",
    "    model=\"openai:o4-mini\",\n",
    "    messages=[{\"role\": \"user\", \"content\": (\n",
    "        prompt\n",
    "    )}],\n",
    "    tools=[\n",
    "        get_weather_from_ip,\n",
    "        get_current_time,\n",
    "        write_txt_file,\n",
    "        generate_qr_code\n",
    "    ],\n",
    "    max_turns=10\n",
    ")\n",
    "\n",
    "display_functions.pretty_print_chat_completion(response)"
   ]
  },
  {
   "cell_type": "markdown",
   "id": "dd901a497f246aa0",
   "metadata": {},
   "source": [
    "And just like that, you see from the tool sequence that it called the tools in the correct order to accomplish the task, but responded in the order that you requested it."
   ]
  },
  {
   "cell_type": "markdown",
   "id": "d79b92e4",
   "metadata": {},
   "source": [
    "### Model Options\n",
    "\n",
    "You can experiment with different OpenAI models when running these tool-calling workflows. Each model offers a different balance of capability, cost, and speed:\n",
    "\n",
    "- **`openai:gpt-4o`** — optimized for reasoning and speed\n",
    "- **`openai:gpt-4.1`** — strong reasoning performance, good for complex tasks\n",
    "- **`openai:gpt-4.1-mini`** — lighter, faster, and cheaper than full GPT-4.1\n",
    "- **`openai:gpt-3.5-turbo`** — efficient for simpler tasks and quick iterations\n",
    "\n",
    "Choosing a model depends on your goals:\n",
    "- Use smaller models for fast, low-cost prototyping\n",
    "- Switch to stronger models when tasks require better reasoning or multi-step orchestration\n",
    "\n",
    "\n",
    "### Final Takeaways\n",
    "\n",
    "- Tool calling lets LLMs go beyond text generation—they can now use functions as part of their reasoning.\n",
    "- Clear, well-documented functions (with precise docstrings) help the model know when and how to use each tool.\n",
    "- AISuite handles the complexity of translating python functions into tool schemas and orchestrating multi-step workflows.\n",
    "- Choosing the right model matters: smaller models are faster and cheaper for simple tasks, while stronger models are better for reasoning-heavy workflows.\n",
    "- Watching the conversation flow (prompts, tool calls, results, final response) is essential for debugging and improving agentic behaviors.\n",
    "\n",
    "With these elements in place, you now have the foundation to design agents that combine LLM reasoning with external tools to complete more complex tasks.\n"
   ]
  },
  {
   "cell_type": "markdown",
   "id": "cb4c86d3",
   "metadata": {},
   "source": [
    "<div style=\"border:1px solid #22c55e; border-left:6px solid #16a34a; background:#dcfce7; border-radius:6px; padding:14px 16px; color:#064e3b; font-family:system-ui,-apple-system,Segoe UI,Roboto,Ubuntu,Cantarell,Noto Sans,sans-serif;\">\n",
    "\n",
    "🎉 <strong>Congratulations!</strong>\n",
    "\n",
    "You’ve completed the lab on **turning functions into tools** with AISuite.  \n",
    "Along the way, <strong>you</strong> exposed Python functions as tools, let the LLM choose and call them, and inspected multi-step tool orchestration.\n",
    "\n",
    "With these skills, <strong>you</strong> can design agentic workflows that combine LLM reasoning with real actions—reliable, auditable, and easy to extend. 🌟\n",
    "\n",
    "</div>\n"
   ]
  }
 ],
 "metadata": {
  "kernelspec": {
   "display_name": "Python 3 (ipykernel)",
   "language": "python",
   "name": "python3"
  },
  "language_info": {
   "codemirror_mode": {
    "name": "ipython",
    "version": 3
   },
   "file_extension": ".py",
   "mimetype": "text/x-python",
   "name": "python",
   "nbconvert_exporter": "python",
   "pygments_lexer": "ipython3",
   "version": "3.11.13"
  }
 },
 "nbformat": 4,
 "nbformat_minor": 5
}
