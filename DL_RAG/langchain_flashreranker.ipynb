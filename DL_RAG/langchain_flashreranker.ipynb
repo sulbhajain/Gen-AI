{
 "cells": [
  {
   "cell_type": "code",
   "execution_count": null,
   "id": "e69a2d09",
   "metadata": {},
   "outputs": [
    {
     "name": "stdout",
     "output_type": "stream",
     "text": [
      "Note: you may need to restart the kernel to use updated packages.\n",
      "\u001b[31mERROR: Could not find a version that satisfies the requirement faiss (from versions: none)\u001b[0m\u001b[31m\n",
      "\u001b[0m\u001b[31mERROR: No matching distribution found for faiss\u001b[0m\u001b[31m\n",
      "\u001b[0mNote: you may need to restart the kernel to use updated packages.\n",
      "Note: you may need to restart the kernel to use updated packages.\n"
     ]
    }
   ],
   "source": [
    "%pip install --upgrade --quiet  flashrank\n",
    "# %pip install --upgrade --quiet  faiss\n",
    "\n",
    "# OR  (depending on Python version)\n",
    "\n",
    "%pip install --upgrade --quiet  faiss_cpu"
   ]
  },
  {
   "cell_type": "code",
   "execution_count": 6,
   "id": "94417cb4",
   "metadata": {},
   "outputs": [],
   "source": [
    "# Helper function for printing docs\n",
    "\n",
    "\n",
    "def pretty_print_docs(docs):\n",
    "    print(\n",
    "        f\"\\n{'-' * 100}\\n\".join(\n",
    "            [\n",
    "                f\"Document {i + 1}:\\n\\n{d.page_content}\\nMetadata: {d.metadata}\"\n",
    "                for i, d in enumerate(docs)\n",
    "            ]\n",
    "        )\n",
    "    )"
   ]
  },
  {
   "cell_type": "code",
   "execution_count": 13,
   "id": "42b41c39",
   "metadata": {},
   "outputs": [],
   "source": [
    "import getpass\n",
    "import os\n",
    "\n",
    "os.environ[\"OPENAI_API_KEY\"] = getpass.getpass()"
   ]
  },
  {
   "cell_type": "code",
   "execution_count": 20,
   "id": "32c7d495",
   "metadata": {},
   "outputs": [
    {
     "name": "stderr",
     "output_type": "stream",
     "text": [
      "INFO:httpx:HTTP Request: POST https://api.openai.com/v1/embeddings \"HTTP/1.1 200 OK\"\n",
      "INFO:httpx:HTTP Request: POST https://api.openai.com/v1/embeddings \"HTTP/1.1 200 OK\"\n"
     ]
    },
    {
     "name": "stdout",
     "output_type": "stream",
     "text": [
      "Document 1:\n",
      "\n",
      "of American possibilities, building an economy from the middle out and the bottom up, not the top down, investing in all America, in all Americans, to make sure everyone has a fair shot and we leave no one, no one behind. The pandemic no longer controls our lives. The vaccines that saved us from Covid are now being used to beat cancer. 5/26 https://www.nytimes.com/2024/03/08/us/politics/state-of-the-union-transcript-biden.html3/8/24, 6:43 PM Biden’s 2024 State of the Union Address: Read the\n",
      "Metadata: {'source': 'how_to/state.txt', 'id': 23}\n",
      "----------------------------------------------------------------------------------------------------\n",
      "Document 2:\n",
      "\n",
      "6:43 PM Biden’s 2024 State of the Union Address: Read the Full Transcript - The New York Times Turning setback into comeback — that’s what America does. That’s what America does. Folks, I inherited an economy that was on the brink. Now our economy is literally the envy of the world. Fifteen million new jobs in just three years — a record, a record. Unemployment at 50-year lows. A record 16 million Americans are starting small businesses, and each one is a literal act of hope. With historic job\n",
      "Metadata: {'source': 'how_to/state.txt', 'id': 24}\n",
      "----------------------------------------------------------------------------------------------------\n",
      "Document 3:\n",
      "\n",
      "to American people: the duty to care. I think that’s unforgivable. I came to office determined to get us through one of the toughest periods in the nation’s history. We have. It doesn’t make new, news — in a thousand cities and towns, the American people are writing the greatest comeback story never told. So let’s tell the story here. Tell it here and now. America’s comeback is building a future of American possibilities, building an economy from the middle out and the bottom up, not the top\n",
      "Metadata: {'source': 'how_to/state.txt', 'id': 22}\n",
      "----------------------------------------------------------------------------------------------------\n",
      "Document 4:\n",
      "\n",
      "jobs — right here in America where they belong. And it takes time, but the American people are beginning to feel it. Consumer studies show consumer confidence is soaring. “Buy America” has been the law of the land since the 1930s. Past administrations including my predecessor, including some Democrats as well in the past, failed to buy American. Not anymore. On my watch, federal projects that you fund, like helping build American roads, bridges and highways, will be made with American products\n",
      "Metadata: {'source': 'how_to/state.txt', 'id': 27}\n",
      "----------------------------------------------------------------------------------------------------\n",
      "Document 5:\n",
      "\n",
      "Americans are starting small businesses, and each one is a literal act of hope. With historic job growth and small business growth for Black, Hispanic and Asian Americans, 800,000 new manufacturing jobs in America and counting. Where is it written that we can’t be the manufacturing capital of the world? We are. We will. More people have health insurance today; more people have health insurance today than ever before. The racial wealth gap is the smallest it’s been in 20 years. Wages keep going\n",
      "Metadata: {'source': 'how_to/state.txt', 'id': 25}\n",
      "----------------------------------------------------------------------------------------------------\n",
      "Document 6:\n",
      "\n",
      "fund, like helping build American roads, bridges and highways, will be made with American products and built by American workers — creating good-paying American jobs. 6/26 https://www.nytimes.com/2024/03/08/us/politics/state-of-the-union-transcript-biden.html3/8/24, 6:43 PM Biden’s 2024 State of the Union Address: Read the Full Transcript - The New York Times And thanks to our CHIPS and Science Act, the United States is investing more in research and development than ever before. During the\n",
      "Metadata: {'source': 'how_to/state.txt', 'id': 28}\n",
      "----------------------------------------------------------------------------------------------------\n",
      "Document 7:\n",
      "\n",
      "when a Republican president named Ronald Reagan thundered, “Mr. Gorbachev, tear down this wall.” Now, now my predecessor, a former Republican president, tells Putin, quote, do whatever the hell you want. That’s a quote. A former president actually said that, bowing down to a Russian leader. I think it’s outrageous, it’s dangerous, and it’s unacceptable. America is a founding member of NATO, the military alliance of democratic nations created after World War II to prevent, to prevent war and\n",
      "Metadata: {'source': 'how_to/state.txt', 'id': 6}\n",
      "----------------------------------------------------------------------------------------------------\n",
      "Document 8:\n",
      "\n",
      "6:43 PM Biden’s 2024 State of the Union Address: Read the Full Transcript - The New York Times My message to President Putin, who I have known for a long time, is simple: We will not walk away. We will not bow down. I will not bow down. In a literal sense, history is watching. History is watching. Just like history watched three years ago on Jan. 6, when insurrectionists stormed this very Capitol and placed a dagger to the throat of American democracy. Many of you were here on that darkest of\n",
      "Metadata: {'source': 'how_to/state.txt', 'id': 9}\n",
      "----------------------------------------------------------------------------------------------------\n",
      "Document 9:\n",
      "\n",
      "6:43 PM Biden’s 2024 State of the Union Address: Read the Full Transcript - The New York Times I pointed out to them as vice president. I met with over — I think it was 182 of those folks. Don’t hold me to the exact number. And I asked them what they need the most, the C.E.O.s. And you have had the same experience on the both sides of the aisle: They said a better educated work force. So I looked at them, and I say, I come from Delaware. DuPont used to be eighthlargest corporation in the world.\n",
      "Metadata: {'source': 'how_to/state.txt', 'id': 54}\n",
      "----------------------------------------------------------------------------------------------------\n",
      "Document 10:\n",
      "\n",
      "Full Transcript of Bidenʼs State of the Union Speech In an address that previewed the issues his campaign will focus on in the November election, President Biden made the case for a second term. By The New York Times March 8, 2024 Updated 10:19 a.m. ET Sign up for the On Politics newsletter.  Your guide to the 2024 elections. Get it sent to your inbox. President Biden delivered his annual State of the Union address on Thursday to a joint session of Congress. The following is a transcript of his\n",
      "Metadata: {'source': 'how_to/state.txt', 'id': 0}\n",
      "----------------------------------------------------------------------------------------------------\n",
      "Document 11:\n",
      "\n",
      "the country was hit by the worst pandemic and the worst economic crisis in a century. Remember the fear, record losses. Remember the spikes in crime and the murder rate, raging virus that took more than one million American lives of loved ones, millions left behind, a mental health crisis of isolation and loneliness. A president, my predecessor, failed the most basic presidential duty that he owes to American people: the duty to care. I think that’s unforgivable. I came to office determined to\n",
      "Metadata: {'source': 'how_to/state.txt', 'id': 21}\n",
      "----------------------------------------------------------------------------------------------------\n",
      "Document 12:\n",
      "\n",
      "Providing affordable high-speed internet for every American no matter where you live: urban, suburban or rural communities — in red states and blue states. Record investments in tribal communities. Because of my investment in family farms, because of my investment in family farms led by my secretary of agriculture who knows more about this than anybody I know, we’re better able to stay in the family for those farms, and their children and grandchildren won’t have to leave home to make a living.\n",
      "Metadata: {'source': 'how_to/state.txt', 'id': 32}\n",
      "----------------------------------------------------------------------------------------------------\n",
      "Document 13:\n",
      "\n",
      "the Union address on Thursday to a joint session of Congress. The following is a transcript of his remarks, as recorded by The New York Times. Good evening. Good evening. If I were smart, I would go home now. Mr. Speaker, Madam Vice President, members of Congress, my fellow Americans, in January 1941, Franklin Roosevelt came to this chamber to speak to the nation, and he said, “I address you in a moment, unprecedented in the history of the union.” Hitler was on the march. War was raging in\n",
      "Metadata: {'source': 'how_to/state.txt', 'id': 1}\n",
      "----------------------------------------------------------------------------------------------------\n",
      "Document 14:\n",
      "\n",
      "Read the Full Transcript - The New York Times What makes our moment rare is that freedom and democracy are under attack both at home and overseas at the very same time. Overseas, Putin of Russia is on the march, invading Ukraine and sowing chaos throughout Europe and beyond. If anybody in this room thinks Putin will stop at Ukraine, I assure you, he will not. But Ukraine, Ukraine can stop Putin. Ukraine can stop Putin, if we stand with Ukraine and provide the weapons they need to defend itself.\n",
      "Metadata: {'source': 'how_to/state.txt', 'id': 4}\n",
      "----------------------------------------------------------------------------------------------------\n",
      "Document 15:\n",
      "\n",
      "in a moment, unprecedented in the history of the union.” Hitler was on the march. War was raging in Europe. President Roosevelt’s purpose was to wake up Congress and alert the American people that this was no ordinary time. Freedom and democracy were under assault in the world. Tonight, I come to the same chamber to address the nation. Now, it’s we who face unprecedented moment in the history of the union. And yes, my purpose tonight is to wake up the Congress and alert the American people that\n",
      "Metadata: {'source': 'how_to/state.txt', 'id': 2}\n",
      "----------------------------------------------------------------------------------------------------\n",
      "Document 16:\n",
      "\n",
      "more likely to finish high school and go on to earn a two- or four-year degree no matter what their background is. I met a year and a half ago with the leaders of a business round table. They were mad that I — they were angry — well, they were discussing why I wanted to spend money on education. 11/26 https://www.nytimes.com/2024/03/08/us/politics/state-of-the-union-transcript-biden.html3/8/24, 6:43 PM Biden’s 2024 State of the Union Address: Read the Full Transcript - The New York Times I\n",
      "Metadata: {'source': 'how_to/state.txt', 'id': 53}\n",
      "----------------------------------------------------------------------------------------------------\n",
      "Document 17:\n",
      "\n",
      "here in America, creating tens of thousands of jobs, many of those jobs paying $100,000 a year and don’t require a college degree. In fact, my policies have attracted $650 billion in private-sector investment, in clean energy, advanced manufacturing, creating tens of thousands of jobs here in America. And thanks to our bipartisan infrastructure law, 46,000 new projects have been announced all across your communities. And by the way, I notice, some of you strongly voted against it are there\n",
      "Metadata: {'source': 'how_to/state.txt', 'id': 30}\n",
      "----------------------------------------------------------------------------------------------------\n",
      "Document 18:\n",
      "\n",
      "It’s because of you that tonight we can proudly say the state of our union is strong and getting stronger. 8/26 https://www.nytimes.com/2024/03/08/us/politics/state-of-the-union-transcript-biden.html3/8/24, 6:43 PM Biden’s 2024 State of the Union Address: Read the Full Transcript - The New York Times Tonight, I want to talk about the future of possibilities that we can build together, a future where the days of trickle-down economics are over, and the wealthy and biggest corporations no longer\n",
      "Metadata: {'source': 'how_to/state.txt', 'id': 38}\n",
      "----------------------------------------------------------------------------------------------------\n",
      "Document 19:\n",
      "\n",
      "for those farms, and their children and grandchildren won’t have to leave home to make a living. It’s transformative. 7/26 https://www.nytimes.com/2024/03/08/us/politics/state-of-the-union-transcript-biden.html3/8/24, 6:43 PM Biden’s 2024 State of the Union Address: Read the Full Transcript - The New York Times A great comeback story is Belvidere, Ill., home to an auto plant for nearly 60 years. Before I came to office the plant was on its way to shutting down. Thousands of workers feared for\n",
      "Metadata: {'source': 'how_to/state.txt', 'id': 33}\n",
      "----------------------------------------------------------------------------------------------------\n",
      "Document 20:\n",
      "\n",
      "again, Wall Street didn’t build America. They’re not bad guys, they didn’t build it though. The middle class built this country. And unions built the middle class. I say to the American people, when America gets knocked down, we get back up. We keep going. That’s America! That’s you, the American people. It’s because of you America is coming back. It’s because of you, our future is brighter. It’s because of you that tonight we can proudly say the state of our union is strong and getting\n",
      "Metadata: {'source': 'how_to/state.txt', 'id': 37}\n"
     ]
    }
   ],
   "source": [
    "from langchain_community.document_loaders import TextLoader\n",
    "from langchain_community.vectorstores import FAISS\n",
    "from langchain_openai import OpenAIEmbeddings\n",
    "from langchain_text_splitters import RecursiveCharacterTextSplitter\n",
    "\n",
    "documents = TextLoader(\n",
    "    \"how_to/state.txt\",\n",
    ").load()\n",
    "text_splitter = RecursiveCharacterTextSplitter(chunk_size=500, chunk_overlap=100)\n",
    "texts = text_splitter.split_documents(documents)\n",
    "for idx, text in enumerate(texts):\n",
    "    text.metadata[\"id\"] = idx\n",
    "\n",
    "embedding = OpenAIEmbeddings(model=\"text-embedding-ada-002\")\n",
    "retriever = FAISS.from_documents(texts, embedding).as_retriever(search_kwargs={\"k\": 20})\n",
    "\n",
    "query = \"What did the president say about American possibilities\"\n",
    "docs = retriever.invoke(query)\n",
    "pretty_print_docs(docs)"
   ]
  },
  {
   "cell_type": "code",
   "execution_count": null,
   "id": "22bbd662",
   "metadata": {},
   "outputs": [],
   "source": []
  },
  {
   "cell_type": "markdown",
   "id": "30cd94fc",
   "metadata": {},
   "source": [
    "###  Flash Ranker "
   ]
  },
  {
   "cell_type": "code",
   "execution_count": 21,
   "id": "3a84a2de",
   "metadata": {},
   "outputs": [
    {
     "name": "stderr",
     "output_type": "stream",
     "text": [
      "INFO:httpx:HTTP Request: POST https://api.openai.com/v1/embeddings \"HTTP/1.1 200 OK\"\n"
     ]
    },
    {
     "name": "stdout",
     "output_type": "stream",
     "text": [
      "[23, 38, 2]\n"
     ]
    }
   ],
   "source": [
    "from langchain.retrievers import ContextualCompressionRetriever\n",
    "from langchain_community.document_compressors import FlashrankRerank\n",
    "from langchain_openai import ChatOpenAI\n",
    "\n",
    "llm = ChatOpenAI(temperature=0)\n",
    "\n",
    "compressor = FlashrankRerank()\n",
    "compression_retriever = ContextualCompressionRetriever(\n",
    "    base_compressor=compressor, base_retriever=retriever\n",
    ")\n",
    "\n",
    "compressed_docs = compression_retriever.invoke(\n",
    "    \"What did the president say about American possibilities\"\n",
    ")\n",
    "print([doc.metadata[\"id\"] for doc in compressed_docs])"
   ]
  },
  {
   "cell_type": "code",
   "execution_count": 22,
   "id": "6e2760f2",
   "metadata": {},
   "outputs": [
    {
     "name": "stdout",
     "output_type": "stream",
     "text": [
      "Document 1:\n",
      "\n",
      "of American possibilities, building an economy from the middle out and the bottom up, not the top down, investing in all America, in all Americans, to make sure everyone has a fair shot and we leave no one, no one behind. The pandemic no longer controls our lives. The vaccines that saved us from Covid are now being used to beat cancer. 5/26 https://www.nytimes.com/2024/03/08/us/politics/state-of-the-union-transcript-biden.html3/8/24, 6:43 PM Biden’s 2024 State of the Union Address: Read the\n",
      "Metadata: {'id': 23, 'relevance_score': np.float32(0.99813175), 'source': 'how_to/state.txt'}\n",
      "----------------------------------------------------------------------------------------------------\n",
      "Document 2:\n",
      "\n",
      "It’s because of you that tonight we can proudly say the state of our union is strong and getting stronger. 8/26 https://www.nytimes.com/2024/03/08/us/politics/state-of-the-union-transcript-biden.html3/8/24, 6:43 PM Biden’s 2024 State of the Union Address: Read the Full Transcript - The New York Times Tonight, I want to talk about the future of possibilities that we can build together, a future where the days of trickle-down economics are over, and the wealthy and biggest corporations no longer\n",
      "Metadata: {'id': 38, 'relevance_score': np.float32(0.99546283), 'source': 'how_to/state.txt'}\n",
      "----------------------------------------------------------------------------------------------------\n",
      "Document 3:\n",
      "\n",
      "in a moment, unprecedented in the history of the union.” Hitler was on the march. War was raging in Europe. President Roosevelt’s purpose was to wake up Congress and alert the American people that this was no ordinary time. Freedom and democracy were under assault in the world. Tonight, I come to the same chamber to address the nation. Now, it’s we who face unprecedented moment in the history of the union. And yes, my purpose tonight is to wake up the Congress and alert the American people that\n",
      "Metadata: {'id': 2, 'relevance_score': np.float32(0.9936605), 'source': 'how_to/state.txt'}\n"
     ]
    }
   ],
   "source": [
    "pretty_print_docs(compressed_docs)"
   ]
  },
  {
   "cell_type": "markdown",
   "id": "6ad64851",
   "metadata": {},
   "source": [
    "### QA re-ranking with Flashrank"
   ]
  },
  {
   "cell_type": "code",
   "execution_count": 23,
   "id": "1b154ec2",
   "metadata": {},
   "outputs": [],
   "source": [
    "from langchain.chains import RetrievalQA\n",
    "\n",
    "chain = RetrievalQA.from_chain_type(llm=llm, retriever=compression_retriever)"
   ]
  },
  {
   "cell_type": "code",
   "execution_count": 24,
   "id": "d8225e60",
   "metadata": {},
   "outputs": [
    {
     "name": "stderr",
     "output_type": "stream",
     "text": [
      "INFO:httpx:HTTP Request: POST https://api.openai.com/v1/embeddings \"HTTP/1.1 200 OK\"\n",
      "INFO:httpx:HTTP Request: POST https://api.openai.com/v1/chat/completions \"HTTP/1.1 200 OK\"\n"
     ]
    },
    {
     "data": {
      "text/plain": [
       "{'query': 'What did the president say about American possibilities',\n",
       " 'result': 'The president mentioned building an economy from the middle out and the bottom up, investing in all Americans to ensure everyone has a fair shot, and leaving no one behind. He also talked about the future of possibilities that can be built together.'}"
      ]
     },
     "execution_count": 24,
     "metadata": {},
     "output_type": "execute_result"
    }
   ],
   "source": [
    "chain.invoke(query)"
   ]
  },
  {
   "cell_type": "code",
   "execution_count": null,
   "id": "49127d5b",
   "metadata": {},
   "outputs": [],
   "source": []
  }
 ],
 "metadata": {
  "kernelspec": {
   "display_name": "Python 3",
   "language": "python",
   "name": "python3"
  },
  "language_info": {
   "codemirror_mode": {
    "name": "ipython",
    "version": 3
   },
   "file_extension": ".py",
   "mimetype": "text/x-python",
   "name": "python",
   "nbconvert_exporter": "python",
   "pygments_lexer": "ipython3",
   "version": "3.12.0"
  }
 },
 "nbformat": 4,
 "nbformat_minor": 5
}
