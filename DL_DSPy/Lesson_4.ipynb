{
 "cells": [
  {
   "cell_type": "markdown",
   "id": "8203e759-9961-4ab9-91b3-231c89ef914e",
   "metadata": {},
   "source": [
    "# L4: Optimize DSPy Agent with DSPy Optimizer"
   ]
  },
  {
   "cell_type": "markdown",
   "id": "8c6be90d-86b0-4797-beaf-fe4906b8c99c",
   "metadata": {},
   "source": [
    "<p style=\"background-color:#fff6e4; padding:15px; border-width:3px; border-color:#f5ecda; border-style:solid; border-radius:6px\"> ⏳ <b>Note <code>(Kernel Starting)</code>:</b> This notebook takes about 30 seconds to be ready to use. You may start and watch the video while you wait.</p>"
   ]
  },
  {
   "cell_type": "code",
   "execution_count": 1,
   "id": "dd51df46-d210-4a84-9ad8-9d629b131e59",
   "metadata": {
    "height": 115
   },
   "outputs": [],
   "source": [
    "from helper import get_openai_api_key\n",
    "openai_api_key = get_openai_api_key()\n",
    "\n",
    "import os\n",
    "\n",
    "os.environ[\"OPENAI_API_KEY\"] = get_openai_api_key()"
   ]
  },
  {
   "cell_type": "markdown",
   "id": "02ec6379-fa6b-4c21-b620-2b5280f26362",
   "metadata": {},
   "source": [
    "<div style=\"background-color:#fff6ff; padding:13px; border-width:3px; border-color:#efe6ef; border-style:solid; border-radius:6px\">\n",
    "<p> 💻 &nbsp; <b>Access <code>requirements.txt</code> and <code>helper.py</code> files:</b> 1) click on the <em>\"File\"</em> option on the top menu of the notebook and then 2) click on <em>\"Open\"</em>.</p>\n",
    "\n",
    "<p> ⬇ &nbsp; <b>Download Notebooks:</b> 1) click on the <em>\"File\"</em> option on the top menu of the notebook and then 2) click on <em>\"Download as\"</em> and select <em>\"Notebook (.ipynb)\"</em>.</p>\n",
    "\n",
    "<p> 📒 &nbsp; For more help, please see the <em>\"Appendix – Tips, Help, and Download\"</em> Lesson.</p>\n",
    "</div>"
   ]
  },
  {
   "cell_type": "code",
   "execution_count": 2,
   "id": "a6293ba0-e1f1-47c8-8a99-7870e125400b",
   "metadata": {
    "height": 30
   },
   "outputs": [],
   "source": [
    "import mlflow"
   ]
  },
  {
   "cell_type": "code",
   "execution_count": 3,
   "id": "062e419f-3c89-4bfc-b982-c2601495ee03",
   "metadata": {
    "height": 81
   },
   "outputs": [],
   "source": [
    "from helper import get_mlflow_tracking_uri\n",
    "\n",
    "mlflow_tracking_uri = get_mlflow_tracking_uri()\n",
    "mlflow.set_tracking_uri(mlflow_tracking_uri)"
   ]
  },
  {
   "cell_type": "code",
   "execution_count": 4,
   "id": "859b1c04-f989-4432-a0c5-3353b7e1c25e",
   "metadata": {
    "height": 30
   },
   "outputs": [
    {
     "name": "stderr",
     "output_type": "stream",
     "text": [
      "2025/07/19 20:36:30 INFO mlflow.tracking.fluent: Experiment with name 'dspy_course_4' does not exist. Creating a new experiment.\n"
     ]
    },
    {
     "data": {
      "text/plain": [
       "<Experiment: artifact_location='mlflow-artifacts:/368932023392433418', creation_time=1752957390755, experiment_id='368932023392433418', last_update_time=1752957390755, lifecycle_stage='active', name='dspy_course_4', tags={}>"
      ]
     },
     "execution_count": 4,
     "metadata": {},
     "output_type": "execute_result"
    }
   ],
   "source": [
    "mlflow.set_experiment(\"dspy_course_4\")"
   ]
  },
  {
   "cell_type": "code",
   "execution_count": 5,
   "id": "19607589-df48-4d9b-b8cb-90d72a5ea296",
   "metadata": {
    "height": 30
   },
   "outputs": [],
   "source": [
    "mlflow.dspy.autolog(log_evals=True, log_compiles=True, log_traces_from_compile=True)"
   ]
  },
  {
   "cell_type": "code",
   "execution_count": 6,
   "id": "bbb72726-3fb3-4976-9438-16642347cee8",
   "metadata": {
    "height": 64
   },
   "outputs": [],
   "source": [
    "import dspy\n",
    "\n",
    "dspy.configure(lm=dspy.LM(\"openai/gpt-4o-mini\"))"
   ]
  },
  {
   "cell_type": "markdown",
   "id": "584f9729-1333-4e85-babb-924fca89f0d3",
   "metadata": {},
   "source": [
    "## Build a RAG Agent"
   ]
  },
  {
   "cell_type": "code",
   "execution_count": 7,
   "id": "dcf83eee-ac47-4893-bf07-83c702bb3e8e",
   "metadata": {
    "height": 98
   },
   "outputs": [],
   "source": [
    "def search_wikipedia(query: str) -> list[str]:\n",
    "    results = dspy.ColBERTv2(url=\"http://20.102.90.50:2017/wiki17_abstracts\")(query, k=3)\n",
    "    return [x[\"text\"] for x in results]\n",
    "\n",
    "react = dspy.ReAct(\"question -> answer\", tools=[search_wikipedia])"
   ]
  },
  {
   "cell_type": "code",
   "execution_count": 8,
   "id": "be77a703-efc5-453e-b854-db69cf51d3b0",
   "metadata": {
    "height": 234
   },
   "outputs": [],
   "source": [
    "import json\n",
    "\n",
    "# Load trainset\n",
    "trainset = []\n",
    "with open(\"trainset.jsonl\", \"r\") as f:\n",
    "    for line in f:\n",
    "        trainset.append(dspy.Example(**json.loads(line)).with_inputs(\"question\"))\n",
    "\n",
    "# Load valset\n",
    "valset = []\n",
    "with open(\"valset.jsonl\", \"r\") as f:\n",
    "    for line in f:\n",
    "        valset.append(dspy.Example(**json.loads(line)).with_inputs(\"question\"))"
   ]
  },
  {
   "cell_type": "code",
   "execution_count": 9,
   "id": "cc78279c-1f0e-4719-8c7b-9c87d6a3af34",
   "metadata": {
    "height": 47
   },
   "outputs": [
    {
     "name": "stdout",
     "output_type": "stream",
     "text": [
      "Example({'question': 'Are Smyrnium and Nymania both types of plant?', 'answer': 'yes'}) (input_keys={'question'})\n"
     ]
    }
   ],
   "source": [
    "# Overview of the dataset.\n",
    "print(trainset[0])"
   ]
  },
  {
   "cell_type": "code",
   "execution_count": 10,
   "id": "0cffda9e-5308-4ae0-8100-4a4127b5f269",
   "metadata": {
    "height": 98
   },
   "outputs": [],
   "source": [
    "tp = dspy.MIPROv2(\n",
    "    metric=dspy.evaluate.answer_exact_match,\n",
    "    auto=\"light\",\n",
    "    num_threads=16\n",
    ")"
   ]
  },
  {
   "cell_type": "code",
   "execution_count": 11,
   "id": "57a19e27-d0f3-4f29-a40e-d38e98012931",
   "metadata": {
    "height": 30
   },
   "outputs": [],
   "source": [
    "dspy.cache.load_memory_cache(\"./memory_cache.pkl\")"
   ]
  },
  {
   "cell_type": "code",
   "execution_count": 12,
   "id": "fb74703c-6a16-4635-aecf-a8cc5baa4a7f",
   "metadata": {
    "height": 115
   },
   "outputs": [
    {
     "name": "stderr",
     "output_type": "stream",
     "text": [
      "2025/07/19 20:36:37 INFO mlflow.utils.autologging_utils: Created MLflow autologging run with ID 'e705021164564f7584379f1da47cc1f0', which will track hyperparameters, performance metrics, model artifacts, and lineage information for the current dspy workflow\n",
      "2025/07/19 20:36:37 INFO dspy.teleprompt.mipro_optimizer_v2: \n",
      "RUNNING WITH THE FOLLOWING LIGHT AUTO RUN SETTINGS:\n",
      "num_trials: 20\n",
      "minibatch: True\n",
      "num_fewshot_candidates: 6\n",
      "num_instruct_candidates: 3\n",
      "valset size: 100\n",
      "\n",
      "2025/07/19 20:36:37 INFO dspy.teleprompt.mipro_optimizer_v2: \n",
      "==> STEP 1: BOOTSTRAP FEWSHOT EXAMPLES <==\n",
      "2025/07/19 20:36:37 INFO dspy.teleprompt.mipro_optimizer_v2: These will be used as few-shot example candidates for our program and for creating instructions.\n",
      "\n",
      "2025/07/19 20:36:37 INFO dspy.teleprompt.mipro_optimizer_v2: Bootstrapping N=6 sets of demonstrations...\n"
     ]
    },
    {
     "name": "stdout",
     "output_type": "stream",
     "text": [
      "Bootstrapping set 1/6\n",
      "Bootstrapping set 2/6\n",
      "Bootstrapping set 3/6\n"
     ]
    },
    {
     "data": {
      "application/vnd.jupyter.widget-view+json": {
       "model_id": "bea13343a01d4846a6b14253af630097",
       "version_major": 2,
       "version_minor": 0
      },
      "text/plain": [
       "Downloading artifacts:   0%|          | 0/1 [00:00<?, ?it/s]"
      ]
     },
     "metadata": {},
     "output_type": "display_data"
    },
    {
     "name": "stderr",
     "output_type": "stream",
     "text": [
      " 18%|█▊        | 18/100 [00:01<00:06, 13.57it/s]"
     ]
    },
    {
     "name": "stdout",
     "output_type": "stream",
     "text": [
      "Bootstrapped 4 full traces after 18 examples for up to 1 rounds, amounting to 18 attempts.\n"
     ]
    },
    {
     "name": "stderr",
     "output_type": "stream",
     "text": [
      "\n"
     ]
    },
    {
     "data": {
      "application/vnd.jupyter.widget-view+json": {
       "model_id": "a96208173a9849838eb02357fd2a59c6",
       "version_major": 2,
       "version_minor": 0
      },
      "text/plain": [
       "Downloading artifacts:   0%|          | 0/1 [00:00<?, ?it/s]"
      ]
     },
     "metadata": {},
     "output_type": "display_data"
    },
    {
     "name": "stdout",
     "output_type": "stream",
     "text": [
      "Bootstrapping set 4/6\n"
     ]
    },
    {
     "data": {
      "application/vnd.jupyter.widget-view+json": {
       "model_id": "d37bfe381330469e9ebd2ad97879a3fa",
       "version_major": 2,
       "version_minor": 0
      },
      "text/plain": [
       "Downloading artifacts:   0%|          | 0/1 [00:00<?, ?it/s]"
      ]
     },
     "metadata": {},
     "output_type": "display_data"
    },
    {
     "name": "stderr",
     "output_type": "stream",
     "text": [
      "  1%|          | 1/100 [00:00<00:04, 21.77it/s]"
     ]
    },
    {
     "name": "stdout",
     "output_type": "stream",
     "text": [
      "Bootstrapped 1 full traces after 1 examples for up to 1 rounds, amounting to 1 attempts.\n"
     ]
    },
    {
     "name": "stderr",
     "output_type": "stream",
     "text": [
      "\n"
     ]
    },
    {
     "data": {
      "application/vnd.jupyter.widget-view+json": {
       "model_id": "c8dcd28f4deb45fe9f1cab5c4c91fbf3",
       "version_major": 2,
       "version_minor": 0
      },
      "text/plain": [
       "Downloading artifacts:   0%|          | 0/1 [00:00<?, ?it/s]"
      ]
     },
     "metadata": {},
     "output_type": "display_data"
    },
    {
     "name": "stdout",
     "output_type": "stream",
     "text": [
      "Bootstrapping set 5/6\n"
     ]
    },
    {
     "data": {
      "application/vnd.jupyter.widget-view+json": {
       "model_id": "fee145480af945bfb7f90b0e53db36ef",
       "version_major": 2,
       "version_minor": 0
      },
      "text/plain": [
       "Downloading artifacts:   0%|          | 0/1 [00:00<?, ?it/s]"
      ]
     },
     "metadata": {},
     "output_type": "display_data"
    },
    {
     "name": "stderr",
     "output_type": "stream",
     "text": [
      " 10%|█         | 10/100 [00:00<00:03, 25.47it/s]"
     ]
    },
    {
     "name": "stdout",
     "output_type": "stream",
     "text": [
      "Bootstrapped 4 full traces after 10 examples for up to 1 rounds, amounting to 10 attempts.\n"
     ]
    },
    {
     "name": "stderr",
     "output_type": "stream",
     "text": [
      "\n"
     ]
    },
    {
     "data": {
      "application/vnd.jupyter.widget-view+json": {
       "model_id": "c2de443b8e21414a8e212f4b2857ee6a",
       "version_major": 2,
       "version_minor": 0
      },
      "text/plain": [
       "Downloading artifacts:   0%|          | 0/1 [00:00<?, ?it/s]"
      ]
     },
     "metadata": {},
     "output_type": "display_data"
    },
    {
     "name": "stdout",
     "output_type": "stream",
     "text": [
      "Bootstrapping set 6/6\n"
     ]
    },
    {
     "data": {
      "application/vnd.jupyter.widget-view+json": {
       "model_id": "f82c68be61e245168bdf28998e43fd94",
       "version_major": 2,
       "version_minor": 0
      },
      "text/plain": [
       "Downloading artifacts:   0%|          | 0/1 [00:00<?, ?it/s]"
      ]
     },
     "metadata": {},
     "output_type": "display_data"
    },
    {
     "name": "stderr",
     "output_type": "stream",
     "text": [
      "  2%|▏         | 2/100 [00:00<00:03, 24.60it/s]"
     ]
    },
    {
     "name": "stdout",
     "output_type": "stream",
     "text": [
      "Bootstrapped 1 full traces after 2 examples for up to 1 rounds, amounting to 2 attempts.\n"
     ]
    },
    {
     "name": "stderr",
     "output_type": "stream",
     "text": [
      "\n"
     ]
    },
    {
     "data": {
      "application/vnd.jupyter.widget-view+json": {
       "model_id": "da265f13e3d046c5b287fc40579d13fd",
       "version_major": 2,
       "version_minor": 0
      },
      "text/plain": [
       "Downloading artifacts:   0%|          | 0/1 [00:00<?, ?it/s]"
      ]
     },
     "metadata": {},
     "output_type": "display_data"
    },
    {
     "name": "stderr",
     "output_type": "stream",
     "text": [
      "2025/07/19 20:36:40 INFO dspy.teleprompt.mipro_optimizer_v2: \n",
      "==> STEP 2: PROPOSE INSTRUCTION CANDIDATES <==\n",
      "2025/07/19 20:36:40 INFO dspy.teleprompt.mipro_optimizer_v2: We will use the few-shot examples from the previous step, a generated dataset summary, a summary of the program code, and a randomly selected prompting tip to propose instructions.\n",
      "2025/07/19 20:36:40 INFO dspy.teleprompt.mipro_optimizer_v2: \n",
      "Proposing N=3 instructions...\n",
      "\n",
      "2025/07/19 20:36:40 INFO dspy.teleprompt.mipro_optimizer_v2: Proposed Instructions for Predictor 0:\n",
      "\n",
      "2025/07/19 20:36:40 INFO dspy.teleprompt.mipro_optimizer_v2: 0: Given the fields `question`, produce the fields `answer`.\n",
      "\n",
      "You are an Agent. In each episode, you will be given the fields `question` as input. And you can see your past trajectory so far.\n",
      "Your goal is to use one or more of the supplied tools to collect any necessary information for producing `answer`.\n",
      "\n",
      "To do this, you will interleave next_thought, next_tool_name, and next_tool_args in each turn, and also when finishing the task.\n",
      "After each tool call, you receive a resulting observation, which gets appended to your trajectory.\n",
      "\n",
      "When writing next_thought, you may reason about the current situation and plan for future steps.\n",
      "When selecting the next_tool_name and its next_tool_args, the tool must be one of:\n",
      "\n",
      "(1) search_wikipedia. It takes arguments {'query': {'type': 'string'}} in JSON format.\n",
      "(2) finish, whose description is <desc>Marks the task as complete. That is, signals that all infomration for producing the outputs, i.e. `answer`, are now available to be extracted.</desc>. It takes arguments {} in JSON format.\n",
      "\n",
      "2025/07/19 20:36:40 INFO dspy.teleprompt.mipro_optimizer_v2: 1: Given the fields `question` and `trajectory`, your task is to produce the field `answer`. You are functioning as an intelligent agent that will analyze the `question` and use the `trajectory` of previous thoughts and actions to determine the next steps needed to gather information. You will interleave the following actions in each turn: \n",
      "\n",
      "1. Formulate a `next_thought` that reflects your reasoning about the current situation and outlines your plan for gathering the necessary information.\n",
      "2. Select a `next_tool_name` from the available tools, which can either be `search_wikipedia` or `finish`.\n",
      "3. Provide `next_tool_args` that contain the appropriate arguments for the chosen tool.\n",
      "\n",
      "When you choose `search_wikipedia`, ensure that the `query` is relevant to the `question` at hand. If you determine that you have gathered sufficient information to answer the `question`, select `finish` to mark the task as complete. \n",
      "\n",
      "Remember to maintain a clear and structured approach throughout the process, as this will enhance your ability to retrieve accurate and relevant information effectively.\n",
      "\n",
      "2025/07/19 20:36:40 INFO dspy.teleprompt.mipro_optimizer_v2: 2: You are a knowledgeable trivia agent. Given the fields `question`, produce the fields `answer`. In each episode, you will receive the `question` as input along with a `trajectory` that tracks your previous thoughts and tool calls. Your goal is to utilize the supplied tools to gather necessary information for producing the `answer`. \n",
      "\n",
      "Interleave your reasoning in `next_thought`, select the appropriate `next_tool_name` (either `search_wikipedia` to gather more information or `finish` to complete the task), and provide the necessary `next_tool_args`. After each tool call, append the resulting observation to your trajectory. \n",
      "\n",
      "Reason about the current situation and plan your next steps as you work through the task. The tools available to you are:\n",
      "(1) `search_wikipedia`, which takes arguments {'query': {'type': 'string'}} in JSON format.\n",
      "(2) `finish`, which signals that all information for producing the outputs, i.e. `answer`, is now available.\n",
      "\n",
      "2025/07/19 20:36:40 INFO dspy.teleprompt.mipro_optimizer_v2: \n",
      "\n",
      "2025/07/19 20:36:40 INFO dspy.teleprompt.mipro_optimizer_v2: Proposed Instructions for Predictor 1:\n",
      "\n",
      "2025/07/19 20:36:40 INFO dspy.teleprompt.mipro_optimizer_v2: 0: Given the fields `question`, produce the fields `answer`.\n",
      "\n",
      "2025/07/19 20:36:40 INFO dspy.teleprompt.mipro_optimizer_v2: 1: Given a factual question, utilize the `Predict` module to analyze the provided `trajectory` of previous interactions. Your task is to synthesize the information gathered from external sources, particularly Wikipedia, and articulate a step-by-step reasoning process that leads to a well-founded and coherent final answer. Ensure that your response addresses the question directly, incorporating relevant details from the observations made during the information retrieval process.\n",
      "\n",
      "2025/07/19 20:36:40 INFO dspy.teleprompt.mipro_optimizer_v2: 2: Given the fields `question` and `trajectory`, reason through the information gathered to produce a coherent `answer` based on the accumulated knowledge and interactions. Ensure that the final output reflects the logical steps taken to arrive at the conclusion.\n",
      "\n",
      "2025/07/19 20:36:40 INFO dspy.teleprompt.mipro_optimizer_v2: \n",
      "\n",
      "2025/07/19 20:36:40 INFO dspy.teleprompt.mipro_optimizer_v2: ==> STEP 3: FINDING OPTIMAL PROMPT PARAMETERS <==\n",
      "2025/07/19 20:36:40 INFO dspy.teleprompt.mipro_optimizer_v2: We will evaluate the program over a series of trials with different combinations of instructions and few-shot examples to find the optimal combination using Bayesian Optimization.\n",
      "\n",
      "2025/07/19 20:36:40 INFO dspy.teleprompt.mipro_optimizer_v2: == Trial 1 / 25 - Full Evaluation of Default Program ==\n"
     ]
    },
    {
     "name": "stdout",
     "output_type": "stream",
     "text": [
      "Average Metric: 31.00 / 100 (31.0%): 100%|██████████| 100/100 [00:03<00:00, 30.48it/s]"
     ]
    },
    {
     "name": "stderr",
     "output_type": "stream",
     "text": [
      "2025/07/19 20:36:44 INFO dspy.evaluate.evaluate: Average Metric: 31 / 100 (31.0%)\n",
      "2025/07/19 20:36:44 INFO dspy.teleprompt.mipro_optimizer_v2: Default program score: 31.0\n",
      "\n",
      "/usr/local/lib/python3.11/site-packages/optuna/_experimental.py:31: ExperimentalWarning: Argument ``multivariate`` is an experimental feature. The interface can change in the future.\n",
      "  warnings.warn(\n",
      "2025/07/19 20:36:44 INFO dspy.teleprompt.mipro_optimizer_v2: == Trial 2 / 25 - Minibatch ==\n"
     ]
    },
    {
     "name": "stdout",
     "output_type": "stream",
     "text": [
      "\n",
      "🏃 View run eval_full_0 at: https://s172-29-90-91p8080.lab-aws-production.deeplearning.ai//#/experiments/368932023392433418/runs/1f38a07d1e8c460bb3fe472740cad0e1\n",
      "🧪 View experiment at: https://s172-29-90-91p8080.lab-aws-production.deeplearning.ai//#/experiments/368932023392433418\n",
      "Average Metric: 3.00 / 35 (8.6%): 100%|██████████| 35/35 [00:01<00:00, 23.21it/s] "
     ]
    },
    {
     "name": "stderr",
     "output_type": "stream",
     "text": [
      "2025/07/19 20:36:45 INFO dspy.evaluate.evaluate: Average Metric: 3 / 35 (8.6%)\n"
     ]
    },
    {
     "name": "stdout",
     "output_type": "stream",
     "text": [
      "\n"
     ]
    },
    {
     "name": "stderr",
     "output_type": "stream",
     "text": [
      "2025/07/19 20:36:45 INFO dspy.teleprompt.mipro_optimizer_v2: Score: 8.57 on minibatch of size 35 with parameters ['Predictor 0: Instruction 1', 'Predictor 0: Few-Shot Set 3', 'Predictor 1: Instruction 2', 'Predictor 1: Few-Shot Set 0'].\n",
      "2025/07/19 20:36:45 INFO dspy.teleprompt.mipro_optimizer_v2: Minibatch scores so far: [8.57]\n",
      "2025/07/19 20:36:45 INFO dspy.teleprompt.mipro_optimizer_v2: Full eval scores so far: [31.0]\n",
      "2025/07/19 20:36:45 INFO dspy.teleprompt.mipro_optimizer_v2: Best full score so far: 31.0\n",
      "2025/07/19 20:36:45 INFO dspy.teleprompt.mipro_optimizer_v2: =========================================\n",
      "\n",
      "\n",
      "2025/07/19 20:36:45 INFO dspy.teleprompt.mipro_optimizer_v2: == Trial 3 / 25 - Minibatch ==\n"
     ]
    },
    {
     "name": "stdout",
     "output_type": "stream",
     "text": [
      "🏃 View run eval_minibatch_0 at: https://s172-29-90-91p8080.lab-aws-production.deeplearning.ai//#/experiments/368932023392433418/runs/ab6c60620b64419a9ba65db9d5e7df5d\n",
      "🧪 View experiment at: https://s172-29-90-91p8080.lab-aws-production.deeplearning.ai//#/experiments/368932023392433418\n",
      "Average Metric: 18.00 / 35 (51.4%): 100%|██████████| 35/35 [00:01<00:00, 25.55it/s]"
     ]
    },
    {
     "name": "stderr",
     "output_type": "stream",
     "text": [
      "2025/07/19 20:36:47 INFO dspy.evaluate.evaluate: Average Metric: 18 / 35 (51.4%)\n",
      "2025/07/19 20:36:47 INFO dspy.teleprompt.mipro_optimizer_v2: Score: 51.43 on minibatch of size 35 with parameters ['Predictor 0: Instruction 1', 'Predictor 0: Few-Shot Set 5', 'Predictor 1: Instruction 2', 'Predictor 1: Few-Shot Set 2'].\n",
      "2025/07/19 20:36:47 INFO dspy.teleprompt.mipro_optimizer_v2: Minibatch scores so far: [8.57, 51.43]\n",
      "2025/07/19 20:36:47 INFO dspy.teleprompt.mipro_optimizer_v2: Full eval scores so far: [31.0]\n",
      "2025/07/19 20:36:47 INFO dspy.teleprompt.mipro_optimizer_v2: Best full score so far: 31.0\n",
      "2025/07/19 20:36:47 INFO dspy.teleprompt.mipro_optimizer_v2: =========================================\n",
      "\n",
      "\n",
      "2025/07/19 20:36:47 INFO dspy.teleprompt.mipro_optimizer_v2: == Trial 4 / 25 - Minibatch ==\n"
     ]
    },
    {
     "name": "stdout",
     "output_type": "stream",
     "text": [
      "\n",
      "🏃 View run eval_minibatch_1 at: https://s172-29-90-91p8080.lab-aws-production.deeplearning.ai//#/experiments/368932023392433418/runs/27481af871b741098be5ce5c5ea95c9e\n",
      "🧪 View experiment at: https://s172-29-90-91p8080.lab-aws-production.deeplearning.ai//#/experiments/368932023392433418\n",
      "Average Metric: 5.00 / 35 (14.3%): 100%|██████████| 35/35 [00:01<00:00, 26.06it/s]"
     ]
    },
    {
     "name": "stderr",
     "output_type": "stream",
     "text": [
      "2025/07/19 20:36:48 INFO dspy.evaluate.evaluate: Average Metric: 5 / 35 (14.3%)\n"
     ]
    },
    {
     "name": "stdout",
     "output_type": "stream",
     "text": [
      "\n"
     ]
    },
    {
     "name": "stderr",
     "output_type": "stream",
     "text": [
      "2025/07/19 20:36:48 INFO dspy.teleprompt.mipro_optimizer_v2: Score: 14.29 on minibatch of size 35 with parameters ['Predictor 0: Instruction 0', 'Predictor 0: Few-Shot Set 5', 'Predictor 1: Instruction 2', 'Predictor 1: Few-Shot Set 0'].\n",
      "2025/07/19 20:36:48 INFO dspy.teleprompt.mipro_optimizer_v2: Minibatch scores so far: [8.57, 51.43, 14.29]\n",
      "2025/07/19 20:36:48 INFO dspy.teleprompt.mipro_optimizer_v2: Full eval scores so far: [31.0]\n",
      "2025/07/19 20:36:48 INFO dspy.teleprompt.mipro_optimizer_v2: Best full score so far: 31.0\n",
      "2025/07/19 20:36:48 INFO dspy.teleprompt.mipro_optimizer_v2: =========================================\n",
      "\n",
      "\n",
      "2025/07/19 20:36:48 INFO dspy.teleprompt.mipro_optimizer_v2: == Trial 5 / 25 - Minibatch ==\n"
     ]
    },
    {
     "name": "stdout",
     "output_type": "stream",
     "text": [
      "🏃 View run eval_minibatch_2 at: https://s172-29-90-91p8080.lab-aws-production.deeplearning.ai//#/experiments/368932023392433418/runs/61e492a828d9423da675099fe0b03c43\n",
      "🧪 View experiment at: https://s172-29-90-91p8080.lab-aws-production.deeplearning.ai//#/experiments/368932023392433418\n",
      "Average Metric: 19.00 / 35 (54.3%): 100%|██████████| 35/35 [00:01<00:00, 26.85it/s]"
     ]
    },
    {
     "name": "stderr",
     "output_type": "stream",
     "text": [
      "2025/07/19 20:36:49 INFO dspy.evaluate.evaluate: Average Metric: 19 / 35 (54.3%)\n"
     ]
    },
    {
     "name": "stdout",
     "output_type": "stream",
     "text": [
      "\n",
      "🏃 View run eval_minibatch_3 at: https://s172-29-90-91p8080.lab-aws-production.deeplearning.ai//#/experiments/368932023392433418/runs/ffd40901b89244cf8687b00a4cf5325c\n"
     ]
    },
    {
     "name": "stderr",
     "output_type": "stream",
     "text": [
      "2025/07/19 20:36:49 INFO dspy.teleprompt.mipro_optimizer_v2: Score: 54.29 on minibatch of size 35 with parameters ['Predictor 0: Instruction 2', 'Predictor 0: Few-Shot Set 5', 'Predictor 1: Instruction 1', 'Predictor 1: Few-Shot Set 4'].\n",
      "2025/07/19 20:36:49 INFO dspy.teleprompt.mipro_optimizer_v2: Minibatch scores so far: [8.57, 51.43, 14.29, 54.29]\n",
      "2025/07/19 20:36:49 INFO dspy.teleprompt.mipro_optimizer_v2: Full eval scores so far: [31.0]\n",
      "2025/07/19 20:36:49 INFO dspy.teleprompt.mipro_optimizer_v2: Best full score so far: 31.0\n",
      "2025/07/19 20:36:49 INFO dspy.teleprompt.mipro_optimizer_v2: =========================================\n",
      "\n",
      "\n",
      "2025/07/19 20:36:49 INFO dspy.teleprompt.mipro_optimizer_v2: == Trial 6 / 25 - Minibatch ==\n"
     ]
    },
    {
     "name": "stdout",
     "output_type": "stream",
     "text": [
      "🧪 View experiment at: https://s172-29-90-91p8080.lab-aws-production.deeplearning.ai//#/experiments/368932023392433418\n",
      "Average Metric: 17.00 / 35 (48.6%): 100%|██████████| 35/35 [00:01<00:00, 24.18it/s]"
     ]
    },
    {
     "name": "stderr",
     "output_type": "stream",
     "text": [
      "2025/07/19 20:36:51 INFO dspy.evaluate.evaluate: Average Metric: 17 / 35 (48.6%)\n"
     ]
    },
    {
     "name": "stdout",
     "output_type": "stream",
     "text": [
      "\n",
      "🏃 View run eval_minibatch_4 at: https://s172-29-90-91p8080.lab-aws-production.deeplearning.ai//#/experiments/368932023392433418/runs/cb0ef7b28b5f44cdb8d567bade960551\n",
      "🧪 View experiment at: https://s172-29-90-91p8080.lab-aws-production.deeplearning.ai//#/experiments/368932023392433418\n"
     ]
    },
    {
     "name": "stderr",
     "output_type": "stream",
     "text": [
      "2025/07/19 20:36:51 INFO dspy.teleprompt.mipro_optimizer_v2: Score: 48.57 on minibatch of size 35 with parameters ['Predictor 0: Instruction 2', 'Predictor 0: Few-Shot Set 5', 'Predictor 1: Instruction 2', 'Predictor 1: Few-Shot Set 2'].\n",
      "2025/07/19 20:36:51 INFO dspy.teleprompt.mipro_optimizer_v2: Minibatch scores so far: [8.57, 51.43, 14.29, 54.29, 48.57]\n",
      "2025/07/19 20:36:51 INFO dspy.teleprompt.mipro_optimizer_v2: Full eval scores so far: [31.0]\n",
      "2025/07/19 20:36:51 INFO dspy.teleprompt.mipro_optimizer_v2: Best full score so far: 31.0\n",
      "2025/07/19 20:36:51 INFO dspy.teleprompt.mipro_optimizer_v2: =========================================\n",
      "\n",
      "\n",
      "2025/07/19 20:36:51 INFO dspy.teleprompt.mipro_optimizer_v2: ===== Trial 7 / 25 - Full Evaluation =====\n",
      "2025/07/19 20:36:51 INFO dspy.teleprompt.mipro_optimizer_v2: Doing full eval on next top averaging program (Avg Score: 54.29) from minibatch trials...\n"
     ]
    },
    {
     "name": "stdout",
     "output_type": "stream",
     "text": [
      "Average Metric: 50.00 / 100 (50.0%): 100%|██████████| 100/100 [00:04<00:00, 24.39it/s]"
     ]
    },
    {
     "name": "stderr",
     "output_type": "stream",
     "text": [
      "2025/07/19 20:36:55 INFO dspy.evaluate.evaluate: Average Metric: 50 / 100 (50.0%)\n"
     ]
    },
    {
     "name": "stdout",
     "output_type": "stream",
     "text": [
      "\n"
     ]
    },
    {
     "name": "stderr",
     "output_type": "stream",
     "text": [
      "2025/07/19 20:36:55 INFO dspy.teleprompt.mipro_optimizer_v2: \u001b[92mNew best full eval score!\u001b[0m Score: 50.0\n",
      "2025/07/19 20:36:55 INFO dspy.teleprompt.mipro_optimizer_v2: Full eval scores so far: [31.0, 50.0]\n",
      "2025/07/19 20:36:55 INFO dspy.teleprompt.mipro_optimizer_v2: Best full score so far: 50.0\n",
      "2025/07/19 20:36:55 INFO dspy.teleprompt.mipro_optimizer_v2: =======================\n",
      "2025/07/19 20:36:55 INFO dspy.teleprompt.mipro_optimizer_v2: \n",
      "\n",
      "2025/07/19 20:36:55 INFO dspy.teleprompt.mipro_optimizer_v2: == Trial 8 / 25 - Minibatch ==\n"
     ]
    },
    {
     "name": "stdout",
     "output_type": "stream",
     "text": [
      "🏃 View run eval_full_1 at: https://s172-29-90-91p8080.lab-aws-production.deeplearning.ai//#/experiments/368932023392433418/runs/3e330607188d467c92233b8b09da37df\n",
      "🧪 View experiment at: https://s172-29-90-91p8080.lab-aws-production.deeplearning.ai//#/experiments/368932023392433418\n",
      "Average Metric: 15.00 / 35 (42.9%): 100%|██████████| 35/35 [00:01<00:00, 29.01it/s]"
     ]
    },
    {
     "name": "stderr",
     "output_type": "stream",
     "text": [
      "2025/07/19 20:36:56 INFO dspy.evaluate.evaluate: Average Metric: 15 / 35 (42.9%)\n"
     ]
    },
    {
     "name": "stdout",
     "output_type": "stream",
     "text": [
      "\n"
     ]
    },
    {
     "name": "stderr",
     "output_type": "stream",
     "text": [
      "2025/07/19 20:36:56 INFO dspy.teleprompt.mipro_optimizer_v2: Score: 42.86 on minibatch of size 35 with parameters ['Predictor 0: Instruction 0', 'Predictor 0: Few-Shot Set 5', 'Predictor 1: Instruction 0', 'Predictor 1: Few-Shot Set 0'].\n",
      "2025/07/19 20:36:56 INFO dspy.teleprompt.mipro_optimizer_v2: Minibatch scores so far: [8.57, 51.43, 14.29, 54.29, 48.57, 42.86]\n",
      "2025/07/19 20:36:56 INFO dspy.teleprompt.mipro_optimizer_v2: Full eval scores so far: [31.0, 50.0]\n",
      "2025/07/19 20:36:56 INFO dspy.teleprompt.mipro_optimizer_v2: Best full score so far: 50.0\n",
      "2025/07/19 20:36:56 INFO dspy.teleprompt.mipro_optimizer_v2: =========================================\n",
      "\n",
      "\n",
      "2025/07/19 20:36:56 INFO dspy.teleprompt.mipro_optimizer_v2: == Trial 9 / 25 - Minibatch ==\n"
     ]
    },
    {
     "name": "stdout",
     "output_type": "stream",
     "text": [
      "🏃 View run eval_minibatch_5 at: https://s172-29-90-91p8080.lab-aws-production.deeplearning.ai//#/experiments/368932023392433418/runs/e05bfbc768514685830ec892aa0a89a8\n",
      "🧪 View experiment at: https://s172-29-90-91p8080.lab-aws-production.deeplearning.ai//#/experiments/368932023392433418\n",
      "Average Metric: 19.00 / 35 (54.3%): 100%|██████████| 35/35 [00:01<00:00, 24.35it/s]"
     ]
    },
    {
     "name": "stderr",
     "output_type": "stream",
     "text": [
      "2025/07/19 20:36:58 INFO dspy.evaluate.evaluate: Average Metric: 19 / 35 (54.3%)\n"
     ]
    },
    {
     "name": "stdout",
     "output_type": "stream",
     "text": [
      "\n",
      "🏃 View run eval_minibatch_6 at: https://s172-29-90-91p8080.lab-aws-production.deeplearning.ai//#/experiments/368932023392433418/runs/48f729b5511944eeb11ce11ae66ea14c\n",
      "🧪 View experiment at: https://s172-29-90-91p8080.lab-aws-production.deeplearning.ai//#/experiments/368932023392433418\n"
     ]
    },
    {
     "name": "stderr",
     "output_type": "stream",
     "text": [
      "2025/07/19 20:36:58 INFO dspy.teleprompt.mipro_optimizer_v2: Score: 54.29 on minibatch of size 35 with parameters ['Predictor 0: Instruction 1', 'Predictor 0: Few-Shot Set 2', 'Predictor 1: Instruction 2', 'Predictor 1: Few-Shot Set 1'].\n",
      "2025/07/19 20:36:58 INFO dspy.teleprompt.mipro_optimizer_v2: Minibatch scores so far: [8.57, 51.43, 14.29, 54.29, 48.57, 42.86, 54.29]\n",
      "2025/07/19 20:36:58 INFO dspy.teleprompt.mipro_optimizer_v2: Full eval scores so far: [31.0, 50.0]\n",
      "2025/07/19 20:36:58 INFO dspy.teleprompt.mipro_optimizer_v2: Best full score so far: 50.0\n",
      "2025/07/19 20:36:58 INFO dspy.teleprompt.mipro_optimizer_v2: =========================================\n",
      "\n",
      "\n",
      "2025/07/19 20:36:58 INFO dspy.teleprompt.mipro_optimizer_v2: == Trial 10 / 25 - Minibatch ==\n"
     ]
    },
    {
     "name": "stdout",
     "output_type": "stream",
     "text": [
      "Average Metric: 6.00 / 35 (17.1%): 100%|██████████| 35/35 [00:01<00:00, 30.38it/s]"
     ]
    },
    {
     "name": "stderr",
     "output_type": "stream",
     "text": [
      "2025/07/19 20:36:59 INFO dspy.evaluate.evaluate: Average Metric: 6 / 35 (17.1%)\n"
     ]
    },
    {
     "name": "stdout",
     "output_type": "stream",
     "text": [
      "\n",
      "🏃 View run eval_minibatch_7 at: https://s172-29-90-91p8080.lab-aws-production.deeplearning.ai//#/experiments/368932023392433418/runs/1f15608d58b24797b3bb6a04a1344fb1\n",
      "🧪 View experiment at: https://s172-29-90-91p8080.lab-aws-production.deeplearning.ai//#/experiments/368932023392433418\n"
     ]
    },
    {
     "name": "stderr",
     "output_type": "stream",
     "text": [
      "2025/07/19 20:36:59 INFO dspy.teleprompt.mipro_optimizer_v2: Score: 17.14 on minibatch of size 35 with parameters ['Predictor 0: Instruction 1', 'Predictor 0: Few-Shot Set 0', 'Predictor 1: Instruction 0', 'Predictor 1: Few-Shot Set 0'].\n",
      "2025/07/19 20:36:59 INFO dspy.teleprompt.mipro_optimizer_v2: Minibatch scores so far: [8.57, 51.43, 14.29, 54.29, 48.57, 42.86, 54.29, 17.14]\n",
      "2025/07/19 20:36:59 INFO dspy.teleprompt.mipro_optimizer_v2: Full eval scores so far: [31.0, 50.0]\n",
      "2025/07/19 20:36:59 INFO dspy.teleprompt.mipro_optimizer_v2: Best full score so far: 50.0\n",
      "2025/07/19 20:36:59 INFO dspy.teleprompt.mipro_optimizer_v2: ==========================================\n",
      "\n",
      "\n",
      "2025/07/19 20:36:59 INFO dspy.teleprompt.mipro_optimizer_v2: == Trial 11 / 25 - Minibatch ==\n"
     ]
    },
    {
     "name": "stdout",
     "output_type": "stream",
     "text": [
      "Average Metric: 13.00 / 35 (37.1%): 100%|██████████| 35/35 [00:01<00:00, 20.46it/s]"
     ]
    },
    {
     "name": "stderr",
     "output_type": "stream",
     "text": [
      "2025/07/19 20:37:01 INFO dspy.evaluate.evaluate: Average Metric: 13 / 35 (37.1%)\n",
      "2025/07/19 20:37:01 INFO dspy.teleprompt.mipro_optimizer_v2: Score: 37.14 on minibatch of size 35 with parameters ['Predictor 0: Instruction 2', 'Predictor 0: Few-Shot Set 1', 'Predictor 1: Instruction 1', 'Predictor 1: Few-Shot Set 4'].\n",
      "2025/07/19 20:37:01 INFO dspy.teleprompt.mipro_optimizer_v2: Minibatch scores so far: [8.57, 51.43, 14.29, 54.29, 48.57, 42.86, 54.29, 17.14, 37.14]\n",
      "2025/07/19 20:37:01 INFO dspy.teleprompt.mipro_optimizer_v2: Full eval scores so far: [31.0, 50.0]\n",
      "2025/07/19 20:37:01 INFO dspy.teleprompt.mipro_optimizer_v2: Best full score so far: 50.0\n",
      "2025/07/19 20:37:01 INFO dspy.teleprompt.mipro_optimizer_v2: ==========================================\n",
      "\n",
      "\n",
      "2025/07/19 20:37:01 INFO dspy.teleprompt.mipro_optimizer_v2: == Trial 12 / 25 - Minibatch ==\n"
     ]
    },
    {
     "name": "stdout",
     "output_type": "stream",
     "text": [
      "\n",
      "🏃 View run eval_minibatch_8 at: https://s172-29-90-91p8080.lab-aws-production.deeplearning.ai//#/experiments/368932023392433418/runs/596058531cb744ccada220a16219df5e\n",
      "🧪 View experiment at: https://s172-29-90-91p8080.lab-aws-production.deeplearning.ai//#/experiments/368932023392433418\n",
      "Average Metric: 19.00 / 35 (54.3%): 100%|██████████| 35/35 [00:01<00:00, 26.70it/s]"
     ]
    },
    {
     "name": "stderr",
     "output_type": "stream",
     "text": [
      "2025/07/19 20:37:02 INFO dspy.evaluate.evaluate: Average Metric: 19 / 35 (54.3%)\n"
     ]
    },
    {
     "name": "stdout",
     "output_type": "stream",
     "text": [
      "\n",
      "🏃 View run eval_minibatch_9 at: https://s172-29-90-91p8080.lab-aws-production.deeplearning.ai//#/experiments/368932023392433418/runs/a9346d8a2c80442c90c00e5213765adb\n",
      "🧪 View experiment at: https://s172-29-90-91p8080.lab-aws-production.deeplearning.ai//#/experiments/368932023392433418\n"
     ]
    },
    {
     "name": "stderr",
     "output_type": "stream",
     "text": [
      "2025/07/19 20:37:02 INFO dspy.teleprompt.mipro_optimizer_v2: Score: 54.29 on minibatch of size 35 with parameters ['Predictor 0: Instruction 1', 'Predictor 0: Few-Shot Set 4', 'Predictor 1: Instruction 2', 'Predictor 1: Few-Shot Set 1'].\n",
      "2025/07/19 20:37:02 INFO dspy.teleprompt.mipro_optimizer_v2: Minibatch scores so far: [8.57, 51.43, 14.29, 54.29, 48.57, 42.86, 54.29, 17.14, 37.14, 54.29]\n",
      "2025/07/19 20:37:02 INFO dspy.teleprompt.mipro_optimizer_v2: Full eval scores so far: [31.0, 50.0]\n",
      "2025/07/19 20:37:02 INFO dspy.teleprompt.mipro_optimizer_v2: Best full score so far: 50.0\n",
      "2025/07/19 20:37:02 INFO dspy.teleprompt.mipro_optimizer_v2: ==========================================\n",
      "\n",
      "\n",
      "2025/07/19 20:37:02 INFO dspy.teleprompt.mipro_optimizer_v2: ===== Trial 13 / 25 - Full Evaluation =====\n",
      "2025/07/19 20:37:02 INFO dspy.teleprompt.mipro_optimizer_v2: Doing full eval on next top averaging program (Avg Score: 54.29) from minibatch trials...\n"
     ]
    },
    {
     "name": "stdout",
     "output_type": "stream",
     "text": [
      "Average Metric: 49.00 / 100 (49.0%): 100%|██████████| 100/100 [00:04<00:00, 24.88it/s]"
     ]
    },
    {
     "name": "stderr",
     "output_type": "stream",
     "text": [
      "2025/07/19 20:37:06 INFO dspy.evaluate.evaluate: Average Metric: 49 / 100 (49.0%)\n",
      "2025/07/19 20:37:06 INFO dspy.teleprompt.mipro_optimizer_v2: Full eval scores so far: [31.0, 50.0, 49.0]\n",
      "2025/07/19 20:37:06 INFO dspy.teleprompt.mipro_optimizer_v2: Best full score so far: 50.0\n",
      "2025/07/19 20:37:06 INFO dspy.teleprompt.mipro_optimizer_v2: =======================\n",
      "2025/07/19 20:37:06 INFO dspy.teleprompt.mipro_optimizer_v2: \n",
      "\n",
      "2025/07/19 20:37:06 INFO dspy.teleprompt.mipro_optimizer_v2: == Trial 14 / 25 - Minibatch ==\n"
     ]
    },
    {
     "name": "stdout",
     "output_type": "stream",
     "text": [
      "\n",
      "🏃 View run eval_full_2 at: https://s172-29-90-91p8080.lab-aws-production.deeplearning.ai//#/experiments/368932023392433418/runs/1e61e8c3781f4caabb1ab89d07b6c139\n",
      "🧪 View experiment at: https://s172-29-90-91p8080.lab-aws-production.deeplearning.ai//#/experiments/368932023392433418\n",
      "Average Metric: 18.00 / 35 (51.4%): 100%|██████████| 35/35 [00:01<00:00, 24.79it/s]"
     ]
    },
    {
     "name": "stderr",
     "output_type": "stream",
     "text": [
      "2025/07/19 20:37:08 INFO dspy.evaluate.evaluate: Average Metric: 18 / 35 (51.4%)\n"
     ]
    },
    {
     "name": "stdout",
     "output_type": "stream",
     "text": [
      "\n"
     ]
    },
    {
     "name": "stderr",
     "output_type": "stream",
     "text": [
      "2025/07/19 20:37:08 INFO dspy.teleprompt.mipro_optimizer_v2: Score: 51.43 on minibatch of size 35 with parameters ['Predictor 0: Instruction 2', 'Predictor 0: Few-Shot Set 5', 'Predictor 1: Instruction 1', 'Predictor 1: Few-Shot Set 4'].\n",
      "2025/07/19 20:37:08 INFO dspy.teleprompt.mipro_optimizer_v2: Minibatch scores so far: [8.57, 51.43, 14.29, 54.29, 48.57, 42.86, 54.29, 17.14, 37.14, 54.29, 51.43]\n",
      "2025/07/19 20:37:08 INFO dspy.teleprompt.mipro_optimizer_v2: Full eval scores so far: [31.0, 50.0, 49.0]\n",
      "2025/07/19 20:37:08 INFO dspy.teleprompt.mipro_optimizer_v2: Best full score so far: 50.0\n",
      "2025/07/19 20:37:08 INFO dspy.teleprompt.mipro_optimizer_v2: ==========================================\n",
      "\n",
      "\n",
      "2025/07/19 20:37:08 INFO dspy.teleprompt.mipro_optimizer_v2: == Trial 15 / 25 - Minibatch ==\n"
     ]
    },
    {
     "name": "stdout",
     "output_type": "stream",
     "text": [
      "🏃 View run eval_minibatch_10 at: https://s172-29-90-91p8080.lab-aws-production.deeplearning.ai//#/experiments/368932023392433418/runs/282990679c4542aa8d8963b8ac0cd8b8\n",
      "🧪 View experiment at: https://s172-29-90-91p8080.lab-aws-production.deeplearning.ai//#/experiments/368932023392433418\n",
      "Average Metric: 18.00 / 35 (51.4%): 100%|██████████| 35/35 [00:01<00:00, 24.16it/s]"
     ]
    },
    {
     "name": "stderr",
     "output_type": "stream",
     "text": [
      "2025/07/19 20:37:09 INFO dspy.evaluate.evaluate: Average Metric: 18 / 35 (51.4%)\n"
     ]
    },
    {
     "name": "stdout",
     "output_type": "stream",
     "text": [
      "\n",
      "🏃 View run eval_minibatch_11 at: https://s172-29-90-91p8080.lab-aws-production.deeplearning.ai//#/experiments/368932023392433418/runs/d8730367907840c995d629b04d76bb13\n",
      "🧪 View experiment at: https://s172-29-90-91p8080.lab-aws-production.deeplearning.ai//#/experiments/368932023392433418\n"
     ]
    },
    {
     "name": "stderr",
     "output_type": "stream",
     "text": [
      "2025/07/19 20:37:09 INFO dspy.teleprompt.mipro_optimizer_v2: Score: 51.43 on minibatch of size 35 with parameters ['Predictor 0: Instruction 1', 'Predictor 0: Few-Shot Set 2', 'Predictor 1: Instruction 0', 'Predictor 1: Few-Shot Set 1'].\n",
      "2025/07/19 20:37:09 INFO dspy.teleprompt.mipro_optimizer_v2: Minibatch scores so far: [8.57, 51.43, 14.29, 54.29, 48.57, 42.86, 54.29, 17.14, 37.14, 54.29, 51.43, 51.43]\n",
      "2025/07/19 20:37:09 INFO dspy.teleprompt.mipro_optimizer_v2: Full eval scores so far: [31.0, 50.0, 49.0]\n",
      "2025/07/19 20:37:09 INFO dspy.teleprompt.mipro_optimizer_v2: Best full score so far: 50.0\n",
      "2025/07/19 20:37:09 INFO dspy.teleprompt.mipro_optimizer_v2: ==========================================\n",
      "\n",
      "\n",
      "2025/07/19 20:37:09 INFO dspy.teleprompt.mipro_optimizer_v2: == Trial 16 / 25 - Minibatch ==\n"
     ]
    },
    {
     "name": "stdout",
     "output_type": "stream",
     "text": [
      "Average Metric: 19.00 / 35 (54.3%): 100%|██████████| 35/35 [00:01<00:00, 19.38it/s]"
     ]
    },
    {
     "name": "stderr",
     "output_type": "stream",
     "text": [
      "2025/07/19 20:37:11 INFO dspy.evaluate.evaluate: Average Metric: 19 / 35 (54.3%)\n"
     ]
    },
    {
     "name": "stdout",
     "output_type": "stream",
     "text": [
      "\n"
     ]
    },
    {
     "name": "stderr",
     "output_type": "stream",
     "text": [
      "2025/07/19 20:37:11 INFO dspy.teleprompt.mipro_optimizer_v2: Score: 54.29 on minibatch of size 35 with parameters ['Predictor 0: Instruction 1', 'Predictor 0: Few-Shot Set 2', 'Predictor 1: Instruction 2', 'Predictor 1: Few-Shot Set 4'].\n",
      "2025/07/19 20:37:11 INFO dspy.teleprompt.mipro_optimizer_v2: Minibatch scores so far: [8.57, 51.43, 14.29, 54.29, 48.57, 42.86, 54.29, 17.14, 37.14, 54.29, 51.43, 51.43, 54.29]\n",
      "2025/07/19 20:37:11 INFO dspy.teleprompt.mipro_optimizer_v2: Full eval scores so far: [31.0, 50.0, 49.0]\n",
      "2025/07/19 20:37:11 INFO dspy.teleprompt.mipro_optimizer_v2: Best full score so far: 50.0\n",
      "2025/07/19 20:37:11 INFO dspy.teleprompt.mipro_optimizer_v2: ==========================================\n",
      "\n",
      "\n",
      "2025/07/19 20:37:11 INFO dspy.teleprompt.mipro_optimizer_v2: == Trial 17 / 25 - Minibatch ==\n"
     ]
    },
    {
     "name": "stdout",
     "output_type": "stream",
     "text": [
      "🏃 View run eval_minibatch_12 at: https://s172-29-90-91p8080.lab-aws-production.deeplearning.ai//#/experiments/368932023392433418/runs/55433d7e7ee04f628716f4dc89c75c92\n",
      "🧪 View experiment at: https://s172-29-90-91p8080.lab-aws-production.deeplearning.ai//#/experiments/368932023392433418\n",
      "Average Metric: 17.00 / 35 (48.6%): 100%|██████████| 35/35 [00:01<00:00, 26.07it/s]"
     ]
    },
    {
     "name": "stderr",
     "output_type": "stream",
     "text": [
      "2025/07/19 20:37:12 INFO dspy.evaluate.evaluate: Average Metric: 17 / 35 (48.6%)\n",
      "2025/07/19 20:37:12 INFO dspy.teleprompt.mipro_optimizer_v2: Score: 48.57 on minibatch of size 35 with parameters ['Predictor 0: Instruction 0', 'Predictor 0: Few-Shot Set 3', 'Predictor 1: Instruction 1', 'Predictor 1: Few-Shot Set 5'].\n",
      "2025/07/19 20:37:12 INFO dspy.teleprompt.mipro_optimizer_v2: Minibatch scores so far: [8.57, 51.43, 14.29, 54.29, 48.57, 42.86, 54.29, 17.14, 37.14, 54.29, 51.43, 51.43, 54.29, 48.57]\n",
      "2025/07/19 20:37:12 INFO dspy.teleprompt.mipro_optimizer_v2: Full eval scores so far: [31.0, 50.0, 49.0]\n",
      "2025/07/19 20:37:12 INFO dspy.teleprompt.mipro_optimizer_v2: Best full score so far: 50.0\n",
      "2025/07/19 20:37:12 INFO dspy.teleprompt.mipro_optimizer_v2: ==========================================\n",
      "\n",
      "\n",
      "2025/07/19 20:37:12 INFO dspy.teleprompt.mipro_optimizer_v2: == Trial 18 / 25 - Minibatch ==\n"
     ]
    },
    {
     "name": "stdout",
     "output_type": "stream",
     "text": [
      "\n",
      "🏃 View run eval_minibatch_13 at: https://s172-29-90-91p8080.lab-aws-production.deeplearning.ai//#/experiments/368932023392433418/runs/59766dea1f98474dafee440068fecc5b\n",
      "🧪 View experiment at: https://s172-29-90-91p8080.lab-aws-production.deeplearning.ai//#/experiments/368932023392433418\n",
      "Average Metric: 20.00 / 35 (57.1%): 100%|██████████| 35/35 [00:01<00:00, 26.36it/s]"
     ]
    },
    {
     "name": "stderr",
     "output_type": "stream",
     "text": [
      "2025/07/19 20:37:14 INFO dspy.evaluate.evaluate: Average Metric: 20 / 35 (57.1%)\n"
     ]
    },
    {
     "name": "stdout",
     "output_type": "stream",
     "text": [
      "\n",
      "🏃 View run eval_minibatch_14 at: https://s172-29-90-91p8080.lab-aws-production.deeplearning.ai//#/experiments/368932023392433418/runs/f91315ef7ea94adcb877e36c5cdaf927\n",
      "🧪 View experiment at: https://s172-29-90-91p8080.lab-aws-production.deeplearning.ai//#/experiments/368932023392433418\n"
     ]
    },
    {
     "name": "stderr",
     "output_type": "stream",
     "text": [
      "2025/07/19 20:37:14 INFO dspy.teleprompt.mipro_optimizer_v2: Score: 57.14 on minibatch of size 35 with parameters ['Predictor 0: Instruction 0', 'Predictor 0: Few-Shot Set 2', 'Predictor 1: Instruction 2', 'Predictor 1: Few-Shot Set 1'].\n",
      "2025/07/19 20:37:14 INFO dspy.teleprompt.mipro_optimizer_v2: Minibatch scores so far: [8.57, 51.43, 14.29, 54.29, 48.57, 42.86, 54.29, 17.14, 37.14, 54.29, 51.43, 51.43, 54.29, 48.57, 57.14]\n",
      "2025/07/19 20:37:14 INFO dspy.teleprompt.mipro_optimizer_v2: Full eval scores so far: [31.0, 50.0, 49.0]\n",
      "2025/07/19 20:37:14 INFO dspy.teleprompt.mipro_optimizer_v2: Best full score so far: 50.0\n",
      "2025/07/19 20:37:14 INFO dspy.teleprompt.mipro_optimizer_v2: ==========================================\n",
      "\n",
      "\n",
      "2025/07/19 20:37:14 INFO dspy.teleprompt.mipro_optimizer_v2: ===== Trial 19 / 25 - Full Evaluation =====\n",
      "2025/07/19 20:37:14 INFO dspy.teleprompt.mipro_optimizer_v2: Doing full eval on next top averaging program (Avg Score: 57.14) from minibatch trials...\n"
     ]
    },
    {
     "name": "stdout",
     "output_type": "stream",
     "text": [
      "Average Metric: 49.00 / 100 (49.0%): 100%|██████████| 100/100 [00:03<00:00, 25.11it/s]"
     ]
    },
    {
     "name": "stderr",
     "output_type": "stream",
     "text": [
      "2025/07/19 20:37:18 INFO dspy.evaluate.evaluate: Average Metric: 49 / 100 (49.0%)\n",
      "2025/07/19 20:37:18 INFO dspy.teleprompt.mipro_optimizer_v2: Full eval scores so far: [31.0, 50.0, 49.0, 49.0]\n",
      "2025/07/19 20:37:18 INFO dspy.teleprompt.mipro_optimizer_v2: Best full score so far: 50.0\n",
      "2025/07/19 20:37:18 INFO dspy.teleprompt.mipro_optimizer_v2: =======================\n",
      "2025/07/19 20:37:18 INFO dspy.teleprompt.mipro_optimizer_v2: \n",
      "\n",
      "2025/07/19 20:37:18 INFO dspy.teleprompt.mipro_optimizer_v2: == Trial 20 / 25 - Minibatch ==\n"
     ]
    },
    {
     "name": "stdout",
     "output_type": "stream",
     "text": [
      "\n",
      "🏃 View run eval_full_3 at: https://s172-29-90-91p8080.lab-aws-production.deeplearning.ai//#/experiments/368932023392433418/runs/20344940ecb246deb322698e3c7df047\n",
      "🧪 View experiment at: https://s172-29-90-91p8080.lab-aws-production.deeplearning.ai//#/experiments/368932023392433418\n",
      "Average Metric: 17.00 / 35 (48.6%): 100%|██████████| 35/35 [00:01<00:00, 29.61it/s]"
     ]
    },
    {
     "name": "stderr",
     "output_type": "stream",
     "text": [
      "2025/07/19 20:37:19 INFO dspy.evaluate.evaluate: Average Metric: 17 / 35 (48.6%)\n",
      "2025/07/19 20:37:19 INFO dspy.teleprompt.mipro_optimizer_v2: Score: 48.57 on minibatch of size 35 with parameters ['Predictor 0: Instruction 0', 'Predictor 0: Few-Shot Set 1', 'Predictor 1: Instruction 2', 'Predictor 1: Few-Shot Set 1'].\n",
      "2025/07/19 20:37:19 INFO dspy.teleprompt.mipro_optimizer_v2: Minibatch scores so far: [8.57, 51.43, 14.29, 54.29, 48.57, 42.86, 54.29, 17.14, 37.14, 54.29, 51.43, 51.43, 54.29, 48.57, 57.14, 48.57]\n",
      "2025/07/19 20:37:19 INFO dspy.teleprompt.mipro_optimizer_v2: Full eval scores so far: [31.0, 50.0, 49.0, 49.0]\n",
      "2025/07/19 20:37:19 INFO dspy.teleprompt.mipro_optimizer_v2: Best full score so far: 50.0\n",
      "2025/07/19 20:37:19 INFO dspy.teleprompt.mipro_optimizer_v2: ==========================================\n",
      "\n",
      "\n",
      "2025/07/19 20:37:19 INFO dspy.teleprompt.mipro_optimizer_v2: == Trial 21 / 25 - Minibatch ==\n"
     ]
    },
    {
     "name": "stdout",
     "output_type": "stream",
     "text": [
      "\n",
      "🏃 View run eval_minibatch_15 at: https://s172-29-90-91p8080.lab-aws-production.deeplearning.ai//#/experiments/368932023392433418/runs/5dfd69729d60479d8d967d1d9115ba2d\n",
      "🧪 View experiment at: https://s172-29-90-91p8080.lab-aws-production.deeplearning.ai//#/experiments/368932023392433418\n",
      "Average Metric: 21.00 / 35 (60.0%): 100%|██████████| 35/35 [00:01<00:00, 24.63it/s]"
     ]
    },
    {
     "name": "stderr",
     "output_type": "stream",
     "text": [
      "2025/07/19 20:37:20 INFO dspy.evaluate.evaluate: Average Metric: 21 / 35 (60.0%)\n"
     ]
    },
    {
     "name": "stdout",
     "output_type": "stream",
     "text": [
      "\n"
     ]
    },
    {
     "name": "stderr",
     "output_type": "stream",
     "text": [
      "2025/07/19 20:37:20 INFO dspy.teleprompt.mipro_optimizer_v2: Score: 60.0 on minibatch of size 35 with parameters ['Predictor 0: Instruction 0', 'Predictor 0: Few-Shot Set 2', 'Predictor 1: Instruction 2', 'Predictor 1: Few-Shot Set 3'].\n",
      "2025/07/19 20:37:20 INFO dspy.teleprompt.mipro_optimizer_v2: Minibatch scores so far: [8.57, 51.43, 14.29, 54.29, 48.57, 42.86, 54.29, 17.14, 37.14, 54.29, 51.43, 51.43, 54.29, 48.57, 57.14, 48.57, 60.0]\n",
      "2025/07/19 20:37:20 INFO dspy.teleprompt.mipro_optimizer_v2: Full eval scores so far: [31.0, 50.0, 49.0, 49.0]\n",
      "2025/07/19 20:37:20 INFO dspy.teleprompt.mipro_optimizer_v2: Best full score so far: 50.0\n",
      "2025/07/19 20:37:20 INFO dspy.teleprompt.mipro_optimizer_v2: ==========================================\n",
      "\n",
      "\n",
      "2025/07/19 20:37:20 INFO dspy.teleprompt.mipro_optimizer_v2: == Trial 22 / 25 - Minibatch ==\n"
     ]
    },
    {
     "name": "stdout",
     "output_type": "stream",
     "text": [
      "🏃 View run eval_minibatch_16 at: https://s172-29-90-91p8080.lab-aws-production.deeplearning.ai//#/experiments/368932023392433418/runs/f223fa221f924780b85baf1d72ab4f77\n",
      "🧪 View experiment at: https://s172-29-90-91p8080.lab-aws-production.deeplearning.ai//#/experiments/368932023392433418\n",
      "Average Metric: 18.00 / 35 (51.4%): 100%|██████████| 35/35 [00:01<00:00, 18.26it/s]"
     ]
    },
    {
     "name": "stderr",
     "output_type": "stream",
     "text": [
      "2025/07/19 20:37:22 INFO dspy.evaluate.evaluate: Average Metric: 18 / 35 (51.4%)\n",
      "2025/07/19 20:37:22 INFO dspy.teleprompt.mipro_optimizer_v2: Score: 51.43 on minibatch of size 35 with parameters ['Predictor 0: Instruction 0', 'Predictor 0: Few-Shot Set 2', 'Predictor 1: Instruction 2', 'Predictor 1: Few-Shot Set 5'].\n",
      "2025/07/19 20:37:22 INFO dspy.teleprompt.mipro_optimizer_v2: Minibatch scores so far: [8.57, 51.43, 14.29, 54.29, 48.57, 42.86, 54.29, 17.14, 37.14, 54.29, 51.43, 51.43, 54.29, 48.57, 57.14, 48.57, 60.0, 51.43]\n",
      "2025/07/19 20:37:22 INFO dspy.teleprompt.mipro_optimizer_v2: Full eval scores so far: [31.0, 50.0, 49.0, 49.0]\n",
      "2025/07/19 20:37:22 INFO dspy.teleprompt.mipro_optimizer_v2: Best full score so far: 50.0\n",
      "2025/07/19 20:37:22 INFO dspy.teleprompt.mipro_optimizer_v2: ==========================================\n",
      "\n",
      "\n",
      "2025/07/19 20:37:22 INFO dspy.teleprompt.mipro_optimizer_v2: == Trial 23 / 25 - Minibatch ==\n"
     ]
    },
    {
     "name": "stdout",
     "output_type": "stream",
     "text": [
      "\n",
      "🏃 View run eval_minibatch_17 at: https://s172-29-90-91p8080.lab-aws-production.deeplearning.ai//#/experiments/368932023392433418/runs/13a12818b8aa4ff1aa0e94bb720d04cc\n",
      "🧪 View experiment at: https://s172-29-90-91p8080.lab-aws-production.deeplearning.ai//#/experiments/368932023392433418\n",
      "Average Metric: 18.00 / 35 (51.4%): 100%|██████████| 35/35 [00:01<00:00, 24.38it/s]"
     ]
    },
    {
     "name": "stderr",
     "output_type": "stream",
     "text": [
      "2025/07/19 20:37:24 INFO dspy.evaluate.evaluate: Average Metric: 18 / 35 (51.4%)\n",
      "2025/07/19 20:37:24 INFO dspy.teleprompt.mipro_optimizer_v2: Score: 51.43 on minibatch of size 35 with parameters ['Predictor 0: Instruction 2', 'Predictor 0: Few-Shot Set 2', 'Predictor 1: Instruction 2', 'Predictor 1: Few-Shot Set 3'].\n",
      "2025/07/19 20:37:24 INFO dspy.teleprompt.mipro_optimizer_v2: Minibatch scores so far: [8.57, 51.43, 14.29, 54.29, 48.57, 42.86, 54.29, 17.14, 37.14, 54.29, 51.43, 51.43, 54.29, 48.57, 57.14, 48.57, 60.0, 51.43, 51.43]\n",
      "2025/07/19 20:37:24 INFO dspy.teleprompt.mipro_optimizer_v2: Full eval scores so far: [31.0, 50.0, 49.0, 49.0]\n",
      "2025/07/19 20:37:24 INFO dspy.teleprompt.mipro_optimizer_v2: Best full score so far: 50.0\n",
      "2025/07/19 20:37:24 INFO dspy.teleprompt.mipro_optimizer_v2: ==========================================\n",
      "\n",
      "\n",
      "2025/07/19 20:37:24 INFO dspy.teleprompt.mipro_optimizer_v2: == Trial 24 / 25 - Minibatch ==\n"
     ]
    },
    {
     "name": "stdout",
     "output_type": "stream",
     "text": [
      "\n",
      "🏃 View run eval_minibatch_18 at: https://s172-29-90-91p8080.lab-aws-production.deeplearning.ai//#/experiments/368932023392433418/runs/b0049c12871c43cca9a98f7314b48a55\n",
      "🧪 View experiment at: https://s172-29-90-91p8080.lab-aws-production.deeplearning.ai//#/experiments/368932023392433418\n",
      "Average Metric: 17.00 / 35 (48.6%): 100%|██████████| 35/35 [00:01<00:00, 24.74it/s]"
     ]
    },
    {
     "name": "stderr",
     "output_type": "stream",
     "text": [
      "2025/07/19 20:37:25 INFO dspy.evaluate.evaluate: Average Metric: 17 / 35 (48.6%)\n",
      "2025/07/19 20:37:25 INFO dspy.teleprompt.mipro_optimizer_v2: Score: 48.57 on minibatch of size 35 with parameters ['Predictor 0: Instruction 0', 'Predictor 0: Few-Shot Set 4', 'Predictor 1: Instruction 2', 'Predictor 1: Few-Shot Set 3'].\n",
      "2025/07/19 20:37:25 INFO dspy.teleprompt.mipro_optimizer_v2: Minibatch scores so far: [8.57, 51.43, 14.29, 54.29, 48.57, 42.86, 54.29, 17.14, 37.14, 54.29, 51.43, 51.43, 54.29, 48.57, 57.14, 48.57, 60.0, 51.43, 51.43, 48.57]\n",
      "2025/07/19 20:37:25 INFO dspy.teleprompt.mipro_optimizer_v2: Full eval scores so far: [31.0, 50.0, 49.0, 49.0]\n",
      "2025/07/19 20:37:25 INFO dspy.teleprompt.mipro_optimizer_v2: Best full score so far: 50.0\n",
      "2025/07/19 20:37:25 INFO dspy.teleprompt.mipro_optimizer_v2: ==========================================\n",
      "\n",
      "\n",
      "2025/07/19 20:37:25 INFO dspy.teleprompt.mipro_optimizer_v2: ===== Trial 25 / 25 - Full Evaluation =====\n",
      "2025/07/19 20:37:25 INFO dspy.teleprompt.mipro_optimizer_v2: Doing full eval on next top averaging program (Avg Score: 60.0) from minibatch trials...\n"
     ]
    },
    {
     "name": "stdout",
     "output_type": "stream",
     "text": [
      "\n",
      "🏃 View run eval_minibatch_19 at: https://s172-29-90-91p8080.lab-aws-production.deeplearning.ai//#/experiments/368932023392433418/runs/78beff4b559a412f8c13dd0b8b8e69bf\n",
      "🧪 View experiment at: https://s172-29-90-91p8080.lab-aws-production.deeplearning.ai//#/experiments/368932023392433418\n",
      "Average Metric: 54.00 / 100 (54.0%): 100%|██████████| 100/100 [00:04<00:00, 24.31it/s]"
     ]
    },
    {
     "name": "stderr",
     "output_type": "stream",
     "text": [
      "2025/07/19 20:37:29 INFO dspy.evaluate.evaluate: Average Metric: 54 / 100 (54.0%)\n",
      "2025/07/19 20:37:30 INFO dspy.teleprompt.mipro_optimizer_v2: \u001b[92mNew best full eval score!\u001b[0m Score: 54.0\n",
      "2025/07/19 20:37:30 INFO dspy.teleprompt.mipro_optimizer_v2: Full eval scores so far: [31.0, 50.0, 49.0, 49.0, 54.0]\n",
      "2025/07/19 20:37:30 INFO dspy.teleprompt.mipro_optimizer_v2: Best full score so far: 54.0\n",
      "2025/07/19 20:37:30 INFO dspy.teleprompt.mipro_optimizer_v2: =======================\n",
      "2025/07/19 20:37:30 INFO dspy.teleprompt.mipro_optimizer_v2: \n",
      "\n",
      "2025/07/19 20:37:30 INFO dspy.teleprompt.mipro_optimizer_v2: Returning best identified program with score 54.0!\n"
     ]
    },
    {
     "name": "stdout",
     "output_type": "stream",
     "text": [
      "\n",
      "🏃 View run eval_full_4 at: https://s172-29-90-91p8080.lab-aws-production.deeplearning.ai//#/experiments/368932023392433418/runs/f08c17bf4d5741d991786684d7aa7e85\n",
      "🧪 View experiment at: https://s172-29-90-91p8080.lab-aws-production.deeplearning.ai//#/experiments/368932023392433418\n"
     ]
    },
    {
     "data": {
      "application/vnd.jupyter.widget-view+json": {
       "model_id": "97d7b12f6bcd4016b04c03113326c424",
       "version_major": 2,
       "version_minor": 0
      },
      "text/plain": [
       "Downloading artifacts:   0%|          | 0/1 [00:00<?, ?it/s]"
      ]
     },
     "metadata": {},
     "output_type": "display_data"
    },
    {
     "name": "stdout",
     "output_type": "stream",
     "text": [
      "🏃 View run calm-goose-572 at: https://s172-29-90-91p8080.lab-aws-production.deeplearning.ai//#/experiments/368932023392433418/runs/e705021164564f7584379f1da47cc1f0\n",
      "🧪 View experiment at: https://s172-29-90-91p8080.lab-aws-production.deeplearning.ai//#/experiments/368932023392433418\n"
     ]
    },
    {
     "data": {
      "text/html": [
       "\n",
       "<div>\n",
       "  <style scoped>\n",
       "  button {\n",
       "    border: none;\n",
       "    border-radius: 4px;\n",
       "    background-color: rgb(34, 114, 180);\n",
       "    font-family: -apple-system, \"system-ui\", \"Segoe UI\", Roboto, \"Helvetica Neue\", Arial;\n",
       "    font-size: 13px;\n",
       "    color: white;\n",
       "    margin-top: 8px;\n",
       "    margin-bottom: 8px;\n",
       "    padding: 8px 16px;\n",
       "    cursor: pointer;\n",
       "  }\n",
       "  button:hover {\n",
       "    background-color: rgb(66, 153, 224);\n",
       "  }\n",
       "  </style>\n",
       "  <button\n",
       "    onclick=\"\n",
       "        const display = this.nextElementSibling.style.display;\n",
       "        const isCollapsed = display === 'none';\n",
       "        this.nextElementSibling.style.display = isCollapsed ? null : 'none';\n",
       "\n",
       "        const verb = isCollapsed ? 'Collapse' : 'Expand';\n",
       "        this.innerText = `${verb} MLflow Trace`;\n",
       "    \"\n",
       "  >Collapse MLflow Trace</button>\n",
       "  <iframe\n",
       "    id=\"trace-renderer\"\n",
       "    style=\"width: 100%; height: 500px; border: none; resize: vertical;\"\n",
       "    src=\"https://s172-29-90-91p8080.lab-aws-production.deeplearning.ai/static-files/lib/notebook-trace-renderer/index.html?trace_id=6bb4d64987774ef099d055ab8f569f0a&amp;experiment_id=368932023392433418&amp;trace_id=828918bd9c9749a0836eafe2582a0763&amp;experiment_id=368932023392433418&amp;trace_id=e917067e4be4446b9c39c3b234ee59ec&amp;experiment_id=368932023392433418&amp;trace_id=fda8c0f9cbd940daa81bf6c334c52426&amp;experiment_id=368932023392433418&amp;trace_id=512f3fddbf274d2f9908368ca85468c0&amp;experiment_id=368932023392433418&amp;trace_id=4672fde81ccc4c8490caf890b07c0207&amp;experiment_id=368932023392433418&amp;trace_id=4062eee2c38b4298801f1de3836247fa&amp;experiment_id=368932023392433418&amp;trace_id=5607c9c1e1ff43c4b898baf6da02e3ed&amp;experiment_id=368932023392433418&amp;trace_id=2c468f2af03e45418ec08645539d5143&amp;experiment_id=368932023392433418&amp;trace_id=887facd8674244448800c9581d4a3f51&amp;experiment_id=368932023392433418&amp;version=2.21.3\"\n",
       "  />\n",
       "</div>\n"
      ],
      "text/plain": [
       "[Trace(request_id=6bb4d64987774ef099d055ab8f569f0a), Trace(request_id=828918bd9c9749a0836eafe2582a0763), Trace(request_id=e917067e4be4446b9c39c3b234ee59ec), Trace(request_id=fda8c0f9cbd940daa81bf6c334c52426), Trace(request_id=512f3fddbf274d2f9908368ca85468c0), Trace(request_id=4672fde81ccc4c8490caf890b07c0207), Trace(request_id=4062eee2c38b4298801f1de3836247fa), Trace(request_id=5607c9c1e1ff43c4b898baf6da02e3ed), Trace(request_id=2c468f2af03e45418ec08645539d5143), Trace(request_id=887facd8674244448800c9581d4a3f51)]"
      ]
     },
     "metadata": {},
     "output_type": "display_data"
    }
   ],
   "source": [
    "optimized_react = tp.compile(\n",
    "    react,\n",
    "    trainset=trainset,\n",
    "    valset=valset,\n",
    "    requires_permission_to_run=False,\n",
    ")"
   ]
  },
  {
   "cell_type": "code",
   "execution_count": 13,
   "id": "6d4a455e-796e-4692-8a52-b97cb32d30b8",
   "metadata": {
    "height": 30
   },
   "outputs": [
    {
     "data": {
      "text/plain": [
       "StringSignature(question, trajectory -> next_thought, next_tool_name, next_tool_args\n",
       "    instructions=\"Given the fields `question`, produce the fields `answer`.\\n\\nYou are an Agent. In each episode, you will be given the fields `question` as input. And you can see your past trajectory so far.\\nYour goal is to use one or more of the supplied tools to collect any necessary information for producing `answer`.\\n\\nTo do this, you will interleave next_thought, next_tool_name, and next_tool_args in each turn, and also when finishing the task.\\nAfter each tool call, you receive a resulting observation, which gets appended to your trajectory.\\n\\nWhen writing next_thought, you may reason about the current situation and plan for future steps.\\nWhen selecting the next_tool_name and its next_tool_args, the tool must be one of:\\n\\n(1) search_wikipedia. It takes arguments {'query': {'type': 'string'}} in JSON format.\\n(2) finish, whose description is <desc>Marks the task as complete. That is, signals that all infomration for producing the outputs, i.e. `answer`, are now available to be extracted.</desc>. It takes arguments {} in JSON format.\"\n",
       "    question = Field(annotation=str required=True json_schema_extra={'__dspy_field_type': 'input', 'prefix': 'Question:', 'desc': '${question}'})\n",
       "    trajectory = Field(annotation=str required=True json_schema_extra={'__dspy_field_type': 'input', 'prefix': 'Trajectory:', 'desc': '${trajectory}'})\n",
       "    next_thought = Field(annotation=str required=True json_schema_extra={'__dspy_field_type': 'output', 'prefix': 'Next Thought:', 'desc': '${next_thought}'})\n",
       "    next_tool_name = Field(annotation=Literal['search_wikipedia', 'finish'] required=True json_schema_extra={'__dspy_field_type': 'output', 'prefix': 'Next Tool Name:', 'desc': '${next_tool_name}'})\n",
       "    next_tool_args = Field(annotation=dict[str, Any] required=True json_schema_extra={'__dspy_field_type': 'output', 'prefix': 'Next Tool Args:', 'desc': '${next_tool_args}'})\n",
       ")"
      ]
     },
     "execution_count": 13,
     "metadata": {},
     "output_type": "execute_result"
    }
   ],
   "source": [
    "optimized_react.react.signature"
   ]
  },
  {
   "cell_type": "code",
   "execution_count": 14,
   "id": "2652275a-b2a2-4f6e-ba97-7683da764f2d",
   "metadata": {
    "height": 30
   },
   "outputs": [
    {
     "data": {
      "text/plain": [
       "[Example({'augmented': True, 'question': 'That Darn Cat! and Never a Dull Moment were both produced by what studio?', 'trajectory': '[[ ## thought_0 ## ]]\\nI need to find out which studio produced both \"That Darn Cat!\" and \"Never a Dull Moment.\" This information is likely available on Wikipedia, so I will search for it there.\\n\\n[[ ## tool_name_0 ## ]]\\nsearch_wikipedia\\n\\n[[ ## tool_args_0 ## ]]\\n{\"query\": \"That Darn Cat! and Never a Dull Moment studio production\"}\\n\\n[[ ## observation_0 ## ]]\\n[1] «That Darn Cat! | That Darn Cat! is a 1965 American Walt Disney Productions thriller comedy film starring Hayley Mills (in her last of the six films she made for the Walt Disney Studios) and Dean Jones (starring in his first film for Disney) in a story about bank robbers, a kidnapping and a mischievous cat. The film was based on the 1963 novel \"Undercover Cat\" by Gordon and Mildred Gordon and was directed by Robert Stevenson. The title song was written by the Sherman Brothers and sung by Bobby Darin. The 1997 remake includes a cameo appearance by Dean Jones.»\\n[2] «Never a Dull Moment (1968 film) | Never a Dull Moment is a 1968 American comedy crime film from Walt Disney Productions starring Dick Van Dyke and Edward G. Robinson and directed by Jerry Paris. The script by AJ Carothers was based on a novel by John Godey. The supporting cast features Dorothy Provine, Henry Silva, Slim Pickens and Jack Elam.»\\n[3] «That Darn Cat (1997 film) | That Darn Cat is a 1997 American mystery comedy film starring Christina Ricci and Doug E. Doug. It is a remake of the 1965 film \"That Darn Cat! \", which in turn was based on the book \"Undercover Cat\" by Gordon and Mildred Gordon. It is directed by British TV veteran Bob Spiers (most famous for \"Fawlty Towers\", as well as \"Spice World\") and written by Scott Alexander and Larry Karaszewski, best known for \"Ed Wood\" and the first two \"Problem Child\" films.»', 'next_thought': 'Both \"That Darn Cat!\" and \"Never a Dull Moment\" were produced by Walt Disney Productions. I have the information I need to answer the question.', 'next_tool_name': 'finish', 'next_tool_args': {}}) (input_keys=None),\n",
       " Example({'augmented': True, 'question': 'Which Centre did the author of \"The Strange Death of Europe\" found?', 'trajectory': '[[ ## thought_0 ## ]]\\nI need to find out which Centre was founded by the author of \"The Strange Death of Europe.\" This information might be available on Wikipedia, so I will search for it.\\n\\n[[ ## tool_name_0 ## ]]\\nsearch_wikipedia\\n\\n[[ ## tool_args_0 ## ]]\\n{\"query\": \"author of \\'The Strange Death of Europe\\' founded Centre\"}\\n\\n[[ ## observation_0 ## ]]\\n[1] «The Strange Death of Europe | The Strange Death of Europe: Immigration, Identity, Islam is a 2017 book by the British journalist and political commentator, Douglas Murray. It was published in Britain in May 2017, and the U.S. edition in June, 2017.»\\n[2] «The Strange Death of Liberal England | The Strange Death of Liberal England is a book written by George Dangerfield published in 1935. In it the author discusses the causes of the decline in the influence of the British Liberal Party in the years 1910 to 1914.»\\n[3] «The Strange Death of Tory England | The Strange Death of Tory England is a book of political commentary by the journalist Geoffrey Wheatcroft, published in 2005.»\\n\\n[[ ## thought_1 ## ]]\\nThe search did not provide information about the Centre founded by Douglas Murray, the author of \"The Strange Death of Europe.\" I need to refine my search to focus specifically on Douglas Murray and any organizations or Centres he may have founded.\\n\\n[[ ## tool_name_1 ## ]]\\nsearch_wikipedia\\n\\n[[ ## tool_args_1 ## ]]\\n{\"query\": \"Douglas Murray founded Centre\"}\\n\\n[[ ## observation_1 ## ]]\\n[1] «Douglas Murray (author) | Douglas Kear Murray (born 16 July 1979) is a British author, journalist, and political commentator. He is the founder of the Centre for Social Cohesion and is currently the associate director of the Henry Jackson Society and associate editor of \"The Spectator\".»\\n[2] «Big Switch Networks | Big Switch Networks is a data center networking company. The company was founded by Kyle Forster and Guido Appenzeller in 2010 and has roots in the original Stanford research team that invented software defined networking (SDN). Douglas Murray, a former Juniper Networks and Sun Microsystems executive, joined the company as CEO in 2013 as the company went through a significant pivot following VMware\\'s acquisition of Nicira.»\\n[3] «Westgate, Oxford | The Westgate Shopping Centre (locally known as the Westgate Centre or Westgate) is a shopping centre in central Oxford, England, currently undergoing redevelopment. The original centre was built between 1970–72, designed by Douglas Murray and built by Taylor Woodrow. The centre was closed in February 2016 for comprehensive redevelopment, and is planned to re-open in October 2017.»', 'next_thought': 'I found that Douglas Murray is the founder of the Centre for Social Cohesion. This answers the question about which Centre he founded. I can now finish the task.', 'next_tool_name': 'finish', 'next_tool_args': {}}) (input_keys=None),\n",
       " Example({'augmented': True, 'question': 'Which publication has been published by a greater number of groups, House Beautiful or Smithsonian?', 'trajectory': '[[ ## thought_0 ## ]]\\nI need to find out how many groups have published the magazine House Beautiful and how many have published Smithsonian. This information is likely available on Wikipedia, so I will search for both publications to compare their publication histories.\\n\\n[[ ## tool_name_0 ## ]]\\nsearch_wikipedia\\n\\n[[ ## tool_args_0 ## ]]\\n{\"query\": \"House Beautiful magazine publication history\"}\\n\\n[[ ## observation_0 ## ]]\\n[1] «House Beautiful | House Beautiful is an interior decorating magazine that focuses on decorating and the domestic arts. First published in 1896, it is currently published by the Hearst Corporation, who began publishing it in 1934. It is the oldest still-published magazine in what is known as the \"shelter magazine\" genre.»\\n[2] «Ethel B. Power | Ethel B. Power (1881–1969) was the editor of \"House Beautiful\" magazine in the 1920s and early 1930s, and in this capacity she championed a generation of women architects who emerged from the newly founded Cambridge School of Architecture and Landscape Architecture. A trained architect herself, she also published a compilation of plans for small houses by notable architects of the day.»\\n[3] «Elizabeth Gordon (editor) | Elizabeth Gordon (August 8, 1906 - September 3, 2000) was editor of House Beautiful magazine from 1941 to 1964. She was remembered as \"a missionary of taste to the American homemaker.\"»\\n\\n[[ ## thought_1 ## ]]\\nI have found some information about House Beautiful, but I need to search for the publication history of Smithsonian to compare the number of groups that have published each magazine.\\n\\n[[ ## tool_name_1 ## ]]\\nsearch_wikipedia\\n\\n[[ ## tool_args_1 ## ]]\\n{\"query\": \"Smithsonian magazine publication history\"}\\n\\n[[ ## observation_1 ## ]]\\n[1] «Smithsonian (magazine) | Smithsonian is the official journal published by the Smithsonian Institution in Washington, D.C. The first issue was published in 1970.»\\n[2] «Air &amp; Space/Smithsonian | Air & Space/Smithsonian magazine is a bimonthly magazine put out by the National Air and Space Museum. Its first publishing was in April 1986. Because the museum is a part of the Smithsonian Institution, which puts out its own \"Smithsonian\" magazine, the magazine\\'s full title is \"Air & Space/Smithsonian\". Therefore, the word \"Smithsonian\" appears on the cover, just beneath \"AIR&SPACE\", in a much smaller size.»\\n[3] «Smithsonian Contributions and Studies Series | The Smithsonian Contributions and Studies Series is a collection of serial periodical publications produced by the Smithsonian Institution, detailing advances in various scientific and societal fields to which the Smithsonian Institution has made contributions.»\\n\\n[[ ## thought_2 ## ]]\\nI have found that House Beautiful has been published since 1896 and is currently published by the Hearst Corporation. Smithsonian magazine, on the other hand, was first published in 1970 by the Smithsonian Institution. However, I still need to determine how many different groups have published each magazine over their histories. I will search for more detailed publication history for both magazines to find this information.\\n\\n[[ ## tool_name_2 ## ]]\\nsearch_wikipedia\\n\\n[[ ## tool_args_2 ## ]]\\n{\"query\": \"House Beautiful magazine publishers history\"}\\n\\n[[ ## observation_2 ## ]]\\n[1] «House Beautiful | House Beautiful is an interior decorating magazine that focuses on decorating and the domestic arts. First published in 1896, it is currently published by the Hearst Corporation, who began publishing it in 1934. It is the oldest still-published magazine in what is known as the \"shelter magazine\" genre.»\\n[2] «Ethel B. Power | Ethel B. Power (1881–1969) was the editor of \"House Beautiful\" magazine in the 1920s and early 1930s, and in this capacity she championed a generation of women architects who emerged from the newly founded Cambridge School of Architecture and Landscape Architecture. A trained architect herself, she also published a compilation of plans for small houses by notable architects of the day.»\\n[3] «Elizabeth Gordon (editor) | Elizabeth Gordon (August 8, 1906 - September 3, 2000) was editor of House Beautiful magazine from 1941 to 1964. She was remembered as \"a missionary of taste to the American homemaker.\"»', 'next_thought': 'I still need to find out how many different groups have published the Smithsonian magazine. The previous search did not provide enough information about the publishers of Smithsonian. I will search for the publication history of Smithsonian magazine to gather more details.', 'next_tool_name': 'search_wikipedia', 'next_tool_args': {'query': 'Smithsonian magazine publishers history'}}) (input_keys=None),\n",
       " Example({'augmented': True, 'question': 'What is the name of the school located near the Brea mall owned by Simon Property Group?', 'trajectory': '[[ ## thought_0 ## ]]\\nI need to find the name of the school located near the Brea mall that is owned by Simon Property Group. This information might be available on Wikipedia or other reliable sources. I will search for it to gather the necessary details.\\n\\n[[ ## tool_name_0 ## ]]\\nsearch_wikipedia\\n\\n[[ ## tool_args_0 ## ]]\\n{\"query\": \"school near Brea mall owned by Simon Property Group\"}\\n\\n[[ ## observation_0 ## ]]\\n[1] «Brea Mall | The Brea Mall is a shopping mall located in the Orange County city of Brea, California. Since 1998 the mall has been owned and operated by the Simon Property Group. It is home to four major department stores, over 175 specialty shops and boutiques, and a food court. It is approximately 1,310,000 square feet (1.31 million).»\\n[2] «Briarwood Mall | Briarwood Mall is a shopping mall in Ann Arbor, Michigan, United States. The mall\\'s four anchor stores are Macy\\'s, JCPenney, Sears, and Von Maur. Surrounded by office and other development, the mall anchors the southern Ann Arbor commercial area around Eisenhower Boulevard and I-94. It serves as the primary shopping mall for all of Washtenaw County. Simon Property Group currently manages and co-owns the mall (Simon owns 50%). Briarwood is considered a Class A mall property by developers based on its sales per square foot. Many restaurants, hotels and stores surround the mall.»\\n[3] «Mall at The Source | The Mall at the Source (also known as The Source Mall or simply The Source) is a shopping mall located in Westbury, New York, United States, on Old Country Road and Merchants Concourse (Ellison Avenue), currently managed by Newmark Grubb Knight Frank and owned by lenders. Until August 2012, the mall was managed and co-owned by Simon Property Group. Its last stores included an Old Navy, an H&M, and a David\\'s Bridal. It currently only has a couple upscale restaurants — The Cheesecake Factory and P. F. Chang\\'s China Bistro — a Dave & Buster\\'s, a Lord and Taylor outlet, a Fortunoff\\'s outdoor furniture outlet, a Gymboree Play & Music, a few discount retailers, an rescue animal shelter, and small standalone kiosks. The mall was named for its former anchor store Fortunoff (which used the phrase \"The Source\" in advertising for the chain), which the mall was built around and which closed in June 2009.»', 'next_thought': 'The search did not return any information about the school near the Brea mall owned by Simon Property Group. I need to refine my search or look for other sources that might provide this specific information.', 'next_tool_name': 'search_wikipedia', 'next_tool_args': {'query': 'Brea mall school Simon Property Group'}}) (input_keys=None)]"
      ]
     },
     "execution_count": 14,
     "metadata": {},
     "output_type": "execute_result"
    }
   ],
   "source": [
    "optimized_react.react.demos"
   ]
  },
  {
   "cell_type": "code",
   "execution_count": 15,
   "id": "f5ebd0e2-8bf3-4df1-95b0-34f40448217e",
   "metadata": {
    "height": 132
   },
   "outputs": [],
   "source": [
    "evaluator = dspy.Evaluate(\n",
    "    metric=dspy.evaluate.answer_exact_match,\n",
    "    devset=valset,\n",
    "    display_table=True,\n",
    "    display_progress=True,\n",
    "    num_threads=24,\n",
    ")"
   ]
  },
  {
   "cell_type": "code",
   "execution_count": 16,
   "id": "ba7c1340-0e74-4bb0-9fe4-b5eb7b4b279a",
   "metadata": {
    "height": 47
   },
   "outputs": [
    {
     "name": "stdout",
     "output_type": "stream",
     "text": [
      "Average Metric: 31.00 / 100 (31.0%): 100%|██████████| 100/100 [00:03<00:00, 29.30it/s]"
     ]
    },
    {
     "name": "stderr",
     "output_type": "stream",
     "text": [
      "2025/07/19 20:37:33 INFO dspy.evaluate.evaluate: Average Metric: 31 / 100 (31.0%)\n"
     ]
    },
    {
     "name": "stdout",
     "output_type": "stream",
     "text": [
      "\n"
     ]
    },
    {
     "data": {
      "text/html": [
       "<div>\n",
       "<style scoped>\n",
       "    .dataframe tbody tr th:only-of-type {\n",
       "        vertical-align: middle;\n",
       "    }\n",
       "\n",
       "    .dataframe tbody tr th {\n",
       "        vertical-align: top;\n",
       "    }\n",
       "\n",
       "    .dataframe thead th {\n",
       "        text-align: right;\n",
       "    }\n",
       "</style>\n",
       "<table border=\"1\" class=\"dataframe\">\n",
       "  <thead>\n",
       "    <tr style=\"text-align: right;\">\n",
       "      <th></th>\n",
       "      <th>question</th>\n",
       "      <th>example_answer</th>\n",
       "      <th>trajectory</th>\n",
       "      <th>reasoning</th>\n",
       "      <th>pred_answer</th>\n",
       "      <th>answer_exact_match</th>\n",
       "    </tr>\n",
       "  </thead>\n",
       "  <tbody>\n",
       "    <tr>\n",
       "      <th>0</th>\n",
       "      <td>What movie did \"the king of cool\" play in with Bud Ekins as his st...</td>\n",
       "      <td>\"The Great Escape\"</td>\n",
       "      <td>{'thought_0': 'I need to find out which movie \"the king of cool\" s...</td>\n",
       "      <td>Steve McQueen, known as \"the king of cool,\" starred in the movie \"...</td>\n",
       "      <td>The movie is \"The Great Escape.\"</td>\n",
       "      <td></td>\n",
       "    </tr>\n",
       "    <tr>\n",
       "      <th>1</th>\n",
       "      <td>whos family had their own reality tv show. Robert Kardashian or Ma...</td>\n",
       "      <td>their family reality television series</td>\n",
       "      <td>{'thought_0': 'I need to determine which individual, Robert Kardas...</td>\n",
       "      <td>Robert Kardashian's family is well-known for their reality TV show...</td>\n",
       "      <td>Robert Kardashian's family had their own reality TV show.</td>\n",
       "      <td></td>\n",
       "    </tr>\n",
       "    <tr>\n",
       "      <th>2</th>\n",
       "      <td>Which star in Shadows in Paradise is a Russian ballerina?</td>\n",
       "      <td>Sofya Skya</td>\n",
       "      <td>{'thought_0': 'I need to find out which star in the film \"Shadows ...</td>\n",
       "      <td>I searched for information about the cast of the 1986 film \"Shadow...</td>\n",
       "      <td>There is no information available about a Russian ballerina in the...</td>\n",
       "      <td></td>\n",
       "    </tr>\n",
       "    <tr>\n",
       "      <th>3</th>\n",
       "      <td>What was the meaning of the name of the man who appointed Amashsai?</td>\n",
       "      <td>comforter</td>\n",
       "      <td>{'thought_0': \"I need to find out who appointed Amashsai and the m...</td>\n",
       "      <td>Nehemiah appointed Amashsai to work at the temple in Jerusalem. Th...</td>\n",
       "      <td>The meaning of the name of the man who appointed Amashsai, Nehemia...</td>\n",
       "      <td></td>\n",
       "    </tr>\n",
       "    <tr>\n",
       "      <th>4</th>\n",
       "      <td>In addition to the Austrian passport, what is needed to gain acces...</td>\n",
       "      <td>national identity card</td>\n",
       "      <td>{'thought_0': 'I need to find out what additional requirements or ...</td>\n",
       "      <td>To gain access to 173 countries and territories with an Austrian p...</td>\n",
       "      <td>In addition to the Austrian passport, travelers may need to obtain...</td>\n",
       "      <td></td>\n",
       "    </tr>\n",
       "    <tr>\n",
       "      <th>...</th>\n",
       "      <td>...</td>\n",
       "      <td>...</td>\n",
       "      <td>...</td>\n",
       "      <td>...</td>\n",
       "      <td>...</td>\n",
       "      <td>...</td>\n",
       "    </tr>\n",
       "    <tr>\n",
       "      <th>95</th>\n",
       "      <td>What date did the American actress and singer-songwriter, known fo...</td>\n",
       "      <td>April 19, 1994</td>\n",
       "      <td>{'thought_0': 'I need to find out the name of the American actress...</td>\n",
       "      <td>The American actress and singer-songwriter known for her role as P...</td>\n",
       "      <td>2007</td>\n",
       "      <td></td>\n",
       "    </tr>\n",
       "    <tr>\n",
       "      <th>96</th>\n",
       "      <td>What animated creatures were the title characters of the film whic...</td>\n",
       "      <td>seals</td>\n",
       "      <td>{'thought_0': 'I need to identify the animated creatures that were...</td>\n",
       "      <td>The animated creatures that are the title characters of the film b...</td>\n",
       "      <td>The animated creatures that are the title characters of the film b...</td>\n",
       "      <td></td>\n",
       "    </tr>\n",
       "    <tr>\n",
       "      <th>97</th>\n",
       "      <td>The 1925 Saint Mary's Gaels football team represented what private...</td>\n",
       "      <td>Saint Mary's College of California</td>\n",
       "      <td>{'thought_0': \"I need to find out which private, coeducational col...</td>\n",
       "      <td>The 1925 Saint Mary's Gaels football team represented Saint Mary's...</td>\n",
       "      <td>Saint Mary's College of California</td>\n",
       "      <td>✔️ [True]</td>\n",
       "    </tr>\n",
       "    <tr>\n",
       "      <th>98</th>\n",
       "      <td>Were Dorothy Arzner and Richard Wallace both French film directors?</td>\n",
       "      <td>no</td>\n",
       "      <td>{'thought_0': 'I need to verify the nationalities and contribution...</td>\n",
       "      <td>Both Dorothy Arzner and Richard Wallace were confirmed to be Ameri...</td>\n",
       "      <td>No, neither Dorothy Arzner nor Richard Wallace were French film di...</td>\n",
       "      <td></td>\n",
       "    </tr>\n",
       "    <tr>\n",
       "      <th>99</th>\n",
       "      <td>Which artist started recording/performing earlier David Donato or ...</td>\n",
       "      <td>Moya Brennan</td>\n",
       "      <td>{'thought_0': 'I need to find out the recording or performing star...</td>\n",
       "      <td>Moya Brennan began performing professionally in 1970 with her fami...</td>\n",
       "      <td>Moya Brennan started recording/performing earlier than David Donato.</td>\n",
       "      <td></td>\n",
       "    </tr>\n",
       "  </tbody>\n",
       "</table>\n",
       "<p>100 rows × 6 columns</p>\n",
       "</div>"
      ],
      "text/plain": [
       "                                                                 question  \\\n",
       "0   What movie did \"the king of cool\" play in with Bud Ekins as his st...   \n",
       "1   whos family had their own reality tv show. Robert Kardashian or Ma...   \n",
       "2               Which star in Shadows in Paradise is a Russian ballerina?   \n",
       "3     What was the meaning of the name of the man who appointed Amashsai?   \n",
       "4   In addition to the Austrian passport, what is needed to gain acces...   \n",
       "..                                                                    ...   \n",
       "95  What date did the American actress and singer-songwriter, known fo...   \n",
       "96  What animated creatures were the title characters of the film whic...   \n",
       "97  The 1925 Saint Mary's Gaels football team represented what private...   \n",
       "98    Were Dorothy Arzner and Richard Wallace both French film directors?   \n",
       "99  Which artist started recording/performing earlier David Donato or ...   \n",
       "\n",
       "                            example_answer  \\\n",
       "0                       \"The Great Escape\"   \n",
       "1   their family reality television series   \n",
       "2                               Sofya Skya   \n",
       "3                                comforter   \n",
       "4                   national identity card   \n",
       "..                                     ...   \n",
       "95                          April 19, 1994   \n",
       "96                                   seals   \n",
       "97      Saint Mary's College of California   \n",
       "98                                      no   \n",
       "99                            Moya Brennan   \n",
       "\n",
       "                                                               trajectory  \\\n",
       "0   {'thought_0': 'I need to find out which movie \"the king of cool\" s...   \n",
       "1   {'thought_0': 'I need to determine which individual, Robert Kardas...   \n",
       "2   {'thought_0': 'I need to find out which star in the film \"Shadows ...   \n",
       "3   {'thought_0': \"I need to find out who appointed Amashsai and the m...   \n",
       "4   {'thought_0': 'I need to find out what additional requirements or ...   \n",
       "..                                                                    ...   \n",
       "95  {'thought_0': 'I need to find out the name of the American actress...   \n",
       "96  {'thought_0': 'I need to identify the animated creatures that were...   \n",
       "97  {'thought_0': \"I need to find out which private, coeducational col...   \n",
       "98  {'thought_0': 'I need to verify the nationalities and contribution...   \n",
       "99  {'thought_0': 'I need to find out the recording or performing star...   \n",
       "\n",
       "                                                                reasoning  \\\n",
       "0   Steve McQueen, known as \"the king of cool,\" starred in the movie \"...   \n",
       "1   Robert Kardashian's family is well-known for their reality TV show...   \n",
       "2   I searched for information about the cast of the 1986 film \"Shadow...   \n",
       "3   Nehemiah appointed Amashsai to work at the temple in Jerusalem. Th...   \n",
       "4   To gain access to 173 countries and territories with an Austrian p...   \n",
       "..                                                                    ...   \n",
       "95  The American actress and singer-songwriter known for her role as P...   \n",
       "96  The animated creatures that are the title characters of the film b...   \n",
       "97  The 1925 Saint Mary's Gaels football team represented Saint Mary's...   \n",
       "98  Both Dorothy Arzner and Richard Wallace were confirmed to be Ameri...   \n",
       "99  Moya Brennan began performing professionally in 1970 with her fami...   \n",
       "\n",
       "                                                              pred_answer  \\\n",
       "0                                        The movie is \"The Great Escape.\"   \n",
       "1               Robert Kardashian's family had their own reality TV show.   \n",
       "2   There is no information available about a Russian ballerina in the...   \n",
       "3   The meaning of the name of the man who appointed Amashsai, Nehemia...   \n",
       "4   In addition to the Austrian passport, travelers may need to obtain...   \n",
       "..                                                                    ...   \n",
       "95                                                                   2007   \n",
       "96  The animated creatures that are the title characters of the film b...   \n",
       "97                                     Saint Mary's College of California   \n",
       "98  No, neither Dorothy Arzner nor Richard Wallace were French film di...   \n",
       "99   Moya Brennan started recording/performing earlier than David Donato.   \n",
       "\n",
       "   answer_exact_match  \n",
       "0                      \n",
       "1                      \n",
       "2                      \n",
       "3                      \n",
       "4                      \n",
       "..                ...  \n",
       "95                     \n",
       "96                     \n",
       "97          ✔️ [True]  \n",
       "98                     \n",
       "99                     \n",
       "\n",
       "[100 rows x 6 columns]"
      ]
     },
     "metadata": {},
     "output_type": "display_data"
    },
    {
     "name": "stdout",
     "output_type": "stream",
     "text": [
      "🏃 View run victorious-robin-491 at: https://s172-29-90-91p8080.lab-aws-production.deeplearning.ai//#/experiments/368932023392433418/runs/8ef1eb8a2a934292933a860114fccaf5\n",
      "🧪 View experiment at: https://s172-29-90-91p8080.lab-aws-production.deeplearning.ai//#/experiments/368932023392433418\n",
      "Original score: 31.0\n"
     ]
    },
    {
     "data": {
      "text/html": [
       "\n",
       "<div>\n",
       "  <style scoped>\n",
       "  button {\n",
       "    border: none;\n",
       "    border-radius: 4px;\n",
       "    background-color: rgb(34, 114, 180);\n",
       "    font-family: -apple-system, \"system-ui\", \"Segoe UI\", Roboto, \"Helvetica Neue\", Arial;\n",
       "    font-size: 13px;\n",
       "    color: white;\n",
       "    margin-top: 8px;\n",
       "    margin-bottom: 8px;\n",
       "    padding: 8px 16px;\n",
       "    cursor: pointer;\n",
       "  }\n",
       "  button:hover {\n",
       "    background-color: rgb(66, 153, 224);\n",
       "  }\n",
       "  </style>\n",
       "  <button\n",
       "    onclick=\"\n",
       "        const display = this.nextElementSibling.style.display;\n",
       "        const isCollapsed = display === 'none';\n",
       "        this.nextElementSibling.style.display = isCollapsed ? null : 'none';\n",
       "\n",
       "        const verb = isCollapsed ? 'Collapse' : 'Expand';\n",
       "        this.innerText = `${verb} MLflow Trace`;\n",
       "    \"\n",
       "  >Collapse MLflow Trace</button>\n",
       "  <iframe\n",
       "    id=\"trace-renderer\"\n",
       "    style=\"width: 100%; height: 500px; border: none; resize: vertical;\"\n",
       "    src=\"https://s172-29-90-91p8080.lab-aws-production.deeplearning.ai/static-files/lib/notebook-trace-renderer/index.html?trace_id=29cd15dedc8d443f8c9a9bd6465a7d28&amp;experiment_id=368932023392433418&amp;trace_id=02fb6a225b53479cbb4e69859f4c33c0&amp;experiment_id=368932023392433418&amp;trace_id=c8f6474fba5d43a5a5ad710f56ec1944&amp;experiment_id=368932023392433418&amp;trace_id=cb016d43d0f949f3a3378f79e25ab506&amp;experiment_id=368932023392433418&amp;trace_id=e54588f2dacc48b6a6e698d20eaa6ea0&amp;experiment_id=368932023392433418&amp;trace_id=76df57a396c74c84b7b9538a7b649f67&amp;experiment_id=368932023392433418&amp;trace_id=45f1e7abcc9e4a918d3aa907cbb8f0a1&amp;experiment_id=368932023392433418&amp;trace_id=aa439da991554991a0a2ce301f34b27c&amp;experiment_id=368932023392433418&amp;trace_id=284f19a0e4bd4f7ab4ec4f36371f47ef&amp;experiment_id=368932023392433418&amp;trace_id=1aa36bf64a8d4942abbe0efbf2887210&amp;experiment_id=368932023392433418&amp;version=2.21.3\"\n",
       "  />\n",
       "</div>\n"
      ],
      "text/plain": [
       "[Trace(request_id=29cd15dedc8d443f8c9a9bd6465a7d28), Trace(request_id=02fb6a225b53479cbb4e69859f4c33c0), Trace(request_id=c8f6474fba5d43a5a5ad710f56ec1944), Trace(request_id=cb016d43d0f949f3a3378f79e25ab506), Trace(request_id=e54588f2dacc48b6a6e698d20eaa6ea0), Trace(request_id=76df57a396c74c84b7b9538a7b649f67), Trace(request_id=45f1e7abcc9e4a918d3aa907cbb8f0a1), Trace(request_id=aa439da991554991a0a2ce301f34b27c), Trace(request_id=284f19a0e4bd4f7ab4ec4f36371f47ef), Trace(request_id=1aa36bf64a8d4942abbe0efbf2887210)]"
      ]
     },
     "metadata": {},
     "output_type": "display_data"
    }
   ],
   "source": [
    "original_score = evaluator(react)\n",
    "print(f\"Original score: {original_score}\")"
   ]
  },
  {
   "cell_type": "code",
   "execution_count": 17,
   "id": "04908bc3-acf1-4089-ad76-579b355c0b99",
   "metadata": {
    "height": 47
   },
   "outputs": [
    {
     "name": "stdout",
     "output_type": "stream",
     "text": [
      "Average Metric: 54.00 / 100 (54.0%): 100%|██████████| 100/100 [00:04<00:00, 21.24it/s]"
     ]
    },
    {
     "name": "stderr",
     "output_type": "stream",
     "text": [
      "2025/07/19 20:37:38 INFO dspy.evaluate.evaluate: Average Metric: 54 / 100 (54.0%)\n"
     ]
    },
    {
     "name": "stdout",
     "output_type": "stream",
     "text": [
      "\n"
     ]
    },
    {
     "data": {
      "text/html": [
       "<div>\n",
       "<style scoped>\n",
       "    .dataframe tbody tr th:only-of-type {\n",
       "        vertical-align: middle;\n",
       "    }\n",
       "\n",
       "    .dataframe tbody tr th {\n",
       "        vertical-align: top;\n",
       "    }\n",
       "\n",
       "    .dataframe thead th {\n",
       "        text-align: right;\n",
       "    }\n",
       "</style>\n",
       "<table border=\"1\" class=\"dataframe\">\n",
       "  <thead>\n",
       "    <tr style=\"text-align: right;\">\n",
       "      <th></th>\n",
       "      <th>question</th>\n",
       "      <th>example_answer</th>\n",
       "      <th>trajectory</th>\n",
       "      <th>reasoning</th>\n",
       "      <th>pred_answer</th>\n",
       "      <th>answer_exact_match</th>\n",
       "    </tr>\n",
       "  </thead>\n",
       "  <tbody>\n",
       "    <tr>\n",
       "      <th>0</th>\n",
       "      <td>What movie did \"the king of cool\" play in with Bud Ekins as his st...</td>\n",
       "      <td>\"The Great Escape\"</td>\n",
       "      <td>{'thought_0': 'I need to find out which movie \"the king of cool\" s...</td>\n",
       "      <td>I found that Bud Ekins was Steve McQueen's stunt double in the fil...</td>\n",
       "      <td>The Great Escape</td>\n",
       "      <td>✔️ [True]</td>\n",
       "    </tr>\n",
       "    <tr>\n",
       "      <th>1</th>\n",
       "      <td>whos family had their own reality tv show. Robert Kardashian or Ma...</td>\n",
       "      <td>their family reality television series</td>\n",
       "      <td>{'thought_0': 'I need to find out which family had their own reali...</td>\n",
       "      <td>The Kardashian family, associated with Robert Kardashian, has thei...</td>\n",
       "      <td>Robert Kardashian</td>\n",
       "      <td></td>\n",
       "    </tr>\n",
       "    <tr>\n",
       "      <th>2</th>\n",
       "      <td>Which star in Shadows in Paradise is a Russian ballerina?</td>\n",
       "      <td>Sofya Skya</td>\n",
       "      <td>{'thought_0': 'I need to find out which star in \"Shadows in Paradi...</td>\n",
       "      <td>In my search for the cast of \"Shadows in Paradise,\" I found that t...</td>\n",
       "      <td>Sofya Skya</td>\n",
       "      <td>✔️ [True]</td>\n",
       "    </tr>\n",
       "    <tr>\n",
       "      <th>3</th>\n",
       "      <td>What was the meaning of the name of the man who appointed Amashsai?</td>\n",
       "      <td>comforter</td>\n",
       "      <td>{'thought_0': \"I need to find out who appointed Amashsai and the m...</td>\n",
       "      <td>Amashsai was appointed by Nehemiah, and the name Amasai, which is ...</td>\n",
       "      <td>\"Burdensome\"</td>\n",
       "      <td></td>\n",
       "    </tr>\n",
       "    <tr>\n",
       "      <th>4</th>\n",
       "      <td>In addition to the Austrian passport, what is needed to gain acces...</td>\n",
       "      <td>national identity card</td>\n",
       "      <td>{'thought_0': 'I need to find out what additional requirements are...</td>\n",
       "      <td>The search results indicate that Austrian citizens have visa-free ...</td>\n",
       "      <td>A valid Austrian passport, and potentially a visa or health docume...</td>\n",
       "      <td></td>\n",
       "    </tr>\n",
       "    <tr>\n",
       "      <th>...</th>\n",
       "      <td>...</td>\n",
       "      <td>...</td>\n",
       "      <td>...</td>\n",
       "      <td>...</td>\n",
       "      <td>...</td>\n",
       "      <td>...</td>\n",
       "    </tr>\n",
       "    <tr>\n",
       "      <th>95</th>\n",
       "      <td>What date did the American actress and singer-songwriter, known fo...</td>\n",
       "      <td>April 19, 1994</td>\n",
       "      <td>{'thought_0': 'I need to find out the release date of the first al...</td>\n",
       "      <td>I found that the American actress and singer-songwriter Katey Saga...</td>\n",
       "      <td>April 19, 1994</td>\n",
       "      <td>✔️ [True]</td>\n",
       "    </tr>\n",
       "    <tr>\n",
       "      <th>96</th>\n",
       "      <td>What animated creatures were the title characters of the film whic...</td>\n",
       "      <td>seals</td>\n",
       "      <td>{'thought_0': 'I need to identify the animated creatures that were...</td>\n",
       "      <td>The question pertains to animated creatures that are the title cha...</td>\n",
       "      <td>Fairies (specifically Puck, Titania, and Oberon)</td>\n",
       "      <td></td>\n",
       "    </tr>\n",
       "    <tr>\n",
       "      <th>97</th>\n",
       "      <td>The 1925 Saint Mary's Gaels football team represented what private...</td>\n",
       "      <td>Saint Mary's College of California</td>\n",
       "      <td>{'thought_0': \"I need to find out which private, coeducational col...</td>\n",
       "      <td>The 1925 Saint Mary's Gaels football team represented Saint Mary's...</td>\n",
       "      <td>Saint Mary's College of California</td>\n",
       "      <td>✔️ [True]</td>\n",
       "    </tr>\n",
       "    <tr>\n",
       "      <th>98</th>\n",
       "      <td>Were Dorothy Arzner and Richard Wallace both French film directors?</td>\n",
       "      <td>no</td>\n",
       "      <td>{'thought_0': \"I need to determine if both Dorothy Arzner and Rich...</td>\n",
       "      <td>I found that Dorothy Arzner was an American film director, and Ric...</td>\n",
       "      <td>No, neither Dorothy Arzner nor Richard Wallace were French film di...</td>\n",
       "      <td></td>\n",
       "    </tr>\n",
       "    <tr>\n",
       "      <th>99</th>\n",
       "      <td>Which artist started recording/performing earlier David Donato or ...</td>\n",
       "      <td>Moya Brennan</td>\n",
       "      <td>{'thought_0': 'I need to find out the recording or performing hist...</td>\n",
       "      <td>Moya Brennan began performing professionally in 1970 with the band...</td>\n",
       "      <td>Moya Brennan</td>\n",
       "      <td>✔️ [True]</td>\n",
       "    </tr>\n",
       "  </tbody>\n",
       "</table>\n",
       "<p>100 rows × 6 columns</p>\n",
       "</div>"
      ],
      "text/plain": [
       "                                                                 question  \\\n",
       "0   What movie did \"the king of cool\" play in with Bud Ekins as his st...   \n",
       "1   whos family had their own reality tv show. Robert Kardashian or Ma...   \n",
       "2               Which star in Shadows in Paradise is a Russian ballerina?   \n",
       "3     What was the meaning of the name of the man who appointed Amashsai?   \n",
       "4   In addition to the Austrian passport, what is needed to gain acces...   \n",
       "..                                                                    ...   \n",
       "95  What date did the American actress and singer-songwriter, known fo...   \n",
       "96  What animated creatures were the title characters of the film whic...   \n",
       "97  The 1925 Saint Mary's Gaels football team represented what private...   \n",
       "98    Were Dorothy Arzner and Richard Wallace both French film directors?   \n",
       "99  Which artist started recording/performing earlier David Donato or ...   \n",
       "\n",
       "                            example_answer  \\\n",
       "0                       \"The Great Escape\"   \n",
       "1   their family reality television series   \n",
       "2                               Sofya Skya   \n",
       "3                                comforter   \n",
       "4                   national identity card   \n",
       "..                                     ...   \n",
       "95                          April 19, 1994   \n",
       "96                                   seals   \n",
       "97      Saint Mary's College of California   \n",
       "98                                      no   \n",
       "99                            Moya Brennan   \n",
       "\n",
       "                                                               trajectory  \\\n",
       "0   {'thought_0': 'I need to find out which movie \"the king of cool\" s...   \n",
       "1   {'thought_0': 'I need to find out which family had their own reali...   \n",
       "2   {'thought_0': 'I need to find out which star in \"Shadows in Paradi...   \n",
       "3   {'thought_0': \"I need to find out who appointed Amashsai and the m...   \n",
       "4   {'thought_0': 'I need to find out what additional requirements are...   \n",
       "..                                                                    ...   \n",
       "95  {'thought_0': 'I need to find out the release date of the first al...   \n",
       "96  {'thought_0': 'I need to identify the animated creatures that were...   \n",
       "97  {'thought_0': \"I need to find out which private, coeducational col...   \n",
       "98  {'thought_0': \"I need to determine if both Dorothy Arzner and Rich...   \n",
       "99  {'thought_0': 'I need to find out the recording or performing hist...   \n",
       "\n",
       "                                                                reasoning  \\\n",
       "0   I found that Bud Ekins was Steve McQueen's stunt double in the fil...   \n",
       "1   The Kardashian family, associated with Robert Kardashian, has thei...   \n",
       "2   In my search for the cast of \"Shadows in Paradise,\" I found that t...   \n",
       "3   Amashsai was appointed by Nehemiah, and the name Amasai, which is ...   \n",
       "4   The search results indicate that Austrian citizens have visa-free ...   \n",
       "..                                                                    ...   \n",
       "95  I found that the American actress and singer-songwriter Katey Saga...   \n",
       "96  The question pertains to animated creatures that are the title cha...   \n",
       "97  The 1925 Saint Mary's Gaels football team represented Saint Mary's...   \n",
       "98  I found that Dorothy Arzner was an American film director, and Ric...   \n",
       "99  Moya Brennan began performing professionally in 1970 with the band...   \n",
       "\n",
       "                                                              pred_answer  \\\n",
       "0                                                        The Great Escape   \n",
       "1                                                       Robert Kardashian   \n",
       "2                                                              Sofya Skya   \n",
       "3                                                            \"Burdensome\"   \n",
       "4   A valid Austrian passport, and potentially a visa or health docume...   \n",
       "..                                                                    ...   \n",
       "95                                                         April 19, 1994   \n",
       "96                       Fairies (specifically Puck, Titania, and Oberon)   \n",
       "97                                     Saint Mary's College of California   \n",
       "98  No, neither Dorothy Arzner nor Richard Wallace were French film di...   \n",
       "99                                                           Moya Brennan   \n",
       "\n",
       "   answer_exact_match  \n",
       "0           ✔️ [True]  \n",
       "1                      \n",
       "2           ✔️ [True]  \n",
       "3                      \n",
       "4                      \n",
       "..                ...  \n",
       "95          ✔️ [True]  \n",
       "96                     \n",
       "97          ✔️ [True]  \n",
       "98                     \n",
       "99          ✔️ [True]  \n",
       "\n",
       "[100 rows x 6 columns]"
      ]
     },
     "metadata": {},
     "output_type": "display_data"
    },
    {
     "name": "stdout",
     "output_type": "stream",
     "text": [
      "🏃 View run debonair-pug-783 at: https://s172-29-90-91p8080.lab-aws-production.deeplearning.ai//#/experiments/368932023392433418/runs/c294bdb5a1fe4d9b932b8e571251515c\n",
      "🧪 View experiment at: https://s172-29-90-91p8080.lab-aws-production.deeplearning.ai//#/experiments/368932023392433418\n",
      "Optimized score: 54.0\n"
     ]
    },
    {
     "data": {
      "text/html": [
       "\n",
       "<div>\n",
       "  <style scoped>\n",
       "  button {\n",
       "    border: none;\n",
       "    border-radius: 4px;\n",
       "    background-color: rgb(34, 114, 180);\n",
       "    font-family: -apple-system, \"system-ui\", \"Segoe UI\", Roboto, \"Helvetica Neue\", Arial;\n",
       "    font-size: 13px;\n",
       "    color: white;\n",
       "    margin-top: 8px;\n",
       "    margin-bottom: 8px;\n",
       "    padding: 8px 16px;\n",
       "    cursor: pointer;\n",
       "  }\n",
       "  button:hover {\n",
       "    background-color: rgb(66, 153, 224);\n",
       "  }\n",
       "  </style>\n",
       "  <button\n",
       "    onclick=\"\n",
       "        const display = this.nextElementSibling.style.display;\n",
       "        const isCollapsed = display === 'none';\n",
       "        this.nextElementSibling.style.display = isCollapsed ? null : 'none';\n",
       "\n",
       "        const verb = isCollapsed ? 'Collapse' : 'Expand';\n",
       "        this.innerText = `${verb} MLflow Trace`;\n",
       "    \"\n",
       "  >Collapse MLflow Trace</button>\n",
       "  <iframe\n",
       "    id=\"trace-renderer\"\n",
       "    style=\"width: 100%; height: 500px; border: none; resize: vertical;\"\n",
       "    src=\"https://s172-29-90-91p8080.lab-aws-production.deeplearning.ai/static-files/lib/notebook-trace-renderer/index.html?trace_id=7a0cdbc7dd3842f8abbe4caeaa26f5c5&amp;experiment_id=368932023392433418&amp;trace_id=fee34d51e22e4518bc85ed85e75296dd&amp;experiment_id=368932023392433418&amp;trace_id=a6851acb2c8a49658598b1db09f55be9&amp;experiment_id=368932023392433418&amp;trace_id=774033e673b848be87839874921e80fd&amp;experiment_id=368932023392433418&amp;trace_id=1b0a1b07bf2d4e82ac2ea17cae7ea64b&amp;experiment_id=368932023392433418&amp;trace_id=dc77f3846bd44c8293ea8270f152fdfb&amp;experiment_id=368932023392433418&amp;trace_id=e2881f6bcb46477ca21a677472f63f92&amp;experiment_id=368932023392433418&amp;trace_id=ddf78bb4a7244b4f92d136cc89cf1ed6&amp;experiment_id=368932023392433418&amp;trace_id=4161f58a94e74ff6b179769159437112&amp;experiment_id=368932023392433418&amp;trace_id=411ac8833f8c46798ce5964d723e0e8d&amp;experiment_id=368932023392433418&amp;version=2.21.3\"\n",
       "  />\n",
       "</div>\n"
      ],
      "text/plain": [
       "[Trace(request_id=7a0cdbc7dd3842f8abbe4caeaa26f5c5), Trace(request_id=fee34d51e22e4518bc85ed85e75296dd), Trace(request_id=a6851acb2c8a49658598b1db09f55be9), Trace(request_id=774033e673b848be87839874921e80fd), Trace(request_id=1b0a1b07bf2d4e82ac2ea17cae7ea64b), Trace(request_id=dc77f3846bd44c8293ea8270f152fdfb), Trace(request_id=e2881f6bcb46477ca21a677472f63f92), Trace(request_id=ddf78bb4a7244b4f92d136cc89cf1ed6), Trace(request_id=4161f58a94e74ff6b179769159437112), Trace(request_id=411ac8833f8c46798ce5964d723e0e8d)]"
      ]
     },
     "metadata": {},
     "output_type": "display_data"
    }
   ],
   "source": [
    "optimized_score = evaluator(optimized_react)\n",
    "print(f\"Optimized score: {optimized_score}\")"
   ]
  },
  {
   "cell_type": "code",
   "execution_count": null,
   "id": "26f909c3-c4b3-45d9-9723-5262cda7385d",
   "metadata": {
    "height": 30
   },
   "outputs": [],
   "source": []
  },
  {
   "cell_type": "code",
   "execution_count": null,
   "id": "33ad44e3-1c4e-44f0-bea8-d0a0c97942ff",
   "metadata": {
    "height": 30
   },
   "outputs": [],
   "source": []
  },
  {
   "cell_type": "code",
   "execution_count": null,
   "id": "16f6e622-4ed5-48ca-9846-0272f0688638",
   "metadata": {
    "height": 30
   },
   "outputs": [],
   "source": []
  },
  {
   "cell_type": "code",
   "execution_count": null,
   "id": "a424f60c-25b4-47ab-a16f-18a18f682f54",
   "metadata": {
    "height": 30
   },
   "outputs": [],
   "source": []
  },
  {
   "cell_type": "code",
   "execution_count": null,
   "id": "8dd42552-380a-4691-9438-66a00d0464ef",
   "metadata": {
    "height": 30
   },
   "outputs": [],
   "source": []
  },
  {
   "cell_type": "code",
   "execution_count": null,
   "id": "ccd4ff3d-b390-4f8e-81e2-4164aca4f728",
   "metadata": {
    "height": 30
   },
   "outputs": [],
   "source": []
  },
  {
   "cell_type": "code",
   "execution_count": null,
   "id": "a9d39963-d05e-49d9-95b4-4d49b3c9b8e3",
   "metadata": {
    "height": 30
   },
   "outputs": [],
   "source": []
  },
  {
   "cell_type": "code",
   "execution_count": null,
   "id": "9ae05563-3668-44d9-94ba-e2b498b1b559",
   "metadata": {
    "height": 30
   },
   "outputs": [],
   "source": []
  }
 ],
 "metadata": {
  "kernelspec": {
   "display_name": "Python 3 (ipykernel)",
   "language": "python",
   "name": "python3"
  },
  "language_info": {
   "codemirror_mode": {
    "name": "ipython",
    "version": 3
   },
   "file_extension": ".py",
   "mimetype": "text/x-python",
   "name": "python",
   "nbconvert_exporter": "python",
   "pygments_lexer": "ipython3",
   "version": "3.11.3"
  }
 },
 "nbformat": 4,
 "nbformat_minor": 5
}
