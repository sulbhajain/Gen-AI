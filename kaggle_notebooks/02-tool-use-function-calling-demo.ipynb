{
 "cells": [
  {
   "cell_type": "markdown",
   "metadata": {},
   "source": [
    "# Function Calling with OpenAI's API: From Execution to Data Extraction\n",
    "\n",
    "This notebook explores function calling with OpenAI's API, demonstrating both explicit function execution and structured data extraction. \n",
    "\n",
    "# Tool Use with OpenAI Functions\n",
    "\n",
    "This notebook demonstrates how to use OpenAI's function calling capabilities for:\n",
    "- ✅ Executing real-world tools (e.g., fetching weather data)\n",
    "- ✅ Extracting structured data from unstructured text (e.g., parsing LinkedIn profiles)\n",
    "\n",
    "We cover three approaches to structured extraction:\n",
    "1. Traditional function schemas\n",
    "2. JSON mode with `response_format`\n",
    "3. Beta parsing with `pydantic`\n",
    "\n",
    "Includes examples of tool definition, execution, and message flow in the OpenAI chat API.\n",
    "\n",
    "## Part 1: Explicit Function Execution\n",
    "The notebook begins with a weather API example that demonstrates a crucial aspect of function calling: explicit execution. When using function calling to actually perform actions (like getting weather data), you need to:\n",
    "1. Define the function structure for the model\n",
    "2. Let the model decide when to call it\n",
    "3. **Explicitly execute** the function yourself with the model's parameters\n",
    "4. Feed the results back to the model\n",
    "\n",
    "This weather example shows how to:\n",
    "- Define a real function (`get_weather`)\n",
    "- Let the model choose to call it with coordinates\n",
    "- Actually execute the weather API call\n",
    "- Return the results to the model for final response formatting\n",
    "\n",
    "This pattern is essential when using function calling for real actions rather than just data structuring.\n",
    "\n"
   ]
  },
  {
   "cell_type": "code",
   "execution_count": 4,
   "metadata": {},
   "outputs": [],
   "source": [
    "!pip install -q openai"
   ]
  },
  {
   "cell_type": "code",
   "execution_count": null,
   "metadata": {},
   "outputs": [],
   "source": [
    "import os\n",
    "os.environ['OPENAI_API_KEY'] = 'XXX'"
   ]
  },
  {
   "cell_type": "code",
   "execution_count": 6,
   "metadata": {},
   "outputs": [],
   "source": [
    "import requests\n",
    "\n",
    "def get_weather(latitude, longitude):\n",
    "    response = requests.get(f\"https://api.open-meteo.com/v1/forecast?latitude={latitude}&longitude={longitude}&current=temperature_2m,wind_speed_10m&hourly=temperature_2m,relative_humidity_2m,wind_speed_10m\")\n",
    "    data = response.json()\n",
    "    return data['current']['temperature_2m']"
   ]
  },
  {
   "cell_type": "code",
   "execution_count": 8,
   "metadata": {},
   "outputs": [],
   "source": [
    "from openai import OpenAI\n",
    "import json\n",
    "\n",
    "client = OpenAI()\n",
    "\n",
    "tools = [{\n",
    "    \"type\": \"function\",\n",
    "    \"function\": {\n",
    "        \"name\": \"get_weather\",\n",
    "        \"description\": \"Get current temperature for provided coordinates in celsius.\",\n",
    "        \"parameters\": {\n",
    "            \"type\": \"object\",\n",
    "            \"properties\": {\n",
    "                \"latitude\": {\"type\": \"number\"},\n",
    "                \"longitude\": {\"type\": \"number\"}\n",
    "            },\n",
    "            \"required\": [\"latitude\", \"longitude\"],\n",
    "            \"additionalProperties\": False\n",
    "        },\n",
    "        \"strict\": True\n",
    "    }\n",
    "}]\n",
    "\n",
    "messages = [{\"role\": \"user\", \"content\": \"What's the weather like in Sydney today?\"}]\n",
    "\n",
    "completion = client.chat.completions.create(\n",
    "    model=\"gpt-4o\",\n",
    "    messages=messages,\n",
    "    tools=tools,\n",
    ")"
   ]
  },
  {
   "cell_type": "code",
   "execution_count": 9,
   "metadata": {},
   "outputs": [
    {
     "data": {
      "text/plain": [
       "[ChatCompletionMessageFunctionToolCall(id='call_O65R7EQQxpDqyBj9vuzOXnSR', function=Function(arguments='{\"latitude\":-33.865143,\"longitude\":151.2099}', name='get_weather'), type='function')]"
      ]
     },
     "execution_count": 9,
     "metadata": {},
     "output_type": "execute_result"
    }
   ],
   "source": [
    "completion.choices[0].message.tool_calls"
   ]
  },
  {
   "cell_type": "code",
   "execution_count": 10,
   "metadata": {},
   "outputs": [],
   "source": [
    "tool_call = completion.choices[0].message.tool_calls[0]\n",
    "args = json.loads(tool_call.function.arguments)\n",
    "\n",
    "result = get_weather(args[\"latitude\"], args[\"longitude\"])"
   ]
  },
  {
   "cell_type": "code",
   "execution_count": 11,
   "metadata": {},
   "outputs": [],
   "source": [
    "messages.append(completion.choices[0].message)  # append model's function call message\n",
    "messages.append({\n",
    "    \"role\": \"tool\",\n",
    "    \"tool_call_id\": tool_call.id,\n",
    "    \"content\": str(result)  # Convert to string\n",
    "})\n",
    "\n",
    "completion_2 = client.chat.completions.create(\n",
    "    model=\"gpt-4o\",\n",
    "    messages=messages,\n",
    "    tools=tools,\n",
    ")"
   ]
  },
  {
   "cell_type": "code",
   "execution_count": 12,
   "metadata": {},
   "outputs": [
    {
     "data": {
      "text/plain": [
       "'The current temperature in Sydney is 21°C.'"
      ]
     },
     "execution_count": 12,
     "metadata": {},
     "output_type": "execute_result"
    }
   ],
   "source": [
    "completion_2.choices[0].message.content"
   ]
  },
  {
   "cell_type": "markdown",
   "metadata": {},
   "source": [
    "## 2. Function Calling with OpenAI's API: From Execution to Data Extraction#\n",
    "\n",
    "While the weather example showed function calling for actual execution, these next examples demonstrate three ways to use OpenAI's function calling capabilities purely for structured data extraction. Each builds on the core concept of function calling but offers different patterns for implementation.\n",
    "\n",
    "### 1. Traditional Function Calling\n",
    "The original and most flexible approach, where we:\n",
    "- Define a function schema that describes our desired structure\n",
    "- Have the model provide arguments matching that schema\n",
    "- Get structured data without actually executing any function\n",
    "\n",
    "Best for:\n",
    "- Complex data structures\n",
    "- When you need fine-grained control\n",
    "- Multi-step extraction processes\n",
    "- Production environments needing robust validation\n",
    "\n",
    "### 2. JSON Mode Response Format\n",
    "A streamlined version of function calling that:\n",
    "- Removes the function definition overhead\n",
    "- Still ensures structured output\n",
    "- Uses a simpler response_format parameter\n",
    "- Maintains JSON compliance\n",
    "\n",
    "Perfect for:\n",
    "- Simple data extraction tasks\n",
    "- When you want function calling's structure with less setup\n",
    "- Rapid prototyping\n",
    "- Straightforward schema requirements\n",
    "\n",
    "### 3. Beta Parsing with Pydantic\n",
    "An experimental approach that:\n",
    "- Combines function calling with Pydantic validation\n",
    "- Provides automatic type checking\n",
    "- Offers a more Pythonic interface\n",
    "- Simplifies the extraction-to-object pipeline\n",
    "\n",
    "Ideal for:\n",
    "- Python-native development\n",
    "- When you want automatic type validation\n",
    "- Projects already using Pydantic\n",
    "- Quick prototypes needing type safety\n",
    "\n",
    "## Key Considerations\n",
    "\n",
    "Remember:\n",
    "- Traditional function calling offers the most control but requires more setup\n",
    "- JSON mode simplifies things but may sacrifice some flexibility\n",
    "- Beta features like Pydantic parsing might change in future versions\n",
    "- Choose based on your needs for validation, type safety, and development speed"
   ]
  },
  {
   "cell_type": "code",
   "execution_count": 13,
   "metadata": {},
   "outputs": [
    {
     "name": "stdout",
     "output_type": "stream",
     "text": [
      "{\n",
      "  \"name\": \"John Doe\",\n",
      "  \"current_position\": \"Software Engineer at TechCorp Inc.\",\n",
      "  \"location\": \"San Francisco, California\",\n",
      "  \"previous_positions\": [\n",
      "    \"Backend Developer at CodeWorks LLC\",\n",
      "    \"Junior Developer at Webify Solutions\"\n",
      "  ],\n",
      "  \"skills\": [\n",
      "    \"Python\",\n",
      "    \"Java\",\n",
      "    \"Docker\",\n",
      "    \"Kubernetes\",\n",
      "    \"Cloud Architecture\"\n",
      "  ]\n",
      "}\n"
     ]
    }
   ],
   "source": [
    "from openai import OpenAI\n",
    "import json\n",
    "\n",
    "client = OpenAI()\n",
    "\n",
    "# Unstructured text input\n",
    "unstructured_text = \"\"\"\n",
    "John Doe is a Software Engineer at TechCorp Inc., based in San Francisco, California. \n",
    "Previously, he worked as a Backend Developer at CodeWorks LLC and as a Junior Developer at Webify Solutions. \n",
    "He has skills in Python, Java, Docker, Kubernetes, and Cloud Architecture.\n",
    "\"\"\"\n",
    "\n",
    "# Define tools for function calling\n",
    "tools = [\n",
    "    {\n",
    "        \"type\": \"function\",\n",
    "        \"function\": {\n",
    "            \"name\": \"extract_linkedin_profile\",\n",
    "            \"description\": \"Extract structured information from a LinkedIn profile\",\n",
    "            \"parameters\": {\n",
    "                \"type\": \"object\",\n",
    "                \"properties\": {\n",
    "                    \"name\": {\"type\": \"string\"},\n",
    "                    \"current_position\": {\"type\": \"string\"},\n",
    "                    \"location\": {\"type\": \"string\"},\n",
    "                    \"previous_positions\": {\"type\": \"array\", \"items\": {\"type\": \"string\"}},\n",
    "                    \"skills\": {\"type\": \"array\", \"items\": {\"type\": \"string\"}}\n",
    "                },\n",
    "                \"required\": [\"name\", \"current_position\", \"location\", \"previous_positions\", \"skills\"]\n",
    "            }\n",
    "        }\n",
    "    }\n",
    "]\n",
    "\n",
    "# Extract structured data using function calling\n",
    "response = client.chat.completions.create(\n",
    "    model=\"gpt-4o\",\n",
    "    messages=[\n",
    "        {\"role\": \"system\", \"content\": \"Extract structured information from the LinkedIn profile text\"},\n",
    "        {\"role\": \"user\", \"content\": unstructured_text}\n",
    "    ],\n",
    "    tools=tools,\n",
    "    tool_choice={\"type\": \"function\", \"function\": {\"name\": \"extract_linkedin_profile\"}}\n",
    ")\n",
    "\n",
    "# Extract the function call arguments\n",
    "function_call = response.choices[0].message.tool_calls[0]\n",
    "linkedin_profile = json.loads(function_call.function.arguments)\n",
    "\n",
    "# Print the extracted profile\n",
    "print(json.dumps(linkedin_profile, indent=2))"
   ]
  },
  {
   "cell_type": "code",
   "execution_count": 14,
   "metadata": {},
   "outputs": [
    {
     "name": "stdout",
     "output_type": "stream",
     "text": [
      "{\n",
      "  \"name\": \"John Doe\",\n",
      "  \"current_position\": \"Software Engineer at TechCorp Inc.\",\n",
      "  \"location\": \"San Francisco, California\",\n",
      "  \"previous_positions\": [\n",
      "    \"Backend Developer at CodeWorks LLC\",\n",
      "    \"Junior Developer at Webify Solutions\"\n",
      "  ],\n",
      "  \"skills\": [\n",
      "    \"Python\",\n",
      "    \"Java\",\n",
      "    \"Docker\",\n",
      "    \"Kubernetes\",\n",
      "    \"Cloud Architecture\"\n",
      "  ]\n",
      "}\n"
     ]
    }
   ],
   "source": [
    "from pydantic import BaseModel\n",
    "from openai import OpenAI\n",
    "\n",
    "client = OpenAI()\n",
    "\n",
    "class LinkedInProfile(BaseModel):\n",
    "    name: str\n",
    "    current_position: str\n",
    "    location: str\n",
    "    previous_positions: list[str]\n",
    "    skills: list[str]\n",
    "\n",
    "# Unstructured text input\n",
    "unstructured_text = \"\"\"\n",
    "John Doe is a Software Engineer at TechCorp Inc., based in San Francisco, California. \n",
    "Previously, he worked as a Backend Developer at CodeWorks LLC and as a Junior Developer at Webify Solutions. \n",
    "He has skills in Python, Java, Docker, Kubernetes, and Cloud Architecture.\n",
    "\"\"\"\n",
    "\n",
    "# Extract structured data using Pydantic parsing\n",
    "completion = client.beta.chat.completions.parse(\n",
    "    model=\"gpt-4o\",\n",
    "    messages=[\n",
    "        {\"role\": \"system\", \"content\": \"You are an expert at extracting structured data from a LinkedIn profile.\"},\n",
    "        {\"role\": \"user\", \"content\": unstructured_text}\n",
    "    ],\n",
    "    response_format=LinkedInProfile,\n",
    ")\n",
    "\n",
    "# Access the parsed profile\n",
    "linkedin_profile = completion.choices[0].message.parsed\n",
    "\n",
    "# Print the extracted profile\n",
    "print(linkedin_profile.model_dump_json(indent=2))"
   ]
  },
  {
   "cell_type": "code",
   "execution_count": 15,
   "metadata": {},
   "outputs": [
    {
     "name": "stdout",
     "output_type": "stream",
     "text": [
      "{\n",
      "  \"name\": \"John Doe\",\n",
      "  \"current_position\": \"Software Engineer at TechCorp Inc.\",\n",
      "  \"location\": \"San Francisco, California\",\n",
      "  \"previous_positions\": [\n",
      "    \"Backend Developer at CodeWorks LLC\",\n",
      "    \"Junior Developer at Webify Solutions\"\n",
      "  ],\n",
      "  \"skills\": [\n",
      "    \"Python\",\n",
      "    \"Java\",\n",
      "    \"Docker\",\n",
      "    \"Kubernetes\",\n",
      "    \"Cloud Architecture\"\n",
      "  ]\n",
      "}\n"
     ]
    }
   ],
   "source": [
    "from openai import OpenAI\n",
    "import json\n",
    "\n",
    "client = OpenAI()\n",
    "\n",
    "# Unstructured text input\n",
    "unstructured_text = \"\"\"\n",
    "John Doe is a Software Engineer at TechCorp Inc., based in San Francisco, California. \n",
    "Previously, he worked as a Backend Developer at CodeWorks LLC and as a Junior Developer at Webify Solutions. \n",
    "He has skills in Python, Java, Docker, Kubernetes, and Cloud Architecture.\n",
    "\"\"\"\n",
    "\n",
    "# Extract structured data using JSON mode\n",
    "response = client.chat.completions.create(\n",
    "    model=\"gpt-4o\",\n",
    "    messages=[\n",
    "        {\"role\": \"system\", \"content\": \"Extract the LinkedIn profile information in a structured JSON format with these keys: name, current_position, location, previous_positions, skills\"},\n",
    "        {\"role\": \"user\", \"content\": unstructured_text}\n",
    "    ],\n",
    "    response_format={\"type\": \"json_object\"}\n",
    ")\n",
    "\n",
    "# Parse the JSON response\n",
    "linkedin_profile = json.loads(response.choices[0].message.content)\n",
    "\n",
    "# Print the extracted profile\n",
    "print(json.dumps(linkedin_profile, indent=2))"
   ]
  },
  {
   "cell_type": "code",
   "execution_count": null,
   "metadata": {},
   "outputs": [],
   "source": []
  },
  {
   "cell_type": "code",
   "execution_count": null,
   "metadata": {},
   "outputs": [],
   "source": []
  }
 ],
 "metadata": {
  "kernelspec": {
   "display_name": "Python 3",
   "language": "python",
   "name": "python3"
  },
  "language_info": {
   "codemirror_mode": {
    "name": "ipython",
    "version": 3
   },
   "file_extension": ".py",
   "mimetype": "text/x-python",
   "name": "python",
   "nbconvert_exporter": "python",
   "pygments_lexer": "ipython3",
   "version": "3.12.4"
  }
 },
 "nbformat": 4,
 "nbformat_minor": 2
}
